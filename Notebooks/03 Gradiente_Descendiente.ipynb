{
 "cells": [
  {
   "cell_type": "markdown",
   "metadata": {},
   "source": [
    "# GD en el perceptrón\n",
    "\n",
    "El método de gradiente descendiente es un método de optimización que se basa en observar el gradiente de una función (idealmente convexa, aunque muchas veces no se tiene esto) para encontrar el mínimo de esta función. Aquí veremos cómo se puede aplicar este método al perceptrón."
   ]
  },
  {
   "cell_type": "code",
   "execution_count": 1,
   "metadata": {},
   "outputs": [],
   "source": [
    "import pandas as pd\n",
    "import numpy as np\n",
    "import matplotlib.pyplot as plt"
   ]
  },
  {
   "cell_type": "markdown",
   "metadata": {},
   "source": [
    "## Preparación de los datos\n",
    "\n",
    "Trabajaremos con un dataset de clasificación binaria. Cada dato de entrada será un vector $x \\in \\mathbb{R}^7$, donde cada entrada representa una variable aleatoria que describe al objeto. El objetivo será clasificar los datos en clase 1 (gato) o clase 0 (no gato)."
   ]
  },
  {
   "cell_type": "code",
   "execution_count": 2,
   "metadata": {},
   "outputs": [
    {
     "data": {
      "text/html": [
       "<div>\n",
       "<style scoped>\n",
       "    .dataframe tbody tr th:only-of-type {\n",
       "        vertical-align: middle;\n",
       "    }\n",
       "\n",
       "    .dataframe tbody tr th {\n",
       "        vertical-align: top;\n",
       "    }\n",
       "\n",
       "    .dataframe thead th {\n",
       "        text-align: right;\n",
       "    }\n",
       "</style>\n",
       "<table border=\"1\" class=\"dataframe\">\n",
       "  <thead>\n",
       "    <tr style=\"text-align: right;\">\n",
       "      <th></th>\n",
       "      <th>¿es animal?</th>\n",
       "      <th>¿es mamífero?</th>\n",
       "      <th>¿es felino?</th>\n",
       "      <th>¿es doméstico?</th>\n",
       "      <th>¿tiene dos orejas?</th>\n",
       "      <th>¿es negro?</th>\n",
       "      <th>¿tiene cuatro patas?</th>\n",
       "      <th>¿es gato?</th>\n",
       "    </tr>\n",
       "  </thead>\n",
       "  <tbody>\n",
       "    <tr>\n",
       "      <th>0</th>\n",
       "      <td>1</td>\n",
       "      <td>1</td>\n",
       "      <td>1</td>\n",
       "      <td>1</td>\n",
       "      <td>1</td>\n",
       "      <td>1</td>\n",
       "      <td>1</td>\n",
       "      <td>1</td>\n",
       "    </tr>\n",
       "    <tr>\n",
       "      <th>1</th>\n",
       "      <td>0</td>\n",
       "      <td>0</td>\n",
       "      <td>0</td>\n",
       "      <td>1</td>\n",
       "      <td>0</td>\n",
       "      <td>1</td>\n",
       "      <td>0</td>\n",
       "      <td>0</td>\n",
       "    </tr>\n",
       "    <tr>\n",
       "      <th>2</th>\n",
       "      <td>1</td>\n",
       "      <td>0</td>\n",
       "      <td>1</td>\n",
       "      <td>1</td>\n",
       "      <td>0</td>\n",
       "      <td>1</td>\n",
       "      <td>1</td>\n",
       "      <td>0</td>\n",
       "    </tr>\n",
       "    <tr>\n",
       "      <th>3</th>\n",
       "      <td>1</td>\n",
       "      <td>1</td>\n",
       "      <td>0</td>\n",
       "      <td>1</td>\n",
       "      <td>1</td>\n",
       "      <td>0</td>\n",
       "      <td>1</td>\n",
       "      <td>0</td>\n",
       "    </tr>\n",
       "    <tr>\n",
       "      <th>4</th>\n",
       "      <td>1</td>\n",
       "      <td>1</td>\n",
       "      <td>1</td>\n",
       "      <td>0</td>\n",
       "      <td>1</td>\n",
       "      <td>0</td>\n",
       "      <td>1</td>\n",
       "      <td>0</td>\n",
       "    </tr>\n",
       "    <tr>\n",
       "      <th>5</th>\n",
       "      <td>1</td>\n",
       "      <td>1</td>\n",
       "      <td>1</td>\n",
       "      <td>1</td>\n",
       "      <td>0</td>\n",
       "      <td>0</td>\n",
       "      <td>0</td>\n",
       "      <td>1</td>\n",
       "    </tr>\n",
       "    <tr>\n",
       "      <th>6</th>\n",
       "      <td>1</td>\n",
       "      <td>0</td>\n",
       "      <td>0</td>\n",
       "      <td>1</td>\n",
       "      <td>1</td>\n",
       "      <td>1</td>\n",
       "      <td>0</td>\n",
       "      <td>0</td>\n",
       "    </tr>\n",
       "    <tr>\n",
       "      <th>7</th>\n",
       "      <td>1</td>\n",
       "      <td>1</td>\n",
       "      <td>1</td>\n",
       "      <td>1</td>\n",
       "      <td>0</td>\n",
       "      <td>0</td>\n",
       "      <td>1</td>\n",
       "      <td>1</td>\n",
       "    </tr>\n",
       "    <tr>\n",
       "      <th>8</th>\n",
       "      <td>1</td>\n",
       "      <td>0</td>\n",
       "      <td>0</td>\n",
       "      <td>1</td>\n",
       "      <td>0</td>\n",
       "      <td>0</td>\n",
       "      <td>0</td>\n",
       "      <td>0</td>\n",
       "    </tr>\n",
       "    <tr>\n",
       "      <th>9</th>\n",
       "      <td>0</td>\n",
       "      <td>0</td>\n",
       "      <td>0</td>\n",
       "      <td>0</td>\n",
       "      <td>0</td>\n",
       "      <td>0</td>\n",
       "      <td>0</td>\n",
       "      <td>0</td>\n",
       "    </tr>\n",
       "    <tr>\n",
       "      <th>10</th>\n",
       "      <td>1</td>\n",
       "      <td>1</td>\n",
       "      <td>1</td>\n",
       "      <td>0</td>\n",
       "      <td>1</td>\n",
       "      <td>1</td>\n",
       "      <td>1</td>\n",
       "      <td>0</td>\n",
       "    </tr>\n",
       "    <tr>\n",
       "      <th>11</th>\n",
       "      <td>1</td>\n",
       "      <td>1</td>\n",
       "      <td>1</td>\n",
       "      <td>0</td>\n",
       "      <td>1</td>\n",
       "      <td>0</td>\n",
       "      <td>1</td>\n",
       "      <td>0</td>\n",
       "    </tr>\n",
       "    <tr>\n",
       "      <th>12</th>\n",
       "      <td>1</td>\n",
       "      <td>1</td>\n",
       "      <td>1</td>\n",
       "      <td>1</td>\n",
       "      <td>1</td>\n",
       "      <td>0</td>\n",
       "      <td>1</td>\n",
       "      <td>1</td>\n",
       "    </tr>\n",
       "    <tr>\n",
       "      <th>13</th>\n",
       "      <td>1</td>\n",
       "      <td>1</td>\n",
       "      <td>1</td>\n",
       "      <td>1</td>\n",
       "      <td>1</td>\n",
       "      <td>0</td>\n",
       "      <td>0</td>\n",
       "      <td>1</td>\n",
       "    </tr>\n",
       "  </tbody>\n",
       "</table>\n",
       "</div>"
      ],
      "text/plain": [
       "    ¿es animal?   ¿es mamífero?   ¿es felino?   ¿es doméstico?  \\\n",
       "0             1               1             1                1   \n",
       "1             0               0             0                1   \n",
       "2             1               0             1                1   \n",
       "3             1               1             0                1   \n",
       "4             1               1             1                0   \n",
       "5             1               1             1                1   \n",
       "6             1               0             0                1   \n",
       "7             1               1             1                1   \n",
       "8             1               0             0                1   \n",
       "9             0               0             0                0   \n",
       "10            1               1             1                0   \n",
       "11            1               1             1                0   \n",
       "12            1               1             1                1   \n",
       "13            1               1             1                1   \n",
       "\n",
       "     ¿tiene dos orejas?   ¿es negro?   ¿tiene cuatro patas?   ¿es gato?  \n",
       "0                     1            1                      1           1  \n",
       "1                     0            1                      0           0  \n",
       "2                     0            1                      1           0  \n",
       "3                     1            0                      1           0  \n",
       "4                     1            0                      1           0  \n",
       "5                     0            0                      0           1  \n",
       "6                     1            1                      0           0  \n",
       "7                     0            0                      1           1  \n",
       "8                     0            0                      0           0  \n",
       "9                     0            0                      0           0  \n",
       "10                    1            1                      1           0  \n",
       "11                    1            0                      1           0  \n",
       "12                    1            0                      1           1  \n",
       "13                    1            0                      0           1  "
      ]
     },
     "execution_count": 2,
     "metadata": {},
     "output_type": "execute_result"
    }
   ],
   "source": [
    "data = pd.read_csv('cat_data.csv')\n",
    "data"
   ]
  },
  {
   "cell_type": "markdown",
   "metadata": {},
   "source": [
    "Obtendremos el conjunto de datos $X$, compuesto de los vectores de entrenamiento y sus clases $Y$. De esta forma, trabajaremos con un conjunto supervisado:\n",
    "\n",
    "$$\\mathcal{S} = \\{(x,y) : x\\in\\mathbb{R}^7, y \\in\\{0,1\\}\\}$$"
   ]
  },
  {
   "cell_type": "code",
   "execution_count": 3,
   "metadata": {},
   "outputs": [],
   "source": [
    "#Convertir los datos a numpy\n",
    "npData = data.to_numpy()\n",
    "#Ejemplos\n",
    "X = npData[:,:-1]\n",
    "#Clases de los ejemplos\n",
    "Y = npData[:,-1]\n",
    "\n",
    "#Tamaño de los datos\n",
    "#Unidades de entrada\n",
    "m,n = X.shape"
   ]
  },
  {
   "cell_type": "markdown",
   "metadata": {},
   "source": [
    "## Aprendizaje por GD\n",
    "\n",
    "Para aplicar el algoritmo de gradiente descendiente, necesitamos determinar la arquitectura de la red; como hemos señalado se tratará de un perceptrón con dos neuronas de salida (una para la clase 0 y otra para la clase 1).\n",
    "\n",
    "### Selección de hiperparámetros\n",
    "\n",
    "Teniendo ya el dataset supervisado, faltará determinar los <b>hiperparámetros</b>. Estos serán los siguientes:"
   ]
  },
  {
   "cell_type": "code",
   "execution_count": 4,
   "metadata": {},
   "outputs": [],
   "source": [
    "#Número de itraciones\n",
    "its = 100\n",
    "#Rango de aprendizaje\n",
    "lr = 0.2"
   ]
  },
  {
   "cell_type": "markdown",
   "metadata": {},
   "source": [
    "#### Entrenamiento de la red\n",
    "\n",
    "Seguiremos los pasos del algoritmo de aprendizaje para poder obtener los parámetros óptimos de la red neuronal. \n",
    "\n",
    "1. <b>Inicialización:</b> Seleccionaremos un conjunto de parámetros $\\theta = \\{w,b\\}$ de manera aleatoria. Dividimos entre $\\sqrt{n}$ para ajustar la varianza."
   ]
  },
  {
   "cell_type": "code",
   "execution_count": 5,
   "metadata": {},
   "outputs": [],
   "source": [
    "#Semilla\n",
    "np.random.seed(0)\n",
    "#Inicialización de los parámetros\n",
    "w = np.random.rand(n,2)/np.sqrt(n)\n",
    "b = np.ones(2)"
   ]
  },
  {
   "cell_type": "markdown",
   "metadata": {},
   "source": [
    "2. <b>Entrenamiento:</b> Para el entrenamiento, determinamos los siguientes pasos:\n",
    "    \n",
    "    2.1. <b>Forward:</b> Se corre la red hacia adelante. Obtenemos la salida el vector (en $\\mathbb{R}^2$): $\\phi(x) = Softmax(wx+b)$\n",
    "    \n",
    "    2.1. <b>Backward:</b> Utilizaremos la función de entropía cruzada como función de riesgo: $$R(\\theta) = -\\sum_x y \\ln \\phi_1(x) + (1-y) \\ln (\\phi_0(x))$$\n",
    "    \n",
    "    Determinaremos los pesos a partir del algoritmo de gradiente descendiente: $$\\theta_i \\leftarrow \\theta_i - \\eta \\nabla_iR(\\theta)$$ Donde $y$ es la clase de los datos. Además, la probabilidad se determinará por la función Softmax y $\\theta = \\{w,b: w \\in \\mathbb{R}^{7\\times 2}, b \\in \\mathbb{R}^2\\}$. De la derivada del Softmax, asumiendo que $a$ el la preactivación, tenemos que:\n",
    "    \n",
    "    $$\\frac{\\partial R(\\theta)}{\\partial \\theta_i} = \\frac{\\partial R(\\theta)}{\\partial \\phi_j} \\frac{\\partial \\phi_j}{\\partial a}\\frac{\\partial a}{\\partial \\theta_i} = -\\sum_x (\\frac{1}{\\phi_j}\\phi_j(\\delta_{i,j}-\\phi_i))x_i$$\n",
    "    \n",
    "    De aquí que: $$\\frac{\\partial R(\\theta)}{\\partial \\theta_i} = \\sum_x -(\\delta_{i,j}-\\phi_i)x_i$$\n",
    "    \n",
    "    Y ya que $\\delta_{i,j}$ es 1 cuando la clasificación es la correcta y 0 cuando no, podemos sustituirlo por $y$. Por tanto: $$\\nabla_iR(\\theta) = \\sum_x (\\phi(x)-y) \\cdot x_i$$\n",
    "    \n",
    "3. <b>Terminación:</b> Terminaremos el algoritmo de GD cuando se hayan realizado el número de iteraciones especificadas."
   ]
  },
  {
   "cell_type": "code",
   "execution_count": 6,
   "metadata": {},
   "outputs": [
    {
     "name": "stdout",
     "output_type": "stream",
     "text": [
      "CPU times: user 9.12 ms, sys: 618 µs, total: 9.74 ms\n",
      "Wall time: 9.08 ms\n"
     ]
    }
   ],
   "source": [
    "%%time\n",
    "#Detenerse\n",
    "stop = False\n",
    "t = 0\n",
    "#Guarda función de riesgo\n",
    "R = np.zeros(its+1)\n",
    "while  stop == False:\n",
    "    #FORWARD\n",
    "    #Funcion de preactivacióm\n",
    "    a = np.dot(X,w)+b\n",
    "    #Función de activación\n",
    "    exp = np.exp(a-np.max(a))\n",
    "    pred = exp/exp.sum(1,keepdims=True)\n",
    "    \n",
    "    #Acumula función de riesgo\n",
    "    R[t] = -(Y*np.log(pred[:,1]) + (1-Y)*np.log(pred[:,0])).sum()\n",
    "\n",
    "    #BACKWARD\n",
    "    #Error\n",
    "    pred[range(m),Y] -= Y\n",
    "    #Derivada\n",
    "    DW = np.dot(X.T,pred)\n",
    "    Db = pred.sum(0)\n",
    "    \n",
    "    #ACTUALIZACIÓN\n",
    "    #Gradiente descendiente\n",
    "    w -= lr*DW\n",
    "    b -= lr*Db\n",
    "    \n",
    "    t += 1\n",
    "    #Criterio de paro\n",
    "    if t > its: \n",
    "        stop = True"
   ]
  },
  {
   "cell_type": "markdown",
   "metadata": {},
   "source": [
    "Podemos ver cómo se comporta la función de riesgo a través de las iteraciones para saber si el método de GD está reduciendo, en efecto, el valor de la función en cada iteración."
   ]
  },
  {
   "cell_type": "code",
   "execution_count": 7,
   "metadata": {},
   "outputs": [
    {
     "data": {
      "image/png": "[encoded data removed]",
      "text/plain": [
       "<Figure size 432x288 with 1 Axes>"
      ]
     },
     "metadata": {
      "needs_background": "light"
     },
     "output_type": "display_data"
    }
   ],
   "source": [
    "plt.plot(R)\n",
    "plt.title('Optimización de función de riesgo por GD')\n",
    "plt.ylabel('Riesgo')\n",
    "plt.xlabel('Iteración')\n",
    "plt.show()"
   ]
  },
  {
   "cell_type": "markdown",
   "metadata": {},
   "source": [
    "#### Aplicación de la red\n",
    "\n",
    "Una vez que tenemos los parámetros óptimos, podemos decir que tenemos una red que soluciona el problema (en mayor o menor medida) al que nos enfrentamos. Aplicación de la red a los datos: La elección de una clase se hace como:\n",
    "\n",
    "$$\\hat{y} = \\arg\\max_y p(Y=y|x) = \\arg\\max_i \\phi_i(x)$$"
   ]
  },
  {
   "cell_type": "code",
   "execution_count": 8,
   "metadata": {},
   "outputs": [],
   "source": [
    "#Predicción\n",
    "def forward(X):\n",
    "    #Pre-activación\n",
    "    a = np.dot(X,w)+b\n",
    "    #Activación\n",
    "    exp = np.exp(a)\n",
    "    f = exp/exp.sum(1,keepdims=True)\n",
    "    #Clasificación\n",
    "    cl = np.argmax(f, axis=1)\n",
    "    \n",
    "    return cl, f"
   ]
  },
  {
   "cell_type": "code",
   "execution_count": 9,
   "metadata": {},
   "outputs": [
    {
     "name": "stdout",
     "output_type": "stream",
     "text": [
      "Clases predichas: [0 0 0 0 0 1 0 1 0 0 0 0 1 1] \n",
      "Clases esperadas: [1 0 0 0 0 1 0 1 0 0 0 0 1 1] \n",
      "Error: 0.07142857142857142\n"
     ]
    }
   ],
   "source": [
    "clases, probs_X = forward(X)\n",
    "print('Clases predichas: {} \\nClases esperadas: {} \\nError: {}'.format(clases,Y, np.abs(clases-Y).sum(0)/len(Y)))"
   ]
  },
  {
   "cell_type": "markdown",
   "metadata": {},
   "source": [
    "Con esta red neuronal estimada, podemos aplicarla a casos que no necesariamente aparecieron en el dataset."
   ]
  },
  {
   "cell_type": "code",
   "execution_count": 10,
   "metadata": {},
   "outputs": [
    {
     "name": "stdout",
     "output_type": "stream",
     "text": [
      "Clases predichas: [1 0]\n"
     ]
    }
   ],
   "source": [
    "clases, probs = forward([[0,1,1,0,0,0,0],\n",
    "                         [1,0,0,1,1,1,1]])\n",
    "print('Clases predichas: {}'.format(clases))"
   ]
  },
  {
   "cell_type": "markdown",
   "metadata": {},
   "source": [
    "#### Exploración de los pesos\n",
    "\n",
    "El perceptrón que hemos definido, determina las probabilidades para la clase 1 (gato) y la clase 0 (no gato) y elige la clase que maximice la probabilidad.\n",
    "\n",
    "Las probabilidades de salida son:"
   ]
  },
  {
   "cell_type": "code",
   "execution_count": 11,
   "metadata": {},
   "outputs": [
    {
     "data": {
      "text/html": [
       "<div>\n",
       "<style scoped>\n",
       "    .dataframe tbody tr th:only-of-type {\n",
       "        vertical-align: middle;\n",
       "    }\n",
       "\n",
       "    .dataframe tbody tr th {\n",
       "        vertical-align: top;\n",
       "    }\n",
       "\n",
       "    .dataframe thead th {\n",
       "        text-align: right;\n",
       "    }\n",
       "</style>\n",
       "<table border=\"1\" class=\"dataframe\">\n",
       "  <thead>\n",
       "    <tr style=\"text-align: right;\">\n",
       "      <th></th>\n",
       "      <th>Prob. clase 0</th>\n",
       "      <th>Prob. clase 1</th>\n",
       "      <th>Clase</th>\n",
       "    </tr>\n",
       "  </thead>\n",
       "  <tbody>\n",
       "    <tr>\n",
       "      <th>0</th>\n",
       "      <td>0.563958</td>\n",
       "      <td>0.436042</td>\n",
       "      <td>1.0</td>\n",
       "    </tr>\n",
       "    <tr>\n",
       "      <th>1</th>\n",
       "      <td>0.571438</td>\n",
       "      <td>0.428562</td>\n",
       "      <td>0.0</td>\n",
       "    </tr>\n",
       "    <tr>\n",
       "      <th>2</th>\n",
       "      <td>0.937708</td>\n",
       "      <td>0.062292</td>\n",
       "      <td>0.0</td>\n",
       "    </tr>\n",
       "    <tr>\n",
       "      <th>3</th>\n",
       "      <td>0.924006</td>\n",
       "      <td>0.075994</td>\n",
       "      <td>0.0</td>\n",
       "    </tr>\n",
       "    <tr>\n",
       "      <th>4</th>\n",
       "      <td>0.868989</td>\n",
       "      <td>0.131011</td>\n",
       "      <td>0.0</td>\n",
       "    </tr>\n",
       "    <tr>\n",
       "      <th>5</th>\n",
       "      <td>0.006439</td>\n",
       "      <td>0.993561</td>\n",
       "      <td>1.0</td>\n",
       "    </tr>\n",
       "    <tr>\n",
       "      <th>6</th>\n",
       "      <td>0.970421</td>\n",
       "      <td>0.029579</td>\n",
       "      <td>0.0</td>\n",
       "    </tr>\n",
       "    <tr>\n",
       "      <th>7</th>\n",
       "      <td>0.159770</td>\n",
       "      <td>0.840230</td>\n",
       "      <td>1.0</td>\n",
       "    </tr>\n",
       "    <tr>\n",
       "      <th>8</th>\n",
       "      <td>0.828278</td>\n",
       "      <td>0.171722</td>\n",
       "      <td>0.0</td>\n",
       "    </tr>\n",
       "    <tr>\n",
       "      <th>9</th>\n",
       "      <td>0.872420</td>\n",
       "      <td>0.127580</td>\n",
       "      <td>0.0</td>\n",
       "    </tr>\n",
       "    <tr>\n",
       "      <th>10</th>\n",
       "      <td>0.969994</td>\n",
       "      <td>0.030006</td>\n",
       "      <td>0.0</td>\n",
       "    </tr>\n",
       "    <tr>\n",
       "      <th>11</th>\n",
       "      <td>0.868989</td>\n",
       "      <td>0.131011</td>\n",
       "      <td>0.0</td>\n",
       "    </tr>\n",
       "    <tr>\n",
       "      <th>12</th>\n",
       "      <td>0.209720</td>\n",
       "      <td>0.790280</td>\n",
       "      <td>1.0</td>\n",
       "    </tr>\n",
       "    <tr>\n",
       "      <th>13</th>\n",
       "      <td>0.008964</td>\n",
       "      <td>0.991036</td>\n",
       "      <td>1.0</td>\n",
       "    </tr>\n",
       "  </tbody>\n",
       "</table>\n",
       "</div>"
      ],
      "text/plain": [
       "    Prob. clase 0  Prob. clase 1  Clase\n",
       "0        0.563958       0.436042    1.0\n",
       "1        0.571438       0.428562    0.0\n",
       "2        0.937708       0.062292    0.0\n",
       "3        0.924006       0.075994    0.0\n",
       "4        0.868989       0.131011    0.0\n",
       "5        0.006439       0.993561    1.0\n",
       "6        0.970421       0.029579    0.0\n",
       "7        0.159770       0.840230    1.0\n",
       "8        0.828278       0.171722    0.0\n",
       "9        0.872420       0.127580    0.0\n",
       "10       0.969994       0.030006    0.0\n",
       "11       0.868989       0.131011    0.0\n",
       "12       0.209720       0.790280    1.0\n",
       "13       0.008964       0.991036    1.0"
      ]
     },
     "execution_count": 11,
     "metadata": {},
     "output_type": "execute_result"
    }
   ],
   "source": [
    "pd.DataFrame(data=np.concatenate((probs_X,Y.reshape(14,1)), axis=1), \n",
    "             columns=['Prob. clase 0', 'Prob. clase 1', 'Clase'])"
   ]
  },
  {
   "cell_type": "markdown",
   "metadata": {},
   "source": [
    "Los pesos de las conexiones que ha aprendido para la clase 1 (gato) son los siguientes:"
   ]
  },
  {
   "cell_type": "code",
   "execution_count": 12,
   "metadata": {},
   "outputs": [
    {
     "data": {
      "text/html": [
       "<div>\n",
       "<style scoped>\n",
       "    .dataframe tbody tr th:only-of-type {\n",
       "        vertical-align: middle;\n",
       "    }\n",
       "\n",
       "    .dataframe tbody tr th {\n",
       "        vertical-align: top;\n",
       "    }\n",
       "\n",
       "    .dataframe thead th {\n",
       "        text-align: right;\n",
       "    }\n",
       "</style>\n",
       "<table border=\"1\" class=\"dataframe\">\n",
       "  <thead>\n",
       "    <tr style=\"text-align: right;\">\n",
       "      <th></th>\n",
       "      <th>Pesos de clase gato</th>\n",
       "    </tr>\n",
       "  </thead>\n",
       "  <tbody>\n",
       "    <tr>\n",
       "      <th>¿es animal?</th>\n",
       "      <td>-71.895930</td>\n",
       "    </tr>\n",
       "    <tr>\n",
       "      <th>¿es mamífero?</th>\n",
       "      <td>-38.789271</td>\n",
       "    </tr>\n",
       "    <tr>\n",
       "      <th>¿es felino?</th>\n",
       "      <td>-38.285538</td>\n",
       "    </tr>\n",
       "    <tr>\n",
       "      <th>¿es doméstico?</th>\n",
       "      <td>-48.639444</td>\n",
       "    </tr>\n",
       "    <tr>\n",
       "      <th>¿tiene dos orejas?</th>\n",
       "      <td>-50.412084</td>\n",
       "    </tr>\n",
       "    <tr>\n",
       "      <th>¿es negro?</th>\n",
       "      <td>-40.942354</td>\n",
       "    </tr>\n",
       "    <tr>\n",
       "      <th>¿tiene cuatro patas?</th>\n",
       "      <td>-51.907203</td>\n",
       "    </tr>\n",
       "    <tr>\n",
       "      <th>bias</th>\n",
       "      <td>-90.861263</td>\n",
       "    </tr>\n",
       "  </tbody>\n",
       "</table>\n",
       "</div>"
      ],
      "text/plain": [
       "                       Pesos de clase gato\n",
       "¿es animal?                     -71.895930\n",
       " ¿es mamífero?                  -38.789271\n",
       " ¿es felino?                    -38.285538\n",
       " ¿es doméstico?                 -48.639444\n",
       " ¿tiene dos orejas?             -50.412084\n",
       " ¿es negro?                     -40.942354\n",
       " ¿tiene cuatro patas?           -51.907203\n",
       "bias                            -90.861263"
      ]
     },
     "execution_count": 12,
     "metadata": {},
     "output_type": "execute_result"
    }
   ],
   "source": [
    "pd.DataFrame(data=np.append(w[:,1],b[1]), index=list(data.columns)[:7]+['bias'], columns=['Pesos de clase gato'])"
   ]
  },
  {
   "cell_type": "markdown",
   "metadata": {},
   "source": [
    "  "
   ]
  }
 ],
 "metadata": {
  "kernelspec": {
   "display_name": "Python 3",
   "language": "python",
   "name": "python3"
  },
  "language_info": {
   "codemirror_mode": {
    "name": "ipython",
    "version": 3
   },
   "file_extension": ".py",
   "mimetype": "text/x-python",
   "name": "python",
   "nbconvert_exporter": "python",
   "pygments_lexer": "ipython3",
   "version": "3.8.10"
  }
 },
 "nbformat": 4,
 "nbformat_minor": 4
}
