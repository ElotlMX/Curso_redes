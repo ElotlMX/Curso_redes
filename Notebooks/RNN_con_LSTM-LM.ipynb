{
 "cells": [
  {
   "cell_type": "markdown",
   "metadata": {},
   "source": [
    "# Implementación de una LSTM"
   ]
  },
  {
   "cell_type": "markdown",
   "metadata": {},
   "source": [
    "Las Long-Short Term Memories o LSTM son una herramienta de gran utilidad cuando se trabaja con RNNs, pues evitan el desvanecimiento del gradiente y conservan adecuadamente las dependencias a largo plazo. Realizaremos un ejemplo muy simple de una LSTM, aplicadno el algoritmo de backpropagation y de gradien descent."
   ]
  },
  {
   "cell_type": "code",
   "execution_count": 1,
   "metadata": {},
   "outputs": [],
   "source": [
    "#-*- encoding:utf-8 -*-\n",
    "import numpy as np\n",
    "from collections import defaultdict, Counter\n",
    "from preprocessing import preprocess\n",
    "from itertools import chain\n",
    "import seaborn as sns\n",
    "\n",
    "\n",
    "#Funcion que crea un vocabulario de palabras con un indice numerico\n",
    "def vocab():\n",
    "    vocab = defaultdict()\n",
    "    vocab.default_factory = lambda: len(vocab)\n",
    "    return vocab    \n",
    "\n",
    "#Funcion que pasa la cadena de simbolos a una secuencia con indices numericos\n",
    "def text2numba(corpus, vocab):\n",
    "    for doc in corpus:\n",
    "        yield [vocab[w] for w in doc.split()]"
   ]
  },
  {
   "cell_type": "markdown",
   "metadata": {},
   "source": [
    "Al igual que con modelos del lenguaje más tradicionales, tomamos un corpus e indexamos las palabras con valores numéricos, con el objetivo de que sea más fácil manejarlas."
   ]
  },
  {
   "cell_type": "code",
   "execution_count": 2,
   "metadata": {},
   "outputs": [
    {
     "name": "stdout",
     "output_type": "stream",
     "text": [
      "[[0, 1, 2, 3, 4], [3, 5, 6], [0, 5, 7, 8, 9], [3, 1, 2, 10], [0, 1, 2], [0, 11, 2, 10], [3, 11, 2]]\n"
     ]
    }
   ],
   "source": [
    "corpus = ['el perro come un hueso', 'un muchacho jugaba', 'el muchacho saltaba la cuerda',\n",
    "          'un perro come croquetas', 'el perro come', 'el gato come croquetas', 'un gato come']\n",
    "\n",
    "#Llamamos la funcion para crear el vocabulario\n",
    "voc = vocab()\n",
    "#Creamos el vocabulario y le asignamos un indice a cada simbolo segun su aparicion\n",
    "sentences = list(text2numba(corpus,voc))\n",
    "\n",
    "print(sentences)"
   ]
  },
  {
   "cell_type": "markdown",
   "metadata": {},
   "source": [
    "Además, tenemos que añadir los símbolos de BOS (Beginning Of Sentence) y EOS (End Of Sentence). Estas palabras también se añaden al vocabulario con índices numéricos."
   ]
  },
  {
   "cell_type": "code",
   "execution_count": 3,
   "metadata": {},
   "outputs": [
    {
     "name": "stdout",
     "output_type": "stream",
     "text": [
      "defaultdict(<function vocab.<locals>.<lambda> at 0x00000241CF7D6400>, {'el': 0, 'perro': 1, 'come': 2, 'un': 3, 'hueso': 4, 'muchacho': 5, 'jugaba': 6, 'saltaba': 7, 'la': 8, 'cuerda': 9, 'croquetas': 10, 'gato': 11, '<EOS>': 12, '<BOS>': 13})\n"
     ]
    }
   ],
   "source": [
    "#Indicamos las etiquetas a usar\n",
    "EOS = '<EOS>'\n",
    "BOS = '<BOS>'\n",
    "\n",
    "#Cada etiqeuta se le asigna un indice numerico\n",
    "BOS_IDX = max(voc.values())+2\n",
    "EOS_IDX = max(voc.values())+1\n",
    "\n",
    "#Se agregan estas etiqeutas al vocabulario\n",
    "voc[EOS] = EOS_IDX\n",
    "voc[BOS] = BOS_IDX\n",
    "\n",
    "#A cada cadena se le agrega la etiqueta BOS al inicio y EOS al final\n",
    "cadenas = [[BOS_IDX] + cad + [EOS_IDX] for cad in sentences]\n",
    "\n",
    "#Se obtiene la longitud del alfabeto\n",
    "N = len(voc)\n",
    "\n",
    "print(voc)"
   ]
  },
  {
   "cell_type": "markdown",
   "metadata": {},
   "source": [
    "Entonces generamos los ejemplos, estos son pares de tuplas dadas como:\n",
    "\n",
    "$$(BOS w_1 ...w_T; w_1 ... w_T EOS)$$\n",
    "\n",
    "Lo que buscamos, es predecir la palabra subsiguiente, como en un modelo del lenguaje. Así dada la palabra $w_1$, querermos que se prediga la palabra subsiguiente $w_2$. Por tanto, los ejemplos de entrenamiento toman como entrada la cadena (sin EOS) y buscan emitir la cadena adelantada un estado. "
   ]
  },
  {
   "cell_type": "code",
   "execution_count": 4,
   "metadata": {},
   "outputs": [
    {
     "name": "stdout",
     "output_type": "stream",
     "text": [
      "[([13, 0, 1, 2, 3, 4], [0, 1, 2, 3, 4, 12]), ([13, 3, 5, 6], [3, 5, 6, 12]), ([13, 0, 5, 7, 8, 9], [0, 5, 7, 8, 9, 12]), ([13, 3, 1, 2, 10], [3, 1, 2, 10, 12]), ([13, 0, 1, 2], [0, 1, 2, 12]), ([13, 0, 11, 2, 10], [0, 11, 2, 10, 12]), ([13, 3, 11, 2], [3, 11, 2, 12])]\n"
     ]
    }
   ],
   "source": [
    "examples = [(s[:-1],s[1:]) for s in cadenas]\n",
    "print(examples)"
   ]
  },
  {
   "cell_type": "markdown",
   "metadata": {},
   "source": [
    "### Entrenamiento de la red\n",
    "\n",
    "Recordemos que una LSTM se define a partir de 3 puertas $i$, $o$ y $f$ (escritura, lectura y olvido), dadas por las siguientes funciones:\n",
    "\n",
    "$$i_t = \\sigma(U^ix^{(t)} + V^ih^{(t-1)} + b^i)$$\n",
    "\n",
    "$$o_t = \\sigma(U^ox^{(t)} + V^oh^{(t-1)} + b^o)$$\n",
    "\n",
    "$$f_t = \\sigma(U^fx^{(t)} + V^fh^{(t-1)} + b^f)$$\n",
    "\n",
    "Asimismo, se define el candidato a sombra de la forma:\n",
    "\n",
    "$$\\hat{c}_t = \\tanh(U^cx^{(t)} + V^ch^{(t-1)} + b^c)$$\n",
    "\n",
    "La sombra (la información que se mandará al siguiente estado) se define, entonces como:\n",
    "\n",
    "$$c_t = f_t \\odot c_{t-1} + i_t \\odot \\hat{c}_t$$\n",
    "\n",
    "Y finalmente, la celda de salida para ese estado está dado por:\n",
    "\n",
    "$$h_t = o_t \\odot \\tanh(c_t)$$\n",
    "\n",
    "Ya que las puertas en el LSTM utilizan la función sigmoide, definimos ésta a continuación:"
   ]
  },
  {
   "cell_type": "code",
   "execution_count": 5,
   "metadata": {},
   "outputs": [],
   "source": [
    "def sig(x):\n",
    "    return 1./(1.+np.exp(-x))"
   ]
  },
  {
   "cell_type": "markdown",
   "metadata": {},
   "source": [
    "Ahora inicializamos los parámetros $\\theta$. Estos parámetros son los siguientes:\n",
    "\n",
    "1) Parámetros de la puerta de escritura: $V^i\\in\\mathbb{R}^{m\\times m}$, $U^i\\in\\mathbb{R}^{m\\times N}$ y $b^i\\in\\mathbb{R}^m$.\n",
    "\n",
    "2) Parámetros de la puerta de olvido: $V^f\\in\\mathbb{R}^{m\\times m}$, $U^f\\in\\mathbb{R}^{m\\times N}$ y $b^f\\in\\mathbb{R}^m$.\n",
    "\n",
    "3) Parámetros de la puerta de lectura: $V^o\\in\\mathbb{R}^{m\\times m}$, $U^o\\in\\mathbb{R}^{m\\times N}$ y $b^o\\in\\mathbb{R}^m$.\n",
    "\n",
    "4) Parámetros de la sombra: $V^c\\in\\mathbb{R}^{m\\times m}$, $U^c\\in\\mathbb{R}^{m\\times N}$ y $b^c\\in\\mathbb{R}^m$.\n",
    "\n",
    "5) Parámetros de la capa de salida: $W\\in\\mathbb{R}^{N\\times m}$y $b\\in\\mathbb{R}^N$."
   ]
  },
  {
   "cell_type": "code",
   "execution_count": 6,
   "metadata": {},
   "outputs": [],
   "source": [
    "np.random.seed(0)\n",
    "#El número de rasgos que representan cada vector\n",
    "nn_input_dim = N\n",
    "#El total de clases que arrojará\n",
    "output_dim = N\n",
    "\n",
    "#Embedding\n",
    "dim = 2\n",
    "\n",
    "#Dimensiones de los vectores-palabra\n",
    "cell_dim = 3\n",
    "\n",
    "#Embedding matrix\n",
    "C = np.random.randn(dim,N) / np.sqrt(N)\n",
    "\n",
    "#Celda de escritura\n",
    "Vi = np.random.randn(cell_dim,cell_dim) / np.sqrt(cell_dim)\n",
    "Ui = np.random.randn(cell_dim,dim) / np.sqrt(dim)\n",
    "bi = np.zeros(cell_dim)\n",
    "\n",
    "#Celda de olvido\n",
    "Vf = np.random.randn(cell_dim,cell_dim) / np.sqrt(cell_dim)\n",
    "Uf = np.random.randn(cell_dim,dim) / np.sqrt(dim)\n",
    "bf = np.zeros(cell_dim)\n",
    "\n",
    "#Celda de lectura\n",
    "Vo = np.random.randn(cell_dim,cell_dim) / np.sqrt(cell_dim)\n",
    "Uo = np.random.randn(cell_dim,dim) / np.sqrt(dim)\n",
    "bo = np.zeros(cell_dim)\n",
    "\n",
    "#Celda de candidato\n",
    "Vc = np.random.randn(cell_dim,cell_dim) / np.sqrt(cell_dim)\n",
    "Uc = np.random.randn(cell_dim,dim) / np.sqrt(dim)\n",
    "bc = np.zeros(cell_dim)\n",
    "\n",
    "#Capa de salida\n",
    "W = np.random.randn(N,cell_dim) / np.sqrt(cell_dim)\n",
    "b = np.zeros(N)"
   ]
  },
  {
   "cell_type": "markdown",
   "metadata": {},
   "source": [
    "Finalmente aplicamos el entrenamiento. En este caso, aplicamos el LSTM, y la capa de salida. Posteriormente aplicamos backpropagation sobre todos los parámetros para poder actualizarlos por medio del gradiente descendiente."
   ]
  },
  {
   "cell_type": "code",
   "execution_count": 7,
   "metadata": {},
   "outputs": [
    {
     "name": "stdout",
     "output_type": "stream",
     "text": [
      "Wall time: 1.72 s\n"
     ]
    }
   ],
   "source": [
    "%%time\n",
    "it = 100\n",
    "lr = 0.1\n",
    "\n",
    "for t in range(it):\n",
    "        \n",
    "    for (seq,target_seq) in examples:\n",
    "        #Inicializacion de celdas\n",
    "        h = np.zeros((len(seq)+1,cell_dim))\n",
    "        #Inicializacion de sombras\n",
    "        c = np.zeros((len(seq)+1,cell_dim))\n",
    "        #Variable de cambio\n",
    "        d_t = np.zeros(cell_dim)\n",
    "        \n",
    "        for t,w in enumerate(seq):\n",
    "            #Embedding\n",
    "            x = C.T[w]\n",
    "            #LSTM\n",
    "            #Puerta de escritura\n",
    "            i = sig(np.dot(Vi,h[t]) + np.dot(Ui,x) + bi)\n",
    "            #Puerta de olvido\n",
    "            f = sig(np.dot(Vf,h[t]) + np.dot(Uf,x) + bf)\n",
    "            #Puerta de escritura\n",
    "            o = sig(np.dot(Vo,h[t]) + np.dot(Uo,x) + bo)\n",
    "            \n",
    "            #Candidato a sombra\n",
    "            c_hat = np.tanh(np.dot(Vc,h[t]) + np.dot(Uc,x) + bc)\n",
    "            \n",
    "            #Sombra en el estado actual\n",
    "            c[t+1] = f*c[t] + i*c_hat\n",
    "            \n",
    "            #Celda en el estado actual\n",
    "            h[t+1] = o*np.tanh(c[t+1])\n",
    "            \n",
    "            #FORWARD SALIDA\n",
    "            #Softmax\n",
    "            p = np.exp(np.dot(W,h[t+1])+b)\n",
    "            phi = p/p.sum(0)\n",
    "            \n",
    "            #BACK-PROP\n",
    "            #Variable de salida\n",
    "            d_out = phi\n",
    "            d_out[target_seq[t]] -= 1\n",
    "            #GD salida\n",
    "            dW = np.outer(d_out,h[t+1])\n",
    "            W -=lr*dW\n",
    "            \n",
    "            #Variable de lectura\n",
    "            d_o = np.dot(W.T,d_out)*np.tanh(c[t+1])*o*(1-o)\n",
    "            #GD lectura Vo\n",
    "            dVo = np.outer(d_o,h[t])\n",
    "            Vo -= lr*dVo\n",
    "            #GD lectura Uo\n",
    "            dUo = np.outer(d_o,x)\n",
    "            Uo -= lr*dUo\n",
    "            #GD emb\n",
    "            do_emb = np.dot(Uo.T,d_o)\n",
    "            C.T[w] -= lr*do_emb\n",
    "            \n",
    "            #Varible de estado (se usa en escritura, olvido y sombra)\n",
    "            d_st = np.dot(W.T,d_out)*o*(1-np.tanh(c[t+1])**2) + d_t\n",
    "                        \n",
    "            #Variable de sombra\n",
    "            d_c = d_st*i*(1-c_hat**2)\n",
    "            #GD sombra Vc\n",
    "            dVc = np.outer(d_c,h[t])\n",
    "            Vc -= lr*dVc\n",
    "            #GD sombra Uc\n",
    "            dUc = np.outer(d_o,x)\n",
    "            Uc -= lr*dUc\n",
    "            #GD emb\n",
    "            dc_emb = np.dot(Uc.T,d_c)\n",
    "            C.T[w] -= lr*dc_emb\n",
    "            \n",
    "            #Variable de escritura\n",
    "            d_i = d_st*c_hat*i*(1-i)\n",
    "            #GD escritura Vi\n",
    "            dVi = np.outer(d_i,h[t])\n",
    "            Vi -= lr*dVi\n",
    "            #GD escritura Ui\n",
    "            dUi = np.outer(d_i,x)\n",
    "            Ui -= lr*dUi\n",
    "            #GD emb\n",
    "            di_emb = np.dot(Ui.T, d_i)\n",
    "            C.T[w] -= lr*di_emb\n",
    "            \n",
    "            #Variable de olvido\n",
    "            d_f = d_st*c[t+1]*f*(1-f)\n",
    "            #GD olvido Vf\n",
    "            dVf = np.outer(d_f,h[t])\n",
    "            Vf -= lr*dVf\n",
    "            #GD olvido Uf\n",
    "            dUf = np.outer(d_f,x)\n",
    "            Uf -= lr*dUf\n",
    "            #GD emb\n",
    "            df_emb = np.dot(Uf.T,d_f)\n",
    "            C.T[w] -= lr*df_emb           \n",
    "            \n",
    "            #Nueva variable de cambio\n",
    "            d_t = f*d_st"
   ]
  },
  {
   "cell_type": "markdown",
   "metadata": {},
   "source": [
    "### Cálculo de probabilidades\n",
    "\n",
    "Una vez aprendidos los pesos, podemos pasar a utilizar la RNN con LSTM para diferentes tares. Así, definimos una función foward. Para el LSTM, tenemos:\n",
    "\n",
    "$$h^{(t)},c^{(t)} = LSTM(x^{(t)},h^{(t-1)},c^{(t-1)})$$\n",
    "\n",
    "En la capa de salida, tenemos:\n",
    "\n",
    "$$\\phi(x^{(t)}) = Softmax(Wh^{(t)} + b)$$\n",
    "\n",
    "Así, la aplicación de backpropagation sobre las LSTMs implica derivar sobre las celdas: en este sentido debemos derivar sobre las puertas, la sombra y el estado. "
   ]
  },
  {
   "cell_type": "code",
   "execution_count": 8,
   "metadata": {},
   "outputs": [],
   "source": [
    "def forward(sent, h = np.zeros(cell_dim),c=np.zeros(cell_dim)):\n",
    "    sent = sent.split()\n",
    "    prob_tot = np.zeros((len(sent),N))\n",
    "    \n",
    "    for t,w in enumerate(sent):\n",
    "        #Embedding\n",
    "        x = C.T[voc[w]]\n",
    "        #LSTM\n",
    "        #Puerta de escritura\n",
    "        i = sig(np.dot(Vi,h) + np.dot(Ui,x) + bi)\n",
    "        #Puerta de olvido\n",
    "        f = sig(np.dot(Vf,h) + np.dot(Uf,x) + bf)\n",
    "        #Puerta de escritura\n",
    "        o = sig(np.dot(Vo,h) + np.dot(Uo,x) + bo)\n",
    "\n",
    "        #Candidato a sombra\n",
    "        c_hat = np.tanh(np.dot(Vc,h) + np.dot(Uc,x) + bc)\n",
    "\n",
    "        #Sombra en el estado actual\n",
    "        c = f*c + i*c_hat\n",
    "\n",
    "        #Celda en el estado actual\n",
    "        h = o*np.tanh(c)\n",
    "\n",
    "        #FORWARD SALIDA\n",
    "        #Softmax\n",
    "        p = np.exp(np.dot(W,h)+b)\n",
    "        phi = p/p.sum(0)\n",
    "        \n",
    "        #Se almacenan las probabilidades\n",
    "        prob_tot[t] = phi\n",
    "        \n",
    "    return h,c, prob_tot    "
   ]
  },
  {
   "cell_type": "markdown",
   "metadata": {},
   "source": [
    "Una aplicación sencilla es el modelo del lenguaje. Así, podemos obtener, por ejemplo las probabilidades iniciales de la manera siguiente:"
   ]
  },
  {
   "cell_type": "code",
   "execution_count": 9,
   "metadata": {},
   "outputs": [
    {
     "name": "stdout",
     "output_type": "stream",
     "text": [
      "el 0.2206602901957738\n",
      "perro 0.0019482656859080658\n",
      "come 0.05052825839249425\n",
      "un 0.2116536108434399\n",
      "hueso 0.0020811816408655938\n",
      "muchacho 0.001989098397714183\n",
      "jugaba 0.001301033257781349\n",
      "saltaba 0.0020422913373089263\n",
      "la 0.0016427614852434424\n",
      "cuerda 0.0015703340057358003\n",
      "croquetas 0.11089905627086932\n",
      "gato 0.0024459643145693434\n",
      "<EOS> 0.3879008281821271\n",
      "<BOS> 0.0033370259901687642\n"
     ]
    }
   ],
   "source": [
    "h,c,probs = forward('<BOS>')\n",
    "for word in voc.keys():\n",
    "    print(word, probs[-1][voc[word]])"
   ]
  },
  {
   "cell_type": "markdown",
   "metadata": {},
   "source": [
    "También podemos predecir la palabra subsiguiente. Por ejemplo, podemos ver que palabra sigue a una construcción singular:"
   ]
  },
  {
   "cell_type": "code",
   "execution_count": 10,
   "metadata": {},
   "outputs": [
    {
     "name": "stdout",
     "output_type": "stream",
     "text": [
      "el 0.007703312456386222\n",
      "perro 0.05248207376479019\n",
      "come 0.729932483962648\n",
      "un 0.024936663383801842\n",
      "hueso 0.017217518781751717\n",
      "muchacho 0.031133749526469388\n",
      "jugaba 0.0034367102411036344\n",
      "saltaba 0.005365334022710165\n",
      "la 0.0005350037122039472\n",
      "cuerda 0.0004980067633711988\n",
      "croquetas 0.0560765443170337\n",
      "gato 0.03929239243849556\n",
      "<EOS> 0.02972144853049335\n",
      "<BOS> 0.0016687580987410785\n"
     ]
    }
   ],
   "source": [
    "h,c,probs = forward('<BOS> el gato')\n",
    "\n",
    "for word in voc.keys():\n",
    "    print(word, probs[-1][voc[word]])"
   ]
  },
  {
   "cell_type": "markdown",
   "metadata": {},
   "source": [
    "Asimismo, podemos obtener la probabilidad de una palabra dada las 3 anteriores:"
   ]
  },
  {
   "cell_type": "code",
   "execution_count": 11,
   "metadata": {},
   "outputs": [
    {
     "name": "stdout",
     "output_type": "stream",
     "text": [
      "el 0.011574800635012926\n",
      "perro 0.07352401539763975\n",
      "come 0.017339652026217938\n",
      "un 0.010125438887387518\n",
      "hueso 0.09797014556709487\n",
      "muchacho 0.06038781869009058\n",
      "jugaba 0.10141603410969137\n",
      "saltaba 0.10510225444310377\n",
      "la 0.21146867557213692\n",
      "cuerda 0.1655835605288759\n",
      "croquetas 0.011546463271580149\n",
      "gato 0.062094891378673626\n",
      "<EOS> 0.00957743201074344\n",
      "<BOS> 0.06228881748175111\n"
     ]
    }
   ],
   "source": [
    "h,c,probs = forward('<BOS> el muchacho saltaba')\n",
    "for word in voc.keys():\n",
    "    print(word, probs[-1][voc[word]])"
   ]
  },
  {
   "cell_type": "markdown",
   "metadata": {},
   "source": [
    "#### Predicción de sentencias\n",
    "\n",
    "Al igual que con otros modelos del lenguaje, podemos predecir sentencias. Para esto, definiremos una función de predicción de sentencias:"
   ]
  },
  {
   "cell_type": "code",
   "execution_count": 12,
   "metadata": {},
   "outputs": [],
   "source": [
    "def forward_prediction(sent):\n",
    "    arg_idx = BOS_IDX\n",
    "    words = []\n",
    "    \n",
    "    h,c, probs = forward(sent)\n",
    "    arg_max = list(voc.keys())[list(voc.values()).index(np.argmax(probs[-1]))]\n",
    "    words.append(arg_max)\n",
    "    \n",
    "    while arg_max != '<EOS>':\n",
    "        h,c, probs = forward(arg_max,h,c)\n",
    "        arg_max = list(voc.keys())[list(voc.values()).index(np.argmax(probs[-1]))]\n",
    "        words.append(arg_max)    \n",
    "        \n",
    "    return sent + ' ' + ' '.join(words)"
   ]
  },
  {
   "cell_type": "code",
   "execution_count": 13,
   "metadata": {},
   "outputs": [
    {
     "name": "stdout",
     "output_type": "stream",
     "text": [
      "<BOS> el perro come <EOS>\n",
      "<BOS> el perro saltaba la perro come <EOS>\n",
      "<BOS> la cuerda <EOS>\n",
      "<BOS> el gato come <EOS>\n"
     ]
    }
   ],
   "source": [
    "print( forward_prediction('<BOS> el') )\n",
    "print( forward_prediction('<BOS> el perro saltaba') )\n",
    "print( forward_prediction('<BOS> la cuerda') )\n",
    "print( forward_prediction('<BOS> el gato') )"
   ]
  },
  {
   "cell_type": "markdown",
   "metadata": {},
   "source": [
    "### Visualización de los embeddings\n",
    "\n"
   ]
  },
  {
   "cell_type": "code",
   "execution_count": 14,
   "metadata": {},
   "outputs": [],
   "source": [
    "import matplotlib.pyplot as plt\n",
    "from sklearn.decomposition import PCA\n",
    "from sklearn.manifold import TSNE\n",
    "from operator import itemgetter\n",
    "\n",
    "#Funcion para plotear los datos con labels\n",
    "def plot_words(Z,ids):\n",
    "    #Reduce la dimensionalidad a 2\n",
    "    Z = PCA(2).fit_transform(Z)\n",
    "    \n",
    "    #Plotea con la marcas (marker) y el color indicado (c)\n",
    "    r=0\n",
    "    plt.scatter(Z[:,0],Z[:,1], marker='o', c='blue')\n",
    "    for label,x,y in zip(ids, Z[:,0], Z[:,1]):\n",
    "        plt.annotate(label, xy=(x,y), xytext=(-1,1), textcoords='offset points', ha='center', va='bottom')\n",
    "        r+=1\n",
    "    #plt.show()\n",
    "\n",
    "#Ordena las etiquetas para que coincidan con los vectores-renglón de la matriz de embedding\n",
    "label = [w[0] for w in sorted(voc.items(), key=itemgetter(1))]"
   ]
  },
  {
   "cell_type": "code",
   "execution_count": 15,
   "metadata": {},
   "outputs": [
    {
     "data": {
      "image/png": "[encoded data removed]",
      "text/plain": [
       "<Figure size 432x288 with 1 Axes>"
      ]
     },
     "metadata": {
      "needs_background": "light"
     },
     "output_type": "display_data"
    }
   ],
   "source": [
    "plot_words(C.T[:-2],label)"
   ]
  },
  {
   "cell_type": "code",
   "execution_count": 16,
   "metadata": {},
   "outputs": [
    {
     "data": {
      "image/png": "[encoded data removed]",
      "text/plain": [
       "<Figure size 432x288 with 2 Axes>"
      ]
     },
     "metadata": {
      "needs_background": "light"
     },
     "output_type": "display_data"
    }
   ],
   "source": [
    "ax = sns.heatmap(C.T[:-2], linewidth=1.0, yticklabels=label[:-2])\n",
    "ax.set_title('Embeddings')\n",
    "plt.show()"
   ]
  },
  {
   "cell_type": "code",
   "execution_count": 17,
   "metadata": {},
   "outputs": [
    {
     "data": {
      "image/png": "[encoded data removed]",
      "text/plain": [
       "<Figure size 432x288 with 2 Axes>"
      ]
     },
     "metadata": {
      "needs_background": "light"
     },
     "output_type": "display_data"
    }
   ],
   "source": [
    "ax = sns.heatmap(Uc, linewidth=1.0) #, yticklabels=label)\n",
    "ax.set_title('Pesos de candidato')\n",
    "plt.show()"
   ]
  },
  {
   "cell_type": "markdown",
   "metadata": {},
   "source": [
    "### Visualización de las puertas y los estados ocultos"
   ]
  },
  {
   "cell_type": "code",
   "execution_count": 18,
   "metadata": {},
   "outputs": [],
   "source": [
    "def get_cells(sent, h0 = np.zeros(cell_dim),c0=np.zeros(cell_dim)):\n",
    "    sent = sent.split()\n",
    "    prob_tot = np.zeros((len(sent),N))\n",
    "    \n",
    "    #Longitud sente\n",
    "    long = len(sent)\n",
    "    #Matrices de puertas por estado\n",
    "    i = np.zeros((long+1, cell_dim))\n",
    "    o = np.zeros((long+1, cell_dim))\n",
    "    f = np.zeros((long+1, cell_dim))\n",
    "    c_hat = np.zeros((long+1, cell_dim))\n",
    "    c = np.zeros((long+1, cell_dim))\n",
    "    h = np.zeros((long+1, cell_dim))\n",
    "    \n",
    "    #Inicializar h y c\n",
    "    c[0] = c0\n",
    "    h[0] = h0\n",
    "    \n",
    "    for t,w in enumerate(sent):\n",
    "        #Embedding\n",
    "        x = C.T[voc[w]]\n",
    "        #LSTM\n",
    "        #Puerta de escritura\n",
    "        i[t+1] = sig(np.dot(Vi,h[t]) + np.dot(Ui,x) + bi)\n",
    "        #Puerta de olvido\n",
    "        f[t+1] = sig(np.dot(Vf,h[t]) + np.dot(Uf,x) + bf)\n",
    "        #Puerta de escritura\n",
    "        o[t+1] = sig(np.dot(Vo,h[t]) + np.dot(Uo,x) + bo)\n",
    "\n",
    "        #Candidato a sombra\n",
    "        c_hat[t+1] = np.tanh(np.dot(Vc,h[t]) + np.dot(Uc,x) + bc)\n",
    "\n",
    "        #Sombra en el estado actual\n",
    "        c[t+1] = f[t+1]*c[t] + i[t+1]*c_hat[t+1]\n",
    "\n",
    "        #Celda en el estado actual\n",
    "        h[t+1] = o[t+1]*np.tanh(c[t+1])\n",
    "\n",
    "        #FORWARD SALIDA\n",
    "        #Softmax\n",
    "        p = np.exp(np.dot(W,h[t+1])+b)\n",
    "        phi = p/p.sum(0)\n",
    "        \n",
    "        #Se almacenan las probabilidades\n",
    "        prob_tot[t] = phi\n",
    "        \n",
    "    return (i,o,f),h,c_hat,c, prob_tot "
   ]
  },
  {
   "cell_type": "code",
   "execution_count": 19,
   "metadata": {},
   "outputs": [],
   "source": [
    "ex = 'el perro come un gato'\n",
    "gates, h,c_hat,c, p = get_cells(ex)\n",
    "\n",
    "states = [0] + ex.split()"
   ]
  },
  {
   "cell_type": "code",
   "execution_count": 20,
   "metadata": {},
   "outputs": [
    {
     "data": {
      "image/png": "[encoded data removed]",
      "text/plain": [
       "<Figure size 432x288 with 2 Axes>"
      ]
     },
     "metadata": {
      "needs_background": "light"
     },
     "output_type": "display_data"
    }
   ],
   "source": [
    "#Puerta de olvido\n",
    "ax = sns.heatmap(gates[2], linewidth=1.0, yticklabels=states)\n",
    "ax.set_title('f gate')\n",
    "plt.show()"
   ]
  },
  {
   "cell_type": "code",
   "execution_count": 21,
   "metadata": {},
   "outputs": [
    {
     "data": {
      "image/png": "[encoded data removed]",
      "text/plain": [
       "<Figure size 432x288 with 2 Axes>"
      ]
     },
     "metadata": {
      "needs_background": "light"
     },
     "output_type": "display_data"
    }
   ],
   "source": [
    "#Puerta de lectura i\n",
    "ax = sns.heatmap(gates[0], linewidth=1.0, yticklabels=states)\n",
    "ax.set_title('i gate')\n",
    "plt.show()"
   ]
  },
  {
   "cell_type": "code",
   "execution_count": 22,
   "metadata": {},
   "outputs": [
    {
     "data": {
      "image/png": "[encoded data removed]",
      "text/plain": [
       "<Figure size 432x288 with 2 Axes>"
      ]
     },
     "metadata": {
      "needs_background": "light"
     },
     "output_type": "display_data"
    }
   ],
   "source": [
    "#Puerta de escritura\n",
    "ax = sns.heatmap(gates[1], linewidth=1.0, yticklabels=states)\n",
    "ax.set_title('o gate')\n",
    "plt.show()"
   ]
  },
  {
   "cell_type": "code",
   "execution_count": 23,
   "metadata": {},
   "outputs": [
    {
     "data": {
      "image/png": "[encoded data removed]",
      "text/plain": [
       "<Figure size 432x288 with 2 Axes>"
      ]
     },
     "metadata": {
      "needs_background": "light"
     },
     "output_type": "display_data"
    }
   ],
   "source": [
    "ax = sns.heatmap(c, linewidth=1.0, yticklabels=states)\n",
    "ax.set_title('Sombra')\n",
    "plt.show()"
   ]
  },
  {
   "cell_type": "code",
   "execution_count": 24,
   "metadata": {},
   "outputs": [
    {
     "data": {
      "image/png": "[encoded data removed]",
      "text/plain": [
       "<Figure size 432x288 with 2 Axes>"
      ]
     },
     "metadata": {
      "needs_background": "light"
     },
     "output_type": "display_data"
    }
   ],
   "source": [
    "ax = sns.heatmap(np.tanh(c), linewidth=1.0, yticklabels=states)\n",
    "ax.set_title('tanh(c)')\n",
    "plt.show()"
   ]
  },
  {
   "cell_type": "code",
   "execution_count": 25,
   "metadata": {},
   "outputs": [
    {
     "data": {
      "image/png": "[encoded data removed]",
      "text/plain": [
       "<Figure size 432x288 with 2 Axes>"
      ]
     },
     "metadata": {
      "needs_background": "light"
     },
     "output_type": "display_data"
    }
   ],
   "source": [
    "ax = sns.heatmap(gates[1]*np.tanh(c), linewidth=1.0, yticklabels=states)\n",
    "ax.set_title('o * tanh(c)')\n",
    "plt.show()"
   ]
  },
  {
   "cell_type": "code",
   "execution_count": 26,
   "metadata": {},
   "outputs": [
    {
     "data": {
      "image/png": "[encoded data removed]",
      "text/plain": [
       "<Figure size 432x288 with 1 Axes>"
      ]
     },
     "metadata": {
      "needs_background": "light"
     },
     "output_type": "display_data"
    }
   ],
   "source": [
    "plot_words(h,states)"
   ]
  },
  {
   "cell_type": "code",
   "execution_count": 27,
   "metadata": {},
   "outputs": [
    {
     "data": {
      "image/png": "[encoded data removed]",
      "text/plain": [
       "<Figure size 432x288 with 2 Axes>"
      ]
     },
     "metadata": {
      "needs_background": "light"
     },
     "output_type": "display_data"
    }
   ],
   "source": [
    "ax = sns.heatmap(c_hat, linewidth=1.0, yticklabels=states)\n",
    "ax.set_title('Candidato a sombra')\n",
    "plt.show()"
   ]
  },
  {
   "cell_type": "markdown",
   "metadata": {},
   "source": [
    "      "
   ]
  }
 ],
 "metadata": {
  "kernelspec": {
   "display_name": "Python 3",
   "language": "python",
   "name": "python3"
  },
  "language_info": {
   "codemirror_mode": {
    "name": "ipython",
    "version": 3
   },
   "file_extension": ".py",
   "mimetype": "text/x-python",
   "name": "python",
   "nbconvert_exporter": "python",
   "pygments_lexer": "ipython3",
   "version": "3.7.3"
  }
 },
 "nbformat": 4,
 "nbformat_minor": 2
}
