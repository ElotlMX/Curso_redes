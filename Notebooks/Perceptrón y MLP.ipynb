{
 "cells": [
  {
   "cell_type": "markdown",
   "metadata": {},
   "source": [
    "# Interpretación de pesos en una red neuronal\n",
    "\n",
    "En las redes neuronales, los pesos pueden interpretarse como la fuerza de las conexiones que unen dos neuronas entre sí. De esta forma, los pesos de la red neurona determinan cómo se comportará ésta cuando reciba un vector de entrada: de los pesos depende la clase a la que pertenecerá el ejemplo de entrada.\n",
    "\n",
    "Sin duda, cuanto más compleja sea la red, más compleja será la interpretación de las interacciones de las neuronas a través de los pesos. Aquí presentamos dos ejemplos simples: un perceptrón y una red FeedForfard con una sola capa. A partir de esto, podemos entender qué función desempeñan los pesos  en las redes neuronales."
   ]
  },
  {
   "cell_type": "code",
   "execution_count": 1,
   "metadata": {},
   "outputs": [],
   "source": [
    "import pandas as pd\n",
    "import numpy as np\n",
    "import seaborn as sns\n",
    "import matplotlib.pyplot as plt\n",
    "from sklearn.decomposition import PCA\n",
    "from sklearn.manifold import TSNE"
   ]
  },
  {
   "cell_type": "markdown",
   "metadata": {},
   "source": [
    "## Preparación de los datos\n",
    "\n",
    "Una parte immportante de toda red neuronal son los datos con los que va a entrenarse. Estos datos le ayudarán a ajustar sus parámetros (pesos) y, de esta forma, crear una función capaz de generalizar la tarea que ha aprendido.\n",
    "\n",
    "Los datos pueden verse como vectores aleatorios; es decir, como vectores cuyas entradas son variables aleatorias. Así, un vector aleatorio se ve como:\n",
    "\n",
    "$$X^T = [X_1, X_2, ..., X_n]$$\n",
    "\n",
    "donde $X_i$, para toda $i=1,...,n$, es una variable aleatoria. Cuando muestreamos los ejemplos, esperamos que estos sean iid (idependientes e idénticamente distribuidos); esto implica que cada vector ejemplo $X$ no depende de ningún otro ejemplo en el dataset. Nuestro objetivo, entonces es determinar el valor que una variable $Y$ puede tomar dado que conocemos el vector $X$. Este problema se puede plantear como:\n",
    "\n",
    "$$\\hat{y} = \\arg\\max_y p(Y=y|X_1,X_2,...,X_n)$$\n",
    "\n",
    "En el ejemplo que planteamos a continuación, elegimos variables que aleatorias $X_1, X_2, ..., X_7$ que responden a preguntas que pueden responderse como sí o no. Así, $X_1$ es una variable que codifica la pregunta \"¿es animal?\": si la respuesta es sí, se coloca un 1, si es no se coloca un 0. \n",
    "\n",
    "Finalmente, la variable $Y$ representa la pregunta \"¿es gato?\". De esta forma, buscamos definir un modelo que nos pueda decir, a partir de las variables $X_1, X_2, ..., _X7$ si el objeto que porta estas variables es o no un gato."
   ]
  },
  {
   "cell_type": "code",
   "execution_count": 2,
   "metadata": {},
   "outputs": [
    {
     "data": {
      "text/html": [
       "<div>\n",
       "<style scoped>\n",
       "    .dataframe tbody tr th:only-of-type {\n",
       "        vertical-align: middle;\n",
       "    }\n",
       "\n",
       "    .dataframe tbody tr th {\n",
       "        vertical-align: top;\n",
       "    }\n",
       "\n",
       "    .dataframe thead th {\n",
       "        text-align: right;\n",
       "    }\n",
       "</style>\n",
       "<table border=\"1\" class=\"dataframe\">\n",
       "  <thead>\n",
       "    <tr style=\"text-align: right;\">\n",
       "      <th></th>\n",
       "      <th>¿es animal?</th>\n",
       "      <th>¿es mamífero?</th>\n",
       "      <th>¿es felino?</th>\n",
       "      <th>¿es doméstico?</th>\n",
       "      <th>¿tiene dos orejas?</th>\n",
       "      <th>¿es negro?</th>\n",
       "      <th>¿tiene cuatro patas?</th>\n",
       "      <th>¿es gato?</th>\n",
       "    </tr>\n",
       "  </thead>\n",
       "  <tbody>\n",
       "    <tr>\n",
       "      <th>0</th>\n",
       "      <td>1</td>\n",
       "      <td>1</td>\n",
       "      <td>1</td>\n",
       "      <td>1</td>\n",
       "      <td>1</td>\n",
       "      <td>1</td>\n",
       "      <td>1</td>\n",
       "      <td>1</td>\n",
       "    </tr>\n",
       "    <tr>\n",
       "      <th>1</th>\n",
       "      <td>0</td>\n",
       "      <td>0</td>\n",
       "      <td>0</td>\n",
       "      <td>1</td>\n",
       "      <td>0</td>\n",
       "      <td>1</td>\n",
       "      <td>0</td>\n",
       "      <td>0</td>\n",
       "    </tr>\n",
       "    <tr>\n",
       "      <th>2</th>\n",
       "      <td>1</td>\n",
       "      <td>0</td>\n",
       "      <td>1</td>\n",
       "      <td>1</td>\n",
       "      <td>0</td>\n",
       "      <td>1</td>\n",
       "      <td>1</td>\n",
       "      <td>0</td>\n",
       "    </tr>\n",
       "    <tr>\n",
       "      <th>3</th>\n",
       "      <td>1</td>\n",
       "      <td>1</td>\n",
       "      <td>0</td>\n",
       "      <td>1</td>\n",
       "      <td>1</td>\n",
       "      <td>0</td>\n",
       "      <td>1</td>\n",
       "      <td>0</td>\n",
       "    </tr>\n",
       "    <tr>\n",
       "      <th>4</th>\n",
       "      <td>1</td>\n",
       "      <td>1</td>\n",
       "      <td>1</td>\n",
       "      <td>0</td>\n",
       "      <td>1</td>\n",
       "      <td>0</td>\n",
       "      <td>1</td>\n",
       "      <td>0</td>\n",
       "    </tr>\n",
       "    <tr>\n",
       "      <th>5</th>\n",
       "      <td>1</td>\n",
       "      <td>1</td>\n",
       "      <td>1</td>\n",
       "      <td>1</td>\n",
       "      <td>0</td>\n",
       "      <td>0</td>\n",
       "      <td>0</td>\n",
       "      <td>1</td>\n",
       "    </tr>\n",
       "    <tr>\n",
       "      <th>6</th>\n",
       "      <td>1</td>\n",
       "      <td>0</td>\n",
       "      <td>0</td>\n",
       "      <td>1</td>\n",
       "      <td>1</td>\n",
       "      <td>1</td>\n",
       "      <td>0</td>\n",
       "      <td>0</td>\n",
       "    </tr>\n",
       "    <tr>\n",
       "      <th>7</th>\n",
       "      <td>1</td>\n",
       "      <td>1</td>\n",
       "      <td>1</td>\n",
       "      <td>1</td>\n",
       "      <td>0</td>\n",
       "      <td>0</td>\n",
       "      <td>1</td>\n",
       "      <td>1</td>\n",
       "    </tr>\n",
       "    <tr>\n",
       "      <th>8</th>\n",
       "      <td>1</td>\n",
       "      <td>0</td>\n",
       "      <td>0</td>\n",
       "      <td>1</td>\n",
       "      <td>0</td>\n",
       "      <td>0</td>\n",
       "      <td>0</td>\n",
       "      <td>0</td>\n",
       "    </tr>\n",
       "    <tr>\n",
       "      <th>9</th>\n",
       "      <td>0</td>\n",
       "      <td>0</td>\n",
       "      <td>0</td>\n",
       "      <td>0</td>\n",
       "      <td>0</td>\n",
       "      <td>0</td>\n",
       "      <td>0</td>\n",
       "      <td>0</td>\n",
       "    </tr>\n",
       "    <tr>\n",
       "      <th>10</th>\n",
       "      <td>1</td>\n",
       "      <td>1</td>\n",
       "      <td>1</td>\n",
       "      <td>0</td>\n",
       "      <td>1</td>\n",
       "      <td>1</td>\n",
       "      <td>1</td>\n",
       "      <td>0</td>\n",
       "    </tr>\n",
       "    <tr>\n",
       "      <th>11</th>\n",
       "      <td>1</td>\n",
       "      <td>1</td>\n",
       "      <td>1</td>\n",
       "      <td>0</td>\n",
       "      <td>1</td>\n",
       "      <td>0</td>\n",
       "      <td>1</td>\n",
       "      <td>0</td>\n",
       "    </tr>\n",
       "    <tr>\n",
       "      <th>12</th>\n",
       "      <td>1</td>\n",
       "      <td>1</td>\n",
       "      <td>1</td>\n",
       "      <td>1</td>\n",
       "      <td>1</td>\n",
       "      <td>0</td>\n",
       "      <td>1</td>\n",
       "      <td>1</td>\n",
       "    </tr>\n",
       "    <tr>\n",
       "      <th>13</th>\n",
       "      <td>1</td>\n",
       "      <td>1</td>\n",
       "      <td>1</td>\n",
       "      <td>1</td>\n",
       "      <td>1</td>\n",
       "      <td>0</td>\n",
       "      <td>0</td>\n",
       "      <td>1</td>\n",
       "    </tr>\n",
       "  </tbody>\n",
       "</table>\n",
       "</div>"
      ],
      "text/plain": [
       "    ¿es animal?   ¿es mamífero?   ¿es felino?   ¿es doméstico?  \\\n",
       "0             1               1             1                1   \n",
       "1             0               0             0                1   \n",
       "2             1               0             1                1   \n",
       "3             1               1             0                1   \n",
       "4             1               1             1                0   \n",
       "5             1               1             1                1   \n",
       "6             1               0             0                1   \n",
       "7             1               1             1                1   \n",
       "8             1               0             0                1   \n",
       "9             0               0             0                0   \n",
       "10            1               1             1                0   \n",
       "11            1               1             1                0   \n",
       "12            1               1             1                1   \n",
       "13            1               1             1                1   \n",
       "\n",
       "     ¿tiene dos orejas?   ¿es negro?   ¿tiene cuatro patas?   ¿es gato?  \n",
       "0                     1            1                      1           1  \n",
       "1                     0            1                      0           0  \n",
       "2                     0            1                      1           0  \n",
       "3                     1            0                      1           0  \n",
       "4                     1            0                      1           0  \n",
       "5                     0            0                      0           1  \n",
       "6                     1            1                      0           0  \n",
       "7                     0            0                      1           1  \n",
       "8                     0            0                      0           0  \n",
       "9                     0            0                      0           0  \n",
       "10                    1            1                      1           0  \n",
       "11                    1            0                      1           0  \n",
       "12                    1            0                      1           1  \n",
       "13                    1            0                      0           1  "
      ]
     },
     "execution_count": 2,
     "metadata": {},
     "output_type": "execute_result"
    }
   ],
   "source": [
    "data = pd.read_csv('cat_data.csv')\n",
    "data"
   ]
  },
  {
   "cell_type": "markdown",
   "metadata": {},
   "source": [
    "Para preparar los ejemplos, debemos separar  las clases. Nuestros datos están estructurados como $X_1, X_2, ..., X_7, Y$. Bastará entonces guardar los datos de la variable $Y$ para cada ejemplo de entrada. Asimismo, conviene guardar el número de ejemplos y el numero de variables (7), pues será información que ocuparemos posteriormente."
   ]
  },
  {
   "cell_type": "code",
   "execution_count": 3,
   "metadata": {},
   "outputs": [],
   "source": [
    "#Convertir los datos a numpy\n",
    "npData = data.to_numpy()\n",
    "#Ejemplos\n",
    "X = npData[:,:-1]\n",
    "#Clases de los ejemplos\n",
    "Y = npData[:,-1]\n",
    "\n",
    "#Tamaño de los datos\n",
    "#Unidades de entrada\n",
    "m,n = X.shape"
   ]
  },
  {
   "cell_type": "markdown",
   "metadata": {},
   "source": [
    "De los ejemplos hemos, entonces, aislado la clase a la que pertenecen (si son o no gatos) y conservado sólo la información sobre las variables $X_1, X_2,...,X_7$ que conformarán los vectores $X$ de entrenamiento."
   ]
  },
  {
   "cell_type": "code",
   "execution_count": 4,
   "metadata": {},
   "outputs": [
    {
     "data": {
      "text/html": [
       "<div>\n",
       "<style scoped>\n",
       "    .dataframe tbody tr th:only-of-type {\n",
       "        vertical-align: middle;\n",
       "    }\n",
       "\n",
       "    .dataframe tbody tr th {\n",
       "        vertical-align: top;\n",
       "    }\n",
       "\n",
       "    .dataframe thead th {\n",
       "        text-align: right;\n",
       "    }\n",
       "</style>\n",
       "<table border=\"1\" class=\"dataframe\">\n",
       "  <thead>\n",
       "    <tr style=\"text-align: right;\">\n",
       "      <th></th>\n",
       "      <th>¿es animal?</th>\n",
       "      <th>¿es mamífero?</th>\n",
       "      <th>¿es felino?</th>\n",
       "      <th>¿es doméstico?</th>\n",
       "      <th>¿tiene dos orejas?</th>\n",
       "      <th>¿es negro?</th>\n",
       "      <th>¿tiene cuatro patas?</th>\n",
       "    </tr>\n",
       "  </thead>\n",
       "  <tbody>\n",
       "    <tr>\n",
       "      <th>0</th>\n",
       "      <td>1</td>\n",
       "      <td>1</td>\n",
       "      <td>1</td>\n",
       "      <td>1</td>\n",
       "      <td>1</td>\n",
       "      <td>1</td>\n",
       "      <td>1</td>\n",
       "    </tr>\n",
       "    <tr>\n",
       "      <th>1</th>\n",
       "      <td>0</td>\n",
       "      <td>0</td>\n",
       "      <td>0</td>\n",
       "      <td>1</td>\n",
       "      <td>0</td>\n",
       "      <td>1</td>\n",
       "      <td>0</td>\n",
       "    </tr>\n",
       "    <tr>\n",
       "      <th>2</th>\n",
       "      <td>1</td>\n",
       "      <td>0</td>\n",
       "      <td>1</td>\n",
       "      <td>1</td>\n",
       "      <td>0</td>\n",
       "      <td>1</td>\n",
       "      <td>1</td>\n",
       "    </tr>\n",
       "    <tr>\n",
       "      <th>3</th>\n",
       "      <td>1</td>\n",
       "      <td>1</td>\n",
       "      <td>0</td>\n",
       "      <td>1</td>\n",
       "      <td>1</td>\n",
       "      <td>0</td>\n",
       "      <td>1</td>\n",
       "    </tr>\n",
       "    <tr>\n",
       "      <th>4</th>\n",
       "      <td>1</td>\n",
       "      <td>1</td>\n",
       "      <td>1</td>\n",
       "      <td>0</td>\n",
       "      <td>1</td>\n",
       "      <td>0</td>\n",
       "      <td>1</td>\n",
       "    </tr>\n",
       "    <tr>\n",
       "      <th>5</th>\n",
       "      <td>1</td>\n",
       "      <td>1</td>\n",
       "      <td>1</td>\n",
       "      <td>1</td>\n",
       "      <td>0</td>\n",
       "      <td>0</td>\n",
       "      <td>0</td>\n",
       "    </tr>\n",
       "    <tr>\n",
       "      <th>6</th>\n",
       "      <td>1</td>\n",
       "      <td>0</td>\n",
       "      <td>0</td>\n",
       "      <td>1</td>\n",
       "      <td>1</td>\n",
       "      <td>1</td>\n",
       "      <td>0</td>\n",
       "    </tr>\n",
       "    <tr>\n",
       "      <th>7</th>\n",
       "      <td>1</td>\n",
       "      <td>1</td>\n",
       "      <td>1</td>\n",
       "      <td>1</td>\n",
       "      <td>0</td>\n",
       "      <td>0</td>\n",
       "      <td>1</td>\n",
       "    </tr>\n",
       "    <tr>\n",
       "      <th>8</th>\n",
       "      <td>1</td>\n",
       "      <td>0</td>\n",
       "      <td>0</td>\n",
       "      <td>1</td>\n",
       "      <td>0</td>\n",
       "      <td>0</td>\n",
       "      <td>0</td>\n",
       "    </tr>\n",
       "    <tr>\n",
       "      <th>9</th>\n",
       "      <td>0</td>\n",
       "      <td>0</td>\n",
       "      <td>0</td>\n",
       "      <td>0</td>\n",
       "      <td>0</td>\n",
       "      <td>0</td>\n",
       "      <td>0</td>\n",
       "    </tr>\n",
       "    <tr>\n",
       "      <th>10</th>\n",
       "      <td>1</td>\n",
       "      <td>1</td>\n",
       "      <td>1</td>\n",
       "      <td>0</td>\n",
       "      <td>1</td>\n",
       "      <td>1</td>\n",
       "      <td>1</td>\n",
       "    </tr>\n",
       "    <tr>\n",
       "      <th>11</th>\n",
       "      <td>1</td>\n",
       "      <td>1</td>\n",
       "      <td>1</td>\n",
       "      <td>0</td>\n",
       "      <td>1</td>\n",
       "      <td>0</td>\n",
       "      <td>1</td>\n",
       "    </tr>\n",
       "    <tr>\n",
       "      <th>12</th>\n",
       "      <td>1</td>\n",
       "      <td>1</td>\n",
       "      <td>1</td>\n",
       "      <td>1</td>\n",
       "      <td>1</td>\n",
       "      <td>0</td>\n",
       "      <td>1</td>\n",
       "    </tr>\n",
       "    <tr>\n",
       "      <th>13</th>\n",
       "      <td>1</td>\n",
       "      <td>1</td>\n",
       "      <td>1</td>\n",
       "      <td>1</td>\n",
       "      <td>1</td>\n",
       "      <td>0</td>\n",
       "      <td>0</td>\n",
       "    </tr>\n",
       "  </tbody>\n",
       "</table>\n",
       "</div>"
      ],
      "text/plain": [
       "    ¿es animal?   ¿es mamífero?   ¿es felino?   ¿es doméstico?  \\\n",
       "0             1               1             1                1   \n",
       "1             0               0             0                1   \n",
       "2             1               0             1                1   \n",
       "3             1               1             0                1   \n",
       "4             1               1             1                0   \n",
       "5             1               1             1                1   \n",
       "6             1               0             0                1   \n",
       "7             1               1             1                1   \n",
       "8             1               0             0                1   \n",
       "9             0               0             0                0   \n",
       "10            1               1             1                0   \n",
       "11            1               1             1                0   \n",
       "12            1               1             1                1   \n",
       "13            1               1             1                1   \n",
       "\n",
       "     ¿tiene dos orejas?   ¿es negro?   ¿tiene cuatro patas?  \n",
       "0                     1            1                      1  \n",
       "1                     0            1                      0  \n",
       "2                     0            1                      1  \n",
       "3                     1            0                      1  \n",
       "4                     1            0                      1  \n",
       "5                     0            0                      0  \n",
       "6                     1            1                      0  \n",
       "7                     0            0                      1  \n",
       "8                     0            0                      0  \n",
       "9                     0            0                      0  \n",
       "10                    1            1                      1  \n",
       "11                    1            0                      1  \n",
       "12                    1            0                      1  \n",
       "13                    1            0                      0  "
      ]
     },
     "execution_count": 4,
     "metadata": {},
     "output_type": "execute_result"
    }
   ],
   "source": [
    "#Ejemplos\n",
    "pd.DataFrame(X, columns=list(data.columns)[:-1])"
   ]
  },
  {
   "cell_type": "code",
   "execution_count": 5,
   "metadata": {},
   "outputs": [
    {
     "data": {
      "text/html": [
       "<div>\n",
       "<style scoped>\n",
       "    .dataframe tbody tr th:only-of-type {\n",
       "        vertical-align: middle;\n",
       "    }\n",
       "\n",
       "    .dataframe tbody tr th {\n",
       "        vertical-align: top;\n",
       "    }\n",
       "\n",
       "    .dataframe thead th {\n",
       "        text-align: right;\n",
       "    }\n",
       "</style>\n",
       "<table border=\"1\" class=\"dataframe\">\n",
       "  <thead>\n",
       "    <tr style=\"text-align: right;\">\n",
       "      <th></th>\n",
       "      <th>¿es gato?</th>\n",
       "    </tr>\n",
       "  </thead>\n",
       "  <tbody>\n",
       "    <tr>\n",
       "      <th>0</th>\n",
       "      <td>1</td>\n",
       "    </tr>\n",
       "    <tr>\n",
       "      <th>1</th>\n",
       "      <td>0</td>\n",
       "    </tr>\n",
       "    <tr>\n",
       "      <th>2</th>\n",
       "      <td>0</td>\n",
       "    </tr>\n",
       "    <tr>\n",
       "      <th>3</th>\n",
       "      <td>0</td>\n",
       "    </tr>\n",
       "    <tr>\n",
       "      <th>4</th>\n",
       "      <td>0</td>\n",
       "    </tr>\n",
       "    <tr>\n",
       "      <th>5</th>\n",
       "      <td>1</td>\n",
       "    </tr>\n",
       "    <tr>\n",
       "      <th>6</th>\n",
       "      <td>0</td>\n",
       "    </tr>\n",
       "    <tr>\n",
       "      <th>7</th>\n",
       "      <td>1</td>\n",
       "    </tr>\n",
       "    <tr>\n",
       "      <th>8</th>\n",
       "      <td>0</td>\n",
       "    </tr>\n",
       "    <tr>\n",
       "      <th>9</th>\n",
       "      <td>0</td>\n",
       "    </tr>\n",
       "    <tr>\n",
       "      <th>10</th>\n",
       "      <td>0</td>\n",
       "    </tr>\n",
       "    <tr>\n",
       "      <th>11</th>\n",
       "      <td>0</td>\n",
       "    </tr>\n",
       "    <tr>\n",
       "      <th>12</th>\n",
       "      <td>1</td>\n",
       "    </tr>\n",
       "    <tr>\n",
       "      <th>13</th>\n",
       "      <td>1</td>\n",
       "    </tr>\n",
       "  </tbody>\n",
       "</table>\n",
       "</div>"
      ],
      "text/plain": [
       "    ¿es gato?\n",
       "0           1\n",
       "1           0\n",
       "2           0\n",
       "3           0\n",
       "4           0\n",
       "5           1\n",
       "6           0\n",
       "7           1\n",
       "8           0\n",
       "9           0\n",
       "10          0\n",
       "11          0\n",
       "12          1\n",
       "13          1"
      ]
     },
     "execution_count": 5,
     "metadata": {},
     "output_type": "execute_result"
    }
   ],
   "source": [
    "#Clases\n",
    "pd.DataFrame(Y, columns=['¿es gato?'])"
   ]
  },
  {
   "cell_type": "markdown",
   "metadata": {},
   "source": [
    "#### Visualización de los ejemplos\n",
    "\n",
    "En su calidad de vecotres, podemos visualizar cómo se comportan en un espacio vectorial. Para esto, utilizamos una técnica de reducción de dimensionadlida, PCA. Si bien los vectores no parecen linealmente separables, se verá al aplicar el perceptrón que, en su espacio oroginial, existe un hiperplano capaz de separar estos datos. Esto depende en gran medida de la selección de las variables aleatorias que definen los ejemplos."
   ]
  },
  {
   "cell_type": "code",
   "execution_count": 6,
   "metadata": {},
   "outputs": [
    {
     "data": {
      "image/png": "[encoded data removed]",
      "text/plain": [
       "<Figure size 432x288 with 1 Axes>"
      ]
     },
     "metadata": {
      "needs_background": "light"
     },
     "output_type": "display_data"
    }
   ],
   "source": [
    "RedX = PCA(2).fit_transform(X)\n",
    "plt.scatter(RedX[:,0], RedX[:,1], c=Y)\n",
    "plt.show()"
   ]
  },
  {
   "cell_type": "markdown",
   "metadata": {},
   "source": [
    "#### Exploración de los datos\n",
    "\n",
    "En tanto son variables aleatorias, podemos obtener estadísticas de éstas para describir nuestros datos. Ya que estas variables representan preguntas de sí y no, y que plasmamos enstos con 0 y 1, podemos ver que estas variables tienen distribución Bernoulli; es decir: \n",
    "\n",
    "$$X_i \\sim Ber(p_i)$$\n",
    "\n",
    "Es decir, son variables distribuidas de forma similar, aunque esto no siempre es así (por ejemplo, una de estas variables podría medir el tamaño en centímetros). Aquí $p_i$ es el parámetro de la distribución que puede estimarse por medio de la media empírica. Así, podemos describir cada una de estas variables."
   ]
  },
  {
   "cell_type": "code",
   "execution_count": 7,
   "metadata": {},
   "outputs": [
    {
     "data": {
      "text/html": [
       "<div>\n",
       "<style scoped>\n",
       "    .dataframe tbody tr th:only-of-type {\n",
       "        vertical-align: middle;\n",
       "    }\n",
       "\n",
       "    .dataframe tbody tr th {\n",
       "        vertical-align: top;\n",
       "    }\n",
       "\n",
       "    .dataframe thead th {\n",
       "        text-align: right;\n",
       "    }\n",
       "</style>\n",
       "<table border=\"1\" class=\"dataframe\">\n",
       "  <thead>\n",
       "    <tr style=\"text-align: right;\">\n",
       "      <th></th>\n",
       "      <th>¿es animal?</th>\n",
       "      <th>¿es mamífero?</th>\n",
       "      <th>¿es felino?</th>\n",
       "      <th>¿es doméstico?</th>\n",
       "      <th>¿tiene dos orejas?</th>\n",
       "      <th>¿es negro?</th>\n",
       "      <th>¿tiene cuatro patas?</th>\n",
       "      <th>¿es gato?</th>\n",
       "    </tr>\n",
       "  </thead>\n",
       "  <tbody>\n",
       "    <tr>\n",
       "      <th>count</th>\n",
       "      <td>14.000000</td>\n",
       "      <td>14.000000</td>\n",
       "      <td>14.000000</td>\n",
       "      <td>14.000000</td>\n",
       "      <td>14.000000</td>\n",
       "      <td>14.000000</td>\n",
       "      <td>14.000000</td>\n",
       "      <td>14.000000</td>\n",
       "    </tr>\n",
       "    <tr>\n",
       "      <th>mean</th>\n",
       "      <td>0.857143</td>\n",
       "      <td>0.642857</td>\n",
       "      <td>0.642857</td>\n",
       "      <td>0.714286</td>\n",
       "      <td>0.571429</td>\n",
       "      <td>0.357143</td>\n",
       "      <td>0.571429</td>\n",
       "      <td>0.357143</td>\n",
       "    </tr>\n",
       "    <tr>\n",
       "      <th>std</th>\n",
       "      <td>0.363137</td>\n",
       "      <td>0.497245</td>\n",
       "      <td>0.497245</td>\n",
       "      <td>0.468807</td>\n",
       "      <td>0.513553</td>\n",
       "      <td>0.497245</td>\n",
       "      <td>0.513553</td>\n",
       "      <td>0.497245</td>\n",
       "    </tr>\n",
       "    <tr>\n",
       "      <th>min</th>\n",
       "      <td>0.000000</td>\n",
       "      <td>0.000000</td>\n",
       "      <td>0.000000</td>\n",
       "      <td>0.000000</td>\n",
       "      <td>0.000000</td>\n",
       "      <td>0.000000</td>\n",
       "      <td>0.000000</td>\n",
       "      <td>0.000000</td>\n",
       "    </tr>\n",
       "    <tr>\n",
       "      <th>25%</th>\n",
       "      <td>1.000000</td>\n",
       "      <td>0.000000</td>\n",
       "      <td>0.000000</td>\n",
       "      <td>0.250000</td>\n",
       "      <td>0.000000</td>\n",
       "      <td>0.000000</td>\n",
       "      <td>0.000000</td>\n",
       "      <td>0.000000</td>\n",
       "    </tr>\n",
       "    <tr>\n",
       "      <th>50%</th>\n",
       "      <td>1.000000</td>\n",
       "      <td>1.000000</td>\n",
       "      <td>1.000000</td>\n",
       "      <td>1.000000</td>\n",
       "      <td>1.000000</td>\n",
       "      <td>0.000000</td>\n",
       "      <td>1.000000</td>\n",
       "      <td>0.000000</td>\n",
       "    </tr>\n",
       "    <tr>\n",
       "      <th>75%</th>\n",
       "      <td>1.000000</td>\n",
       "      <td>1.000000</td>\n",
       "      <td>1.000000</td>\n",
       "      <td>1.000000</td>\n",
       "      <td>1.000000</td>\n",
       "      <td>1.000000</td>\n",
       "      <td>1.000000</td>\n",
       "      <td>1.000000</td>\n",
       "    </tr>\n",
       "    <tr>\n",
       "      <th>max</th>\n",
       "      <td>1.000000</td>\n",
       "      <td>1.000000</td>\n",
       "      <td>1.000000</td>\n",
       "      <td>1.000000</td>\n",
       "      <td>1.000000</td>\n",
       "      <td>1.000000</td>\n",
       "      <td>1.000000</td>\n",
       "      <td>1.000000</td>\n",
       "    </tr>\n",
       "  </tbody>\n",
       "</table>\n",
       "</div>"
      ],
      "text/plain": [
       "       ¿es animal?   ¿es mamífero?   ¿es felino?   ¿es doméstico?  \\\n",
       "count    14.000000       14.000000     14.000000        14.000000   \n",
       "mean      0.857143        0.642857      0.642857         0.714286   \n",
       "std       0.363137        0.497245      0.497245         0.468807   \n",
       "min       0.000000        0.000000      0.000000         0.000000   \n",
       "25%       1.000000        0.000000      0.000000         0.250000   \n",
       "50%       1.000000        1.000000      1.000000         1.000000   \n",
       "75%       1.000000        1.000000      1.000000         1.000000   \n",
       "max       1.000000        1.000000      1.000000         1.000000   \n",
       "\n",
       "        ¿tiene dos orejas?   ¿es negro?   ¿tiene cuatro patas?   ¿es gato?  \n",
       "count            14.000000    14.000000              14.000000   14.000000  \n",
       "mean              0.571429     0.357143               0.571429    0.357143  \n",
       "std               0.513553     0.497245               0.513553    0.497245  \n",
       "min               0.000000     0.000000               0.000000    0.000000  \n",
       "25%               0.000000     0.000000               0.000000    0.000000  \n",
       "50%               1.000000     0.000000               1.000000    0.000000  \n",
       "75%               1.000000     1.000000               1.000000    1.000000  \n",
       "max               1.000000     1.000000               1.000000    1.000000  "
      ]
     },
     "execution_count": 7,
     "metadata": {},
     "output_type": "execute_result"
    }
   ],
   "source": [
    "data.describe()"
   ]
  },
  {
   "cell_type": "markdown",
   "metadata": {},
   "source": [
    "Por ejemplo $X_1$ que representa a la pregunta \"¿es animal?\" tiene una probabilidad (media empírica de las distribución Bernoulli) de 0.85. Esto no es raro, pues la mayoria de los ejemplos son gatos. Por su parte, la varibale $Y$ de \"¿es gato?\" tiene una probabilidad de 0.35, lo cual no es ideal, pues muchas veces se busca que se tenga un número igual de datos positivos como negativos. "
   ]
  },
  {
   "cell_type": "markdown",
   "metadata": {},
   "source": [
    "Ahora bien, ya hemos determinado que las variables muestran todas una misma distribución. Pero también podemos ver su nivel de dependencia. Para esto utilizaremos  una estadística de correlación. Podemos utilizar la correlación de Pearson, dada por:\n",
    "\n",
    "$$\\rho(X_i, X_j) = \\frac{Cov(X_i, X_j) }{\\sigma_i \\cdot \\sigma_j}$$\n",
    "\n",
    "Donde $Cov()$ es la covariancia, y $\\sigma_i, \\sigma_j$ son las desviaciones estándar de las variables."
   ]
  },
  {
   "cell_type": "code",
   "execution_count": 8,
   "metadata": {},
   "outputs": [
    {
     "data": {
      "text/html": [
       "<div>\n",
       "<style scoped>\n",
       "    .dataframe tbody tr th:only-of-type {\n",
       "        vertical-align: middle;\n",
       "    }\n",
       "\n",
       "    .dataframe tbody tr th {\n",
       "        vertical-align: top;\n",
       "    }\n",
       "\n",
       "    .dataframe thead th {\n",
       "        text-align: right;\n",
       "    }\n",
       "</style>\n",
       "<table border=\"1\" class=\"dataframe\">\n",
       "  <thead>\n",
       "    <tr style=\"text-align: right;\">\n",
       "      <th></th>\n",
       "      <th>¿es animal?</th>\n",
       "      <th>¿es mamífero?</th>\n",
       "      <th>¿es felino?</th>\n",
       "      <th>¿es doméstico?</th>\n",
       "      <th>¿tiene dos orejas?</th>\n",
       "      <th>¿es negro?</th>\n",
       "      <th>¿tiene cuatro patas?</th>\n",
       "      <th>¿es gato?</th>\n",
       "    </tr>\n",
       "  </thead>\n",
       "  <tbody>\n",
       "    <tr>\n",
       "      <th>¿es animal?</th>\n",
       "      <td>1.000000</td>\n",
       "      <td>0.547723</td>\n",
       "      <td>0.547723</td>\n",
       "      <td>0.193649</td>\n",
       "      <td>0.471405</td>\n",
       "      <td>-0.121716</td>\n",
       "      <td>0.471405</td>\n",
       "      <td>0.304290</td>\n",
       "    </tr>\n",
       "    <tr>\n",
       "      <th>¿es mamífero?</th>\n",
       "      <td>0.547723</td>\n",
       "      <td>1.000000</td>\n",
       "      <td>0.688889</td>\n",
       "      <td>-0.141421</td>\n",
       "      <td>0.559431</td>\n",
       "      <td>-0.377778</td>\n",
       "      <td>0.559431</td>\n",
       "      <td>0.555556</td>\n",
       "    </tr>\n",
       "    <tr>\n",
       "      <th>¿es felino?</th>\n",
       "      <td>0.547723</td>\n",
       "      <td>0.688889</td>\n",
       "      <td>1.000000</td>\n",
       "      <td>-0.141421</td>\n",
       "      <td>0.258199</td>\n",
       "      <td>-0.066667</td>\n",
       "      <td>0.559431</td>\n",
       "      <td>0.555556</td>\n",
       "    </tr>\n",
       "    <tr>\n",
       "      <th>¿es doméstico?</th>\n",
       "      <td>0.193649</td>\n",
       "      <td>-0.141421</td>\n",
       "      <td>-0.141421</td>\n",
       "      <td>1.000000</td>\n",
       "      <td>-0.228218</td>\n",
       "      <td>0.141421</td>\n",
       "      <td>-0.228218</td>\n",
       "      <td>0.471405</td>\n",
       "    </tr>\n",
       "    <tr>\n",
       "      <th>¿tiene dos orejas?</th>\n",
       "      <td>0.471405</td>\n",
       "      <td>0.559431</td>\n",
       "      <td>0.258199</td>\n",
       "      <td>-0.228218</td>\n",
       "      <td>1.000000</td>\n",
       "      <td>0.043033</td>\n",
       "      <td>0.416667</td>\n",
       "      <td>0.043033</td>\n",
       "    </tr>\n",
       "    <tr>\n",
       "      <th>¿es negro?</th>\n",
       "      <td>-0.121716</td>\n",
       "      <td>-0.377778</td>\n",
       "      <td>-0.066667</td>\n",
       "      <td>0.141421</td>\n",
       "      <td>0.043033</td>\n",
       "      <td>1.000000</td>\n",
       "      <td>0.043033</td>\n",
       "      <td>-0.244444</td>\n",
       "    </tr>\n",
       "    <tr>\n",
       "      <th>¿tiene cuatro patas?</th>\n",
       "      <td>0.471405</td>\n",
       "      <td>0.559431</td>\n",
       "      <td>0.559431</td>\n",
       "      <td>-0.228218</td>\n",
       "      <td>0.416667</td>\n",
       "      <td>0.043033</td>\n",
       "      <td>1.000000</td>\n",
       "      <td>0.043033</td>\n",
       "    </tr>\n",
       "    <tr>\n",
       "      <th>¿es gato?</th>\n",
       "      <td>0.304290</td>\n",
       "      <td>0.555556</td>\n",
       "      <td>0.555556</td>\n",
       "      <td>0.471405</td>\n",
       "      <td>0.043033</td>\n",
       "      <td>-0.244444</td>\n",
       "      <td>0.043033</td>\n",
       "      <td>1.000000</td>\n",
       "    </tr>\n",
       "  </tbody>\n",
       "</table>\n",
       "</div>"
      ],
      "text/plain": [
       "                       ¿es animal?   ¿es mamífero?   ¿es felino?  \\\n",
       "¿es animal?               1.000000        0.547723      0.547723   \n",
       " ¿es mamífero?            0.547723        1.000000      0.688889   \n",
       " ¿es felino?              0.547723        0.688889      1.000000   \n",
       " ¿es doméstico?           0.193649       -0.141421     -0.141421   \n",
       " ¿tiene dos orejas?       0.471405        0.559431      0.258199   \n",
       " ¿es negro?              -0.121716       -0.377778     -0.066667   \n",
       " ¿tiene cuatro patas?     0.471405        0.559431      0.559431   \n",
       " ¿es gato?                0.304290        0.555556      0.555556   \n",
       "\n",
       "                        ¿es doméstico?   ¿tiene dos orejas?   ¿es negro?  \\\n",
       "¿es animal?                   0.193649             0.471405    -0.121716   \n",
       " ¿es mamífero?               -0.141421             0.559431    -0.377778   \n",
       " ¿es felino?                 -0.141421             0.258199    -0.066667   \n",
       " ¿es doméstico?               1.000000            -0.228218     0.141421   \n",
       " ¿tiene dos orejas?          -0.228218             1.000000     0.043033   \n",
       " ¿es negro?                   0.141421             0.043033     1.000000   \n",
       " ¿tiene cuatro patas?        -0.228218             0.416667     0.043033   \n",
       " ¿es gato?                    0.471405             0.043033    -0.244444   \n",
       "\n",
       "                        ¿tiene cuatro patas?   ¿es gato?  \n",
       "¿es animal?                         0.471405    0.304290  \n",
       " ¿es mamífero?                      0.559431    0.555556  \n",
       " ¿es felino?                        0.559431    0.555556  \n",
       " ¿es doméstico?                    -0.228218    0.471405  \n",
       " ¿tiene dos orejas?                 0.416667    0.043033  \n",
       " ¿es negro?                         0.043033   -0.244444  \n",
       " ¿tiene cuatro patas?               1.000000    0.043033  \n",
       " ¿es gato?                          0.043033    1.000000  "
      ]
     },
     "execution_count": 8,
     "metadata": {},
     "output_type": "execute_result"
    }
   ],
   "source": [
    "data.corr('pearson')"
   ]
  },
  {
   "cell_type": "markdown",
   "metadata": {},
   "source": [
    "La diagonal siempre será 1, pues es la correlación entre la variable y sí misma. Podemos ver que, por ejemplo, ¿es animal? tiene una corralación baja con ¿es negro? y con ¿es doméstico?. Por otra parte, ¿es animal? tiene una correlación alta con ¿es mamífero? y ¿es felino?, lo que no es raro, pues para que se den estas dos últimas variables debe presentarse primero la de animal (pues no hay felinos que no sean animales).\n",
    "\n",
    "Los más importante aquí es notar las correlaciones con la variable $Y$ ¿es gato?: Podemos observar que las correlaciones más altas se dan con ¿es animal?, ¿es mamífero?, ¿es felino? y ¿es doméstico? (de las cuáles la más baja es con ¿es animal? y las más altas con ¿es mamífero? y ¿es felino?). Esto nos indica que son estas variables las que pueden influenciar más en la decisión de si el objeto es un gato o no. Esperamos, entonces, que en una red neuronal, las conexiones con estas variables sean altas."
   ]
  },
  {
   "cell_type": "markdown",
   "metadata": {},
   "source": [
    "## Perceptrón"
   ]
  },
  {
   "cell_type": "markdown",
   "metadata": {},
   "source": [
    "El perceptrón es un algoritmo de aprendizaje estadístico que busca estimar las clases de un conjunto de datos a partir de la función de decisión:\n",
    "\n",
    "$$f(x; \\theta) = \\begin{cases} 1 & \\text{ si } wx + b \\geq 0 \\\\ 0 & \\text{ si } wx + b < 0\\end{cases}$$\n",
    "\n",
    "Aquí $x$ es un vector de entrada. La función f depende de $\\theta = {w,b}$ que representa los parámetros o los pesos de la red: $w$ contienen los pesos de las conexiones y $b$ es el bias. Definimos esta función a continuación:"
   ]
  },
  {
   "cell_type": "code",
   "execution_count": 9,
   "metadata": {},
   "outputs": [],
   "source": [
    "#Función de decisión\n",
    "f = lambda x, theta: (np.dot(x,theta) >= 0).astype(np.int)"
   ]
  },
  {
   "cell_type": "markdown",
   "metadata": {},
   "source": [
    "#### Algoritmo del perceptrón\n",
    "\n",
    "El objetivo del algoritmo del perceptrón es obtener los parámetros $\\theta$ adecuados para que la red pueda clasificar adecuadamente los ejemplos. Este algoritmo es iterativo y busca minimizar el cuánto se equivoca la red en cada paso. \n",
    "\n",
    "Antes de entrar de lleno al este algoritmo, agregaremos una columna más a la matriz de datos de entrenamiento; esto con el objetivo de que esta columna represente el bias, de tal forma que sólo actualicemos sobre un vector de parámetros:"
   ]
  },
  {
   "cell_type": "code",
   "execution_count": 10,
   "metadata": {},
   "outputs": [],
   "source": [
    "#Se agrega una columna para bias\n",
    "X1 = np.append(X,np.ones((m,1)),axis=1)"
   ]
  },
  {
   "cell_type": "markdown",
   "metadata": {},
   "source": [
    "Para inicializar el algoritmo del perceptron, tomaremos un vector $w \\in \\mathbb{R}^{n+1}$, donde $n$ es el número de variables (la dimensión de los vectores ejemplos) y el $+1$ responde al bias. Asimismo, estableceremos un número máximo de iteraciones (en caso de que el algoritmo no sea capaz de minimizar el error) y, finalmente, estableceremos un rango de aprendizaje."
   ]
  },
  {
   "cell_type": "code",
   "execution_count": 11,
   "metadata": {},
   "outputs": [],
   "source": [
    "#Parámetros\n",
    "w = np.ones(n+1)\n",
    "\n",
    "#Núm. max de iteraciones\n",
    "its = 100\n",
    "#Learning rate\n",
    "lr = 0.1"
   ]
  },
  {
   "cell_type": "markdown",
   "metadata": {},
   "source": [
    "Para entrenar la red, utilizaremos el algoritmo del perceptrón. Este consta de dos partes:\n",
    "\n",
    "* Forward. Para cada ejemplo $x$, se computará la función $f(x; \\theta)$\n",
    "* Backward. Se actualizarán los pesos de $\\theta = {w,b}$ por medio de la regla: $$w_i \\leftarrow w_i - \\eta (f(x;\\theta)-y_x)x_i$$ Donde $y_x$ es la clase a la que pertenence el ejemplo $x$.\n",
    "\n",
    "El algoritmo iterará hasta que el error $f(x; \\theta) -y$ sea 0 o cuando se cumpla el número máximo de iteraciones."
   ]
  },
  {
   "cell_type": "code",
   "execution_count": 12,
   "metadata": {},
   "outputs": [
    {
     "name": "stdout",
     "output_type": "stream",
     "text": [
      "Estado 0 \t prediccion [1 1 1 1 1 1 1 1 1 1 1 1 1 1] \t parametros [0.3 0.6 0.6 0.5 0.5 0.6 0.5 0.1]\n",
      "Estado 1 \t prediccion [1 1 1 1 1 1 1 1 1 1 1 1 1 1] \t parametros [-0.4  0.2  0.2  0.   0.   0.2  0.  -0.8]\n",
      "Estado 2 \t prediccion [0 0 0 0 0 0 0 0 0 0 0 0 0 0] \t parametros [ 0.1  0.7  0.7  0.5  0.3  0.3  0.3 -0.3]\n",
      "Estado 3 \t prediccion [1 1 1 1 1 1 1 1 1 0 1 1 1 1] \t parametros [-0.6  0.3  0.3  0.  -0.2 -0.1 -0.2 -1.1]\n",
      "Estado 4 \t prediccion [0 0 0 0 0 0 0 0 0 0 0 0 0 0] \t parametros [-0.1  0.8  0.8  0.5  0.1 -0.   0.1 -0.6]\n",
      "Estado 5 \t prediccion [1 0 1 1 1 1 0 1 0 0 1 1 1 1] \t parametros [-0.6  0.4  0.4  0.3 -0.3 -0.2 -0.4 -1.1]\n",
      "Estado 6 \t prediccion [0 0 0 0 0 0 0 0 0 0 0 0 0 0] \t parametros [-0.1  0.9  0.9  0.8  0.  -0.1 -0.1 -0.6]\n",
      "Estado 7 \t prediccion [1 1 1 1 1 1 0 1 1 0 1 1 1 1] \t parametros [-0.7  0.5  0.5  0.4 -0.4 -0.4 -0.6 -1.3]\n",
      "Estado 8 \t prediccion [0 0 0 0 0 0 0 0 0 0 0 0 0 0] \t parametros [-0.2  1.   1.   0.9 -0.1 -0.3 -0.3 -0.8]\n",
      "Estado 9 \t prediccion [1 0 1 1 1 1 0 1 0 0 1 1 1 1] \t parametros [-0.7  0.6  0.6  0.7 -0.5 -0.5 -0.8 -1.3]\n",
      "Estado 10 \t prediccion [0 0 0 0 0 0 0 0 0 0 0 0 0 0] \t parametros [-0.2  1.1  1.1  1.2 -0.2 -0.4 -0.5 -0.8]\n",
      "Estado 11 \t prediccion [1 0 1 1 1 1 0 1 1 0 1 1 1 1] \t parametros [-0.8  0.7  0.7  0.9 -0.6 -0.6 -1.  -1.4]\n",
      "Estado 12 \t prediccion [0 0 0 0 0 1 0 0 0 0 0 0 0 0] \t parametros [-0.4  1.1  1.1  1.3 -0.3 -0.5 -0.7 -1. ]\n",
      "Estado 13 \t prediccion [1 0 0 0 0 1 0 1 0 0 0 0 1 1] \t parametros [-0.4  1.1  1.1  1.3 -0.3 -0.5 -0.7 -1. ]\n"
     ]
    }
   ],
   "source": [
    "#Detenerse\n",
    "stop = False\n",
    "t = 0\n",
    "while  stop == False:\n",
    "    #FORWARD\n",
    "    #Funcion de prediccion\n",
    "    pred = f(X1,w) \n",
    "    #Error\n",
    "    err =  pred - Y\n",
    "    \n",
    "    #ACTUALIZACIÓN\n",
    "    #Gradiente descendiente\n",
    "    w -= lr*((X1.T * err).T).sum(0)\n",
    "    \n",
    "    print('Estado', t, '\\t prediccion', pred, '\\t', end=\" \")\n",
    "    print('parametros', np.round(w,3))\n",
    "    \n",
    "    t += 1\n",
    "    #Criterio de paro\n",
    "    if (pred - Y).sum(0) == 0 or t > its: \n",
    "        stop = True"
   ]
  },
  {
   "cell_type": "markdown",
   "metadata": {},
   "source": [
    "#### Exploración de la red\n",
    "\n",
    "El perceptrón es un algoritmo que, por su simplicidad, es fácilmente interpretable. Dado que los ejemplos positivos (aquellos que sí son gatos) tienen que ser mayores a 0, mientras que los negativos serán menores a 0, el algoritmo otorga a las variables que influyen más en una desición positiva valores negativos; es decir, las conexiones que ayudan a discriminar si el vector de entrada describe un gato son conexiones fuertes (positivas), mientras que las que influyen negativamente tendrás conexiones negativas. Podemos observar entonces que peso se asigna en la red a cada variable."
   ]
  },
  {
   "cell_type": "code",
   "execution_count": 13,
   "metadata": {
    "scrolled": true
   },
   "outputs": [
    {
     "data": {
      "text/html": [
       "<div>\n",
       "<style scoped>\n",
       "    .dataframe tbody tr th:only-of-type {\n",
       "        vertical-align: middle;\n",
       "    }\n",
       "\n",
       "    .dataframe tbody tr th {\n",
       "        vertical-align: top;\n",
       "    }\n",
       "\n",
       "    .dataframe thead th {\n",
       "        text-align: right;\n",
       "    }\n",
       "</style>\n",
       "<table border=\"1\" class=\"dataframe\">\n",
       "  <thead>\n",
       "    <tr style=\"text-align: right;\">\n",
       "      <th></th>\n",
       "      <th>¿es animal?</th>\n",
       "      <th>¿es mamífero?</th>\n",
       "      <th>¿es felino?</th>\n",
       "      <th>¿es doméstico?</th>\n",
       "      <th>¿tiene dos orejas?</th>\n",
       "      <th>¿es negro?</th>\n",
       "      <th>¿tiene cuatro patas?</th>\n",
       "      <th>bias</th>\n",
       "    </tr>\n",
       "  </thead>\n",
       "  <tbody>\n",
       "    <tr>\n",
       "      <th>pesos</th>\n",
       "      <td>-0.4</td>\n",
       "      <td>1.1</td>\n",
       "      <td>1.1</td>\n",
       "      <td>1.3</td>\n",
       "      <td>-0.3</td>\n",
       "      <td>-0.5</td>\n",
       "      <td>-0.7</td>\n",
       "      <td>-1.0</td>\n",
       "    </tr>\n",
       "  </tbody>\n",
       "</table>\n",
       "</div>"
      ],
      "text/plain": [
       "       ¿es animal?   ¿es mamífero?   ¿es felino?   ¿es doméstico?  \\\n",
       "pesos         -0.4             1.1           1.1              1.3   \n",
       "\n",
       "        ¿tiene dos orejas?   ¿es negro?   ¿tiene cuatro patas?  bias  \n",
       "pesos                 -0.3         -0.5                   -0.7  -1.0  "
      ]
     },
     "execution_count": 13,
     "metadata": {},
     "output_type": "execute_result"
    }
   ],
   "source": [
    "pd.DataFrame(w.reshape(1,8), columns=list(data.columns)[:-1]+['bias'], index=['pesos'])"
   ]
  },
  {
   "cell_type": "markdown",
   "metadata": {},
   "source": [
    "Vemos que las variables que tienen pesos positivos son \"mamífero\", \"felino\" y \"doméstico\" características propias de la clase \"gato\" (clase 1). Las otras variables tienen pesos negativos, pues influyen poco en la decisión. Estos pesos tienen una relación con las correlaciones arriba presentadas. Las variables que msotraban una correlación mayor con la variable $Y$ (\"¿es gato?\") son precisamente  las que tienen mayores pesos aquí."
   ]
  },
  {
   "cell_type": "markdown",
   "metadata": {},
   "source": [
    "#### Inferencia de probabilidades con perceptrón\n",
    "\n",
    "Como hemos señalado más arriba, el problema de de clasificación puede formalizarse como:\n",
    "\n",
    "$$\\hat{y} = \\arg\\max_y p(Y=y|X_1,...,X_n)$$\n",
    "\n",
    "Sin embargo, en el algoritmo del perceptrón no hemos estimado ninguna probabilidad, sólo hemos decidido a partir de la fuerza del estímulo (si este es mayor a 0 se toma la clase 1, si es menor la clase 0). Con los parámetros aprendidos, podemos ver cómo se comportan los datos con respecto a esta decisión. Para esto mapearemos los escalares $wx+b$ en el eje $x$, mientras que en el eje $y$ se tienen las clases."
   ]
  },
  {
   "cell_type": "code",
   "execution_count": 14,
   "metadata": {},
   "outputs": [
    {
     "data": {
      "image/png": "[encoded data removed]",
      "text/plain": [
       "<Figure size 432x288 with 1 Axes>"
      ]
     },
     "metadata": {
      "needs_background": "light"
     },
     "output_type": "display_data"
    }
   ],
   "source": [
    "#Ploteo de la calsificación del perceptrón\n",
    "plt.scatter(np.dot(X1,w), Y, c=Y)\n",
    "plt.show()"
   ]
  },
  {
   "cell_type": "markdown",
   "metadata": {},
   "source": [
    "En este caso, el perceptrón puede clasificar sin equivocarse estos datos de entrenamiento. Por tanto, todos los puntos de la clase 1 están arriba, mientras que los de la clase 0 abajo. Si bien no se equivoca, los puntos más cercanos a 0 son los más dificiles de decidir. En este sentido, se tiene mayor certeza cuando el punto está más alejado del 0, pues es claro que entre más positivo sea un caso con más certeza se puede asegurar que es de la clase 1. En sentido estricto, diremos que es más probable que pertenezca a la clase 1. Por tanto, estipulamos que podemos definir una función de probabilidad que nos diga esto. Para esto, debemos buscar una función suave que aproxime la posición de los datos. La función que buscamos es la función sigmoide, y esta dada por:\n",
    "\n",
    "$$\\sigma(x) = \\frac{1}{1+e^{-x}}$$"
   ]
  },
  {
   "cell_type": "code",
   "execution_count": 15,
   "metadata": {},
   "outputs": [],
   "source": [
    "#Función sigmoide\n",
    "sig = lambda x: 1./(1.+np.exp(-x))"
   ]
  },
  {
   "cell_type": "markdown",
   "metadata": {},
   "source": [
    "A partir de esta función podemos aproximar la clasificación del perceptrón de manera suave. Esta función tiene una forma de S, a continuación podemos ver cómo se comporta:"
   ]
  },
  {
   "cell_type": "code",
   "execution_count": 16,
   "metadata": {},
   "outputs": [
    {
     "data": {
      "image/png": "[encoded data removed]",
      "text/plain": [
       "<Figure size 432x288 with 1 Axes>"
      ]
     },
     "metadata": {
      "needs_background": "light"
     },
     "output_type": "display_data"
    }
   ],
   "source": [
    "#Sigmoide\n",
    "sig_data = np.array([sig(k) for  k in np.linspace(-5,5)])\n",
    "#Ploteo del sigmoide con relación a la clasificación del perceptrón\n",
    "plt.plot(np.linspace(-5,5), sig_data)\n",
    "plt.scatter(np.dot(X1,w), Y, c=Y)\n",
    "plt.show()"
   ]
  },
  {
   "cell_type": "markdown",
   "metadata": {},
   "source": [
    "Podemos reducir el sigmoide a la escala de los datos, para ver cómo se comporta en relación a estos:"
   ]
  },
  {
   "cell_type": "code",
   "execution_count": 17,
   "metadata": {},
   "outputs": [
    {
     "data": {
      "image/png": "[encoded data removed]",
      "text/plain": [
       "<Figure size 432x288 with 1 Axes>"
      ]
     },
     "metadata": {
      "needs_background": "light"
     },
     "output_type": "display_data"
    }
   ],
   "source": [
    "#Sigmoide escala de los datos\n",
    "sig_data = np.array([sig(k) for  k in np.linspace(-1,2)])\n",
    "#Ploteo del sigmoide con relación a la clasificación del perceptrón\n",
    "plt.plot(np.linspace(-1,2), sig_data)\n",
    "plt.scatter(np.dot(X1,w), Y, c=Y)\n",
    "plt.show()"
   ]
  },
  {
   "cell_type": "markdown",
   "metadata": {},
   "source": [
    "Está función tiene las proiedades siguientes:\n",
    "\n",
    "* Es continua y derivable derivable\n",
    "* Converge a 1 cuando $x\\to\\infty$\n",
    "* Converge a 0 cuando $x\\to -\\infty$\n",
    "\n",
    "En este sentido es una función con valores en $[0,1]$. Tomaremos al sigmoide como una función de probabilidad. En este sentido, la estimación de probabilidad a aprtir del perceptrón puede verse como:\n",
    "\n",
    "$$p(Y=1|x) = \\sigma(wx+b)$$\n",
    "\n",
    "Por su  parte, la probabilidad de la clase negatica está dada por:\n",
    "\n",
    "$$p(Y=0|x) = 1-\\sigma(wx+b) = \\sigma(-wx-b)$$\n",
    "\n",
    "Esto euivale a proyectar los puntos obtenidos con la preactivación del perceptrón $wx+b$ en la función sigmoide, como puede verse a continuación: así, los puntos más alejados de 0 positivamente quedarán en la sección del sigmoide más cercana a 1, mientras que los que se alejan negativamente quedarán en la sección del sigmoide más cercana a 0.\n",
    "\n",
    "A continuación mostramos esta proyección en los datos."
   ]
  },
  {
   "cell_type": "code",
   "execution_count": 18,
   "metadata": {},
   "outputs": [
    {
     "data": {
      "image/png": "[encoded data removed]",
      "text/plain": [
       "<Figure size 432x288 with 1 Axes>"
      ]
     },
     "metadata": {
      "needs_background": "light"
     },
     "output_type": "display_data"
    }
   ],
   "source": [
    "plt.plot(np.linspace(-1,2.05), sig_data)\n",
    "plt.scatter(np.dot(X1,w), sig(np.dot(X1,w)), c=Y)\n",
    "plt.show()"
   ]
  },
  {
   "cell_type": "markdown",
   "metadata": {},
   "source": [
    "De esta forma, los puntos más cercanos a 0 tenderán a tener una prbabilidad cercana a $0.5$. De tal forma que podemos reformular la función de desción del perceptrón de la forma siguiente:\n",
    "\n",
    "$$f_\\sigma(x; \\theta) = \\begin{cases} 1 & \\text{ si } \\sigma(wx + b) \\leq 0.5 \\\\ 0 & \\text{ si } \\sigma(wx) + b < 0.5\\end{cases}$$\n",
    "\n",
    "Está función tendrá los mismos resultados que la función rígida de desición. Pero esta función tiene la ventaja de ser derivable, por lo que se podrán utilizar métodos de optimización basadas en gradiente. Por tanto, en adelante ocuparemos funciones de este tipo y no rígidas como las del perceptrón.\n",
    "\n",
    "Finalmente, podemos ver las prbabilidades para cada ejemplo:"
   ]
  },
  {
   "cell_type": "code",
   "execution_count": 19,
   "metadata": {},
   "outputs": [
    {
     "data": {
      "text/html": [
       "<div>\n",
       "<style scoped>\n",
       "    .dataframe tbody tr th:only-of-type {\n",
       "        vertical-align: middle;\n",
       "    }\n",
       "\n",
       "    .dataframe tbody tr th {\n",
       "        vertical-align: top;\n",
       "    }\n",
       "\n",
       "    .dataframe thead th {\n",
       "        text-align: right;\n",
       "    }\n",
       "</style>\n",
       "<table border=\"1\" class=\"dataframe\">\n",
       "  <thead>\n",
       "    <tr style=\"text-align: right;\">\n",
       "      <th></th>\n",
       "      <th>¿es animal?</th>\n",
       "      <th>¿es mamífero?</th>\n",
       "      <th>¿es felino?</th>\n",
       "      <th>¿es doméstico?</th>\n",
       "      <th>¿tiene dos orejas?</th>\n",
       "      <th>¿es negro?</th>\n",
       "      <th>¿tiene cuatro patas?</th>\n",
       "      <th>¿es gato?</th>\n",
       "      <th>p(gato|X)</th>\n",
       "    </tr>\n",
       "  </thead>\n",
       "  <tbody>\n",
       "    <tr>\n",
       "      <th>0</th>\n",
       "      <td>1</td>\n",
       "      <td>1</td>\n",
       "      <td>1</td>\n",
       "      <td>1</td>\n",
       "      <td>1</td>\n",
       "      <td>1</td>\n",
       "      <td>1</td>\n",
       "      <td>1</td>\n",
       "      <td>0.645656</td>\n",
       "    </tr>\n",
       "    <tr>\n",
       "      <th>1</th>\n",
       "      <td>0</td>\n",
       "      <td>0</td>\n",
       "      <td>0</td>\n",
       "      <td>1</td>\n",
       "      <td>0</td>\n",
       "      <td>1</td>\n",
       "      <td>0</td>\n",
       "      <td>0</td>\n",
       "      <td>0.450166</td>\n",
       "    </tr>\n",
       "    <tr>\n",
       "      <th>2</th>\n",
       "      <td>1</td>\n",
       "      <td>0</td>\n",
       "      <td>1</td>\n",
       "      <td>1</td>\n",
       "      <td>0</td>\n",
       "      <td>1</td>\n",
       "      <td>1</td>\n",
       "      <td>0</td>\n",
       "      <td>0.450166</td>\n",
       "    </tr>\n",
       "    <tr>\n",
       "      <th>3</th>\n",
       "      <td>1</td>\n",
       "      <td>1</td>\n",
       "      <td>0</td>\n",
       "      <td>1</td>\n",
       "      <td>1</td>\n",
       "      <td>0</td>\n",
       "      <td>1</td>\n",
       "      <td>0</td>\n",
       "      <td>0.500000</td>\n",
       "    </tr>\n",
       "    <tr>\n",
       "      <th>4</th>\n",
       "      <td>1</td>\n",
       "      <td>1</td>\n",
       "      <td>1</td>\n",
       "      <td>0</td>\n",
       "      <td>1</td>\n",
       "      <td>0</td>\n",
       "      <td>1</td>\n",
       "      <td>0</td>\n",
       "      <td>0.450166</td>\n",
       "    </tr>\n",
       "    <tr>\n",
       "      <th>5</th>\n",
       "      <td>1</td>\n",
       "      <td>1</td>\n",
       "      <td>1</td>\n",
       "      <td>1</td>\n",
       "      <td>0</td>\n",
       "      <td>0</td>\n",
       "      <td>0</td>\n",
       "      <td>1</td>\n",
       "      <td>0.890903</td>\n",
       "    </tr>\n",
       "    <tr>\n",
       "      <th>6</th>\n",
       "      <td>1</td>\n",
       "      <td>0</td>\n",
       "      <td>0</td>\n",
       "      <td>1</td>\n",
       "      <td>1</td>\n",
       "      <td>1</td>\n",
       "      <td>0</td>\n",
       "      <td>0</td>\n",
       "      <td>0.289050</td>\n",
       "    </tr>\n",
       "    <tr>\n",
       "      <th>7</th>\n",
       "      <td>1</td>\n",
       "      <td>1</td>\n",
       "      <td>1</td>\n",
       "      <td>1</td>\n",
       "      <td>0</td>\n",
       "      <td>0</td>\n",
       "      <td>1</td>\n",
       "      <td>1</td>\n",
       "      <td>0.802184</td>\n",
       "    </tr>\n",
       "    <tr>\n",
       "      <th>8</th>\n",
       "      <td>1</td>\n",
       "      <td>0</td>\n",
       "      <td>0</td>\n",
       "      <td>1</td>\n",
       "      <td>0</td>\n",
       "      <td>0</td>\n",
       "      <td>0</td>\n",
       "      <td>0</td>\n",
       "      <td>0.475021</td>\n",
       "    </tr>\n",
       "    <tr>\n",
       "      <th>9</th>\n",
       "      <td>0</td>\n",
       "      <td>0</td>\n",
       "      <td>0</td>\n",
       "      <td>0</td>\n",
       "      <td>0</td>\n",
       "      <td>0</td>\n",
       "      <td>0</td>\n",
       "      <td>0</td>\n",
       "      <td>0.268941</td>\n",
       "    </tr>\n",
       "    <tr>\n",
       "      <th>10</th>\n",
       "      <td>1</td>\n",
       "      <td>1</td>\n",
       "      <td>1</td>\n",
       "      <td>0</td>\n",
       "      <td>1</td>\n",
       "      <td>1</td>\n",
       "      <td>1</td>\n",
       "      <td>0</td>\n",
       "      <td>0.331812</td>\n",
       "    </tr>\n",
       "    <tr>\n",
       "      <th>11</th>\n",
       "      <td>1</td>\n",
       "      <td>1</td>\n",
       "      <td>1</td>\n",
       "      <td>0</td>\n",
       "      <td>1</td>\n",
       "      <td>0</td>\n",
       "      <td>1</td>\n",
       "      <td>0</td>\n",
       "      <td>0.450166</td>\n",
       "    </tr>\n",
       "    <tr>\n",
       "      <th>12</th>\n",
       "      <td>1</td>\n",
       "      <td>1</td>\n",
       "      <td>1</td>\n",
       "      <td>1</td>\n",
       "      <td>1</td>\n",
       "      <td>0</td>\n",
       "      <td>1</td>\n",
       "      <td>1</td>\n",
       "      <td>0.750260</td>\n",
       "    </tr>\n",
       "    <tr>\n",
       "      <th>13</th>\n",
       "      <td>1</td>\n",
       "      <td>1</td>\n",
       "      <td>1</td>\n",
       "      <td>1</td>\n",
       "      <td>1</td>\n",
       "      <td>0</td>\n",
       "      <td>0</td>\n",
       "      <td>1</td>\n",
       "      <td>0.858149</td>\n",
       "    </tr>\n",
       "  </tbody>\n",
       "</table>\n",
       "</div>"
      ],
      "text/plain": [
       "    ¿es animal?   ¿es mamífero?   ¿es felino?   ¿es doméstico?  \\\n",
       "0             1               1             1                1   \n",
       "1             0               0             0                1   \n",
       "2             1               0             1                1   \n",
       "3             1               1             0                1   \n",
       "4             1               1             1                0   \n",
       "5             1               1             1                1   \n",
       "6             1               0             0                1   \n",
       "7             1               1             1                1   \n",
       "8             1               0             0                1   \n",
       "9             0               0             0                0   \n",
       "10            1               1             1                0   \n",
       "11            1               1             1                0   \n",
       "12            1               1             1                1   \n",
       "13            1               1             1                1   \n",
       "\n",
       "     ¿tiene dos orejas?   ¿es negro?   ¿tiene cuatro patas?   ¿es gato?  \\\n",
       "0                     1            1                      1           1   \n",
       "1                     0            1                      0           0   \n",
       "2                     0            1                      1           0   \n",
       "3                     1            0                      1           0   \n",
       "4                     1            0                      1           0   \n",
       "5                     0            0                      0           1   \n",
       "6                     1            1                      0           0   \n",
       "7                     0            0                      1           1   \n",
       "8                     0            0                      0           0   \n",
       "9                     0            0                      0           0   \n",
       "10                    1            1                      1           0   \n",
       "11                    1            0                      1           0   \n",
       "12                    1            0                      1           1   \n",
       "13                    1            0                      0           1   \n",
       "\n",
       "    p(gato|X)  \n",
       "0    0.645656  \n",
       "1    0.450166  \n",
       "2    0.450166  \n",
       "3    0.500000  \n",
       "4    0.450166  \n",
       "5    0.890903  \n",
       "6    0.289050  \n",
       "7    0.802184  \n",
       "8    0.475021  \n",
       "9    0.268941  \n",
       "10   0.331812  \n",
       "11   0.450166  \n",
       "12   0.750260  \n",
       "13   0.858149  "
      ]
     },
     "execution_count": 19,
     "metadata": {},
     "output_type": "execute_result"
    }
   ],
   "source": [
    "data['p(gato|X)'] = sig(np.dot(X1,w))\n",
    "data"
   ]
  },
  {
   "cell_type": "markdown",
   "metadata": {},
   "source": [
    "## FeedForward"
   ]
  },
  {
   "cell_type": "code",
   "execution_count": 331,
   "metadata": {},
   "outputs": [],
   "source": [
    "np.random.seed(0)\n",
    "\n",
    "#HIPERPARÁMETROS\n",
    "#Número de dimensiones\n",
    "h_dim = 2\n",
    "#Rango de aprendizaje\n",
    "l = 0.01\n",
    "#Regularización\n",
    "reg = 0.2\n",
    "#Número máximo de iteraciones\n",
    "max_it = 1000\n",
    "\n",
    "#Inicialización de parámetros de la red\n",
    "w1 = np.random.rand(n,h_dim)/np.sqrt(n)\n",
    "b1 = np.ones(h_dim)\n",
    "w2 = np.random.rand(h_dim,2)/np.sqrt(h_dim)\n",
    "b2 = np.ones(2)"
   ]
  },
  {
   "cell_type": "code",
   "execution_count": 332,
   "metadata": {},
   "outputs": [
    {
     "name": "stdout",
     "output_type": "stream",
     "text": [
      "Época 0 \t Error 9 \t Entropy 11.285956391735523\n",
      "Época 10 \t Error 5 \t Entropy 9.171032843720772\n",
      "Época 20 \t Error 5 \t Entropy 9.137110693561763\n",
      "Época 30 \t Error 5 \t Entropy 9.132363856993603\n",
      "Época 40 \t Error 5 \t Entropy 9.128200545403368\n",
      "Época 50 \t Error 5 \t Entropy 9.124060389443006\n",
      "Época 60 \t Error 5 \t Entropy 9.119894231018531\n",
      "Época 70 \t Error 5 \t Entropy 9.115665322482895\n",
      "Época 80 \t Error 5 \t Entropy 9.11133499225059\n",
      "Época 90 \t Error 5 \t Entropy 9.106860539205776\n",
      "Época 100 \t Error 5 \t Entropy 9.102193524104806\n",
      "Época 110 \t Error 5 \t Entropy 9.09727773483464\n",
      "Época 120 \t Error 5 \t Entropy 9.092046603842078\n",
      "Época 130 \t Error 5 \t Entropy 9.08641983545956\n",
      "Época 140 \t Error 5 \t Entropy 9.080298899111433\n",
      "Época 150 \t Error 5 \t Entropy 9.073560878089216\n",
      "Época 160 \t Error 5 \t Entropy 9.06604989881156\n",
      "Época 170 \t Error 5 \t Entropy 9.057564936940697\n",
      "Época 180 \t Error 5 \t Entropy 9.047842088388244\n",
      "Época 190 \t Error 5 \t Entropy 9.036528195843289\n",
      "Época 200 \t Error 5 \t Entropy 9.02314065054007\n",
      "Época 210 \t Error 5 \t Entropy 9.007004528720174\n",
      "Época 220 \t Error 5 \t Entropy 8.987151638451683\n",
      "Época 230 \t Error 5 \t Entropy 8.962154128234237\n",
      "Época 240 \t Error 5 \t Entropy 8.929844122273806\n",
      "Época 250 \t Error 5 \t Entropy 8.886836439729565\n",
      "Época 260 \t Error 5 \t Entropy 8.827732757044146\n",
      "Época 270 \t Error 5 \t Entropy 8.743927483129298\n",
      "Época 280 \t Error 5 \t Entropy 8.622426586303217\n",
      "Época 290 \t Error 5 \t Entropy 8.446826421877063\n",
      "Época 300 \t Error 5 \t Entropy 8.204238084133275\n",
      "Época 310 \t Error 5 \t Entropy 7.89425821366594\n",
      "Época 320 \t Error 5 \t Entropy 7.524917603192161\n",
      "Época 330 \t Error 4 \t Entropy 7.099469692610915\n",
      "Época 340 \t Error 2 \t Entropy 6.612390422724863\n",
      "Época 350 \t Error 1 \t Entropy 6.059751548883121\n",
      "Época 360 \t Error 1 \t Entropy 5.4575026682275105\n",
      "Época 370 \t Error 1 \t Entropy 4.84611031677765\n",
      "Época 380 \t Error 1 \t Entropy 4.269017791922866\n",
      "Época 390 \t Error 1 \t Entropy 3.752005521507716\n",
      "Época 400 \t Error 1 \t Entropy 3.3027491722783253\n",
      "Época 407 \t Error 0 \t Entropy 3.064846408752635\n"
     ]
    }
   ],
   "source": [
    "t=0 #Primera iteración\n",
    "stop = False #Condición de paro\n",
    "while  stop == False:\n",
    "    #FORWARD\n",
    "    #Pre-activación capa oculta\n",
    "    a = np.dot(X,w1) + b1\n",
    "    #Activación capa oculta\n",
    "    h = np.tanh(a)\n",
    "    #Pre-activación capa de salida\n",
    "    out = np.dot(h,w2)+b2\n",
    "    #Función softmax\n",
    "    exp = np.exp( out) #Resta del máximo\n",
    "    f = exp/exp.sum(1, keepdims=True)\n",
    "    \n",
    "    #BACKPROP\n",
    "    #Variable de capa de salida\n",
    "    d_out = exp/exp.sum(1, keepdims=True)\n",
    "    d_out[range(m),Y] -= 1\n",
    "    #Variable de capa oculta\n",
    "    d_h = (1-h**2)*np.dot(d_out,w2.T)\n",
    "    \n",
    "    #Derivada sobre w2\n",
    "    dw2 = np.dot(h.T,d_out)\n",
    "    #Derivada sobre b2\n",
    "    db2 = d_out.sum(0)\n",
    "    #Derivada sobre w1    \n",
    "    dw1 = np.dot(X.T,d_h)\n",
    "    #Derivada sobre b1\n",
    "    db1 = d_h.sum(0)\n",
    "    #Derivada regularización\n",
    "    dw2 += reg*w2\n",
    "    dw1 += reg*w1\n",
    "    \n",
    "    #Actualización de pesos\n",
    "    w2 -= l*dw2\n",
    "    b2 -= l*db2\n",
    "    w1 -= l*dw1\n",
    "    b1 -= l*db1\n",
    "    \n",
    "    #Cálculo de errores cometidos\n",
    "    error = ((np.argmax(f, axis=1)-Y)**2).sum(0)\n",
    "    if t%10 == 0: \n",
    "        print('Época', t, '\\t Error', error, '\\t Entropy', -np.log(f[range(m),Y]).sum(0))\n",
    "    \n",
    "    #Aumenta la iteración\n",
    "    t += 1\n",
    "    #Condición de paro\n",
    "    if error == 0 or t == max_it:\n",
    "        stop = True\n",
    "        print('Época', t, '\\t Error', error, '\\t Entropy', -np.log(f[range(m),Y]).sum(0))\n",
    "    "
   ]
  },
  {
   "cell_type": "markdown",
   "metadata": {},
   "source": [
    "#### Capa oculta"
   ]
  },
  {
   "cell_type": "code",
   "execution_count": 333,
   "metadata": {},
   "outputs": [
    {
     "name": "stdout",
     "output_type": "stream",
     "text": [
      "[[ 0.6192831   0.31986131]\n",
      " [ 0.77163407 -0.26520655]\n",
      " [ 0.6600655  -0.20850533]\n",
      " [ 0.63807158 -0.18784725]\n",
      " [ 0.61372026 -0.11994979]\n",
      " [ 0.33117699  0.85609767]\n",
      " [ 0.79379575 -0.72223788]\n",
      " [ 0.38438205  0.71364429]\n",
      " [ 0.6428177  -0.33569125]\n",
      " [ 0.76797834 -0.61921031]\n",
      " [ 0.72153267 -0.42871422]\n",
      " [ 0.61372026 -0.11994979]\n",
      " [ 0.48375465  0.58450792]\n",
      " [ 0.43563676  0.78307047]]\n"
     ]
    },
    {
     "data": {
      "image/png": "[encoded data removed]",
      "text/plain": [
       "<Figure size 432x288 with 1 Axes>"
      ]
     },
     "metadata": {
      "needs_background": "light"
     },
     "output_type": "display_data"
    }
   ],
   "source": [
    "T = np.tanh(np.dot(X,w1)+b1)\n",
    "plt.scatter(T[:,0],T[:,1],c=Y)\n",
    "print(T)"
   ]
  },
  {
   "cell_type": "code",
   "execution_count": 334,
   "metadata": {},
   "outputs": [
    {
     "data": {
      "image/png": "[encoded data removed]",
      "text/plain": [
       "<Figure size 432x288 with 2 Axes>"
      ]
     },
     "metadata": {
      "needs_background": "light"
     },
     "output_type": "display_data"
    }
   ],
   "source": [
    "ax = sns.heatmap(w1, linewidth=1.0, xticklabels=['x','y'],yticklabels=list(data.columns)[:-2])\n",
    "ax.set_title('Pesos capa oculta')\n",
    "plt.show()"
   ]
  },
  {
   "cell_type": "code",
   "execution_count": 335,
   "metadata": {},
   "outputs": [
    {
     "data": {
      "text/html": [
       "<div>\n",
       "<style scoped>\n",
       "    .dataframe tbody tr th:only-of-type {\n",
       "        vertical-align: middle;\n",
       "    }\n",
       "\n",
       "    .dataframe tbody tr th {\n",
       "        vertical-align: top;\n",
       "    }\n",
       "\n",
       "    .dataframe thead th {\n",
       "        text-align: right;\n",
       "    }\n",
       "</style>\n",
       "<table border=\"1\" class=\"dataframe\">\n",
       "  <thead>\n",
       "    <tr style=\"text-align: right;\">\n",
       "      <th></th>\n",
       "      <th>¿es animal?</th>\n",
       "      <th>¿es mamífero?</th>\n",
       "      <th>¿es felino?</th>\n",
       "      <th>¿es doméstico?</th>\n",
       "      <th>¿tiene dos orejas?</th>\n",
       "      <th>¿es negro?</th>\n",
       "      <th>¿tiene cuatro patas?</th>\n",
       "    </tr>\n",
       "  </thead>\n",
       "  <tbody>\n",
       "    <tr>\n",
       "      <th>x</th>\n",
       "      <td>-0.065426</td>\n",
       "      <td>-0.191771</td>\n",
       "      <td>-0.227040</td>\n",
       "      <td>-0.186993</td>\n",
       "      <td>0.122683</td>\n",
       "      <td>0.195967</td>\n",
       "      <td>0.061042</td>\n",
       "    </tr>\n",
       "    <tr>\n",
       "      <th>y</th>\n",
       "      <td>-0.415318</td>\n",
       "      <td>0.768389</td>\n",
       "      <td>0.859388</td>\n",
       "      <td>0.789813</td>\n",
       "      <td>-0.225289</td>\n",
       "      <td>-0.337790</td>\n",
       "      <td>-0.383977</td>\n",
       "    </tr>\n",
       "  </tbody>\n",
       "</table>\n",
       "</div>"
      ],
      "text/plain": [
       "   ¿es animal?   ¿es mamífero?   ¿es felino?   ¿es doméstico?  \\\n",
       "x    -0.065426       -0.191771     -0.227040        -0.186993   \n",
       "y    -0.415318        0.768389      0.859388         0.789813   \n",
       "\n",
       "    ¿tiene dos orejas?   ¿es negro?   ¿tiene cuatro patas?  \n",
       "x             0.122683     0.195967               0.061042  \n",
       "y            -0.225289    -0.337790              -0.383977  "
      ]
     },
     "execution_count": 335,
     "metadata": {},
     "output_type": "execute_result"
    }
   ],
   "source": [
    "pd.DataFrame(w1.T, columns=list(data.columns)[:-2], index=['x','y'])"
   ]
  },
  {
   "cell_type": "code",
   "execution_count": null,
   "metadata": {},
   "outputs": [],
   "source": []
  },
  {
   "cell_type": "markdown",
   "metadata": {},
   "source": [
    "#### Capa de salida"
   ]
  },
  {
   "cell_type": "code",
   "execution_count": 336,
   "metadata": {},
   "outputs": [
    {
     "data": {
      "image/png": "[encoded data removed]",
      "text/plain": [
       "<Figure size 432x288 with 2 Axes>"
      ]
     },
     "metadata": {
      "needs_background": "light"
     },
     "output_type": "display_data"
    }
   ],
   "source": [
    "ax = sns.heatmap(w2, linewidth=1.0, xticklabels=['x','y'],yticklabels=['no gato', 'gato'])\n",
    "ax.set_title('Pesos capa salida')\n",
    "plt.show()"
   ]
  },
  {
   "cell_type": "code",
   "execution_count": 337,
   "metadata": {},
   "outputs": [
    {
     "data": {
      "text/html": [
       "<div>\n",
       "<style scoped>\n",
       "    .dataframe tbody tr th:only-of-type {\n",
       "        vertical-align: middle;\n",
       "    }\n",
       "\n",
       "    .dataframe tbody tr th {\n",
       "        vertical-align: top;\n",
       "    }\n",
       "\n",
       "    .dataframe thead th {\n",
       "        text-align: right;\n",
       "    }\n",
       "</style>\n",
       "<table border=\"1\" class=\"dataframe\">\n",
       "  <thead>\n",
       "    <tr style=\"text-align: right;\">\n",
       "      <th></th>\n",
       "      <th>x</th>\n",
       "      <th>y</th>\n",
       "    </tr>\n",
       "  </thead>\n",
       "  <tbody>\n",
       "    <tr>\n",
       "      <th>gato</th>\n",
       "      <td>0.212482</td>\n",
       "      <td>-0.162968</td>\n",
       "    </tr>\n",
       "    <tr>\n",
       "      <th>no gato</th>\n",
       "      <td>-1.352188</td>\n",
       "      <td>1.619170</td>\n",
       "    </tr>\n",
       "  </tbody>\n",
       "</table>\n",
       "</div>"
      ],
      "text/plain": [
       "                x         y\n",
       "gato     0.212482 -0.162968\n",
       "no gato -1.352188  1.619170"
      ]
     },
     "execution_count": 337,
     "metadata": {},
     "output_type": "execute_result"
    }
   ],
   "source": [
    "pd.DataFrame(w2, index=['gato', 'no gato'], columns=['x','y'])"
   ]
  },
  {
   "cell_type": "code",
   "execution_count": 338,
   "metadata": {},
   "outputs": [
    {
     "name": "stdout",
     "output_type": "stream",
     "text": [
      "[1 0 0 0 0 1 0 1 0 0 0 0 1 1] [1 0 0 0 0 1 0 1 0 0 0 0 1 1]\n"
     ]
    }
   ],
   "source": [
    "dot = np.dot(T,w2)+b2\n",
    "dotExp = np.exp(dot)\n",
    "probs = dotExp/dotExp.sum(1, keepdims=True)\n",
    "print(np.argmax(probs,axis=1), Y)"
   ]
  },
  {
   "cell_type": "code",
   "execution_count": 339,
   "metadata": {},
   "outputs": [
    {
     "data": {
      "text/html": [
       "<div>\n",
       "<style scoped>\n",
       "    .dataframe tbody tr th:only-of-type {\n",
       "        vertical-align: middle;\n",
       "    }\n",
       "\n",
       "    .dataframe tbody tr th {\n",
       "        vertical-align: top;\n",
       "    }\n",
       "\n",
       "    .dataframe thead th {\n",
       "        text-align: right;\n",
       "    }\n",
       "</style>\n",
       "<table border=\"1\" class=\"dataframe\">\n",
       "  <thead>\n",
       "    <tr style=\"text-align: right;\">\n",
       "      <th></th>\n",
       "      <th>0</th>\n",
       "      <th>1</th>\n",
       "      <th>2</th>\n",
       "      <th>3</th>\n",
       "      <th>4</th>\n",
       "      <th>5</th>\n",
       "      <th>6</th>\n",
       "      <th>7</th>\n",
       "      <th>8</th>\n",
       "      <th>9</th>\n",
       "      <th>10</th>\n",
       "      <th>11</th>\n",
       "      <th>12</th>\n",
       "      <th>13</th>\n",
       "    </tr>\n",
       "  </thead>\n",
       "  <tbody>\n",
       "    <tr>\n",
       "      <th>p(Y=0)</th>\n",
       "      <td>0.494836</td>\n",
       "      <td>0.855077</td>\n",
       "      <td>0.827015</td>\n",
       "      <td>0.816825</td>\n",
       "      <td>0.783145</td>\n",
       "      <td>0.151591</td>\n",
       "      <td>0.958565</td>\n",
       "      <td>0.217734</td>\n",
       "      <td>0.873919</td>\n",
       "      <td>0.944038</td>\n",
       "      <td>0.90396</td>\n",
       "      <td>0.783145</td>\n",
       "      <td>0.297778</td>\n",
       "      <td>0.187556</td>\n",
       "    </tr>\n",
       "    <tr>\n",
       "      <th>p(Y=1)</th>\n",
       "      <td>0.505164</td>\n",
       "      <td>0.144923</td>\n",
       "      <td>0.172985</td>\n",
       "      <td>0.183175</td>\n",
       "      <td>0.216855</td>\n",
       "      <td>0.848409</td>\n",
       "      <td>0.041435</td>\n",
       "      <td>0.782266</td>\n",
       "      <td>0.126081</td>\n",
       "      <td>0.055962</td>\n",
       "      <td>0.09604</td>\n",
       "      <td>0.216855</td>\n",
       "      <td>0.702222</td>\n",
       "      <td>0.812444</td>\n",
       "    </tr>\n",
       "    <tr>\n",
       "      <th>Y</th>\n",
       "      <td>1.000000</td>\n",
       "      <td>0.000000</td>\n",
       "      <td>0.000000</td>\n",
       "      <td>0.000000</td>\n",
       "      <td>0.000000</td>\n",
       "      <td>1.000000</td>\n",
       "      <td>0.000000</td>\n",
       "      <td>1.000000</td>\n",
       "      <td>0.000000</td>\n",
       "      <td>0.000000</td>\n",
       "      <td>0.00000</td>\n",
       "      <td>0.000000</td>\n",
       "      <td>1.000000</td>\n",
       "      <td>1.000000</td>\n",
       "    </tr>\n",
       "  </tbody>\n",
       "</table>\n",
       "</div>"
      ],
      "text/plain": [
       "              0         1         2         3         4         5         6   \\\n",
       "p(Y=0)  0.494836  0.855077  0.827015  0.816825  0.783145  0.151591  0.958565   \n",
       "p(Y=1)  0.505164  0.144923  0.172985  0.183175  0.216855  0.848409  0.041435   \n",
       "Y       1.000000  0.000000  0.000000  0.000000  0.000000  1.000000  0.000000   \n",
       "\n",
       "              7         8         9        10        11        12        13  \n",
       "p(Y=0)  0.217734  0.873919  0.944038  0.90396  0.783145  0.297778  0.187556  \n",
       "p(Y=1)  0.782266  0.126081  0.055962  0.09604  0.216855  0.702222  0.812444  \n",
       "Y       1.000000  0.000000  0.000000  0.00000  0.000000  1.000000  1.000000  "
      ]
     },
     "execution_count": 339,
     "metadata": {},
     "output_type": "execute_result"
    }
   ],
   "source": [
    "pd.DataFrame(np.concatenate((probs,Y.reshape(14,1)),axis=1).T, index=['p(Y=0)','p(Y=1)','Y'])"
   ]
  },
  {
   "cell_type": "code",
   "execution_count": 340,
   "metadata": {},
   "outputs": [
    {
     "data": {
      "image/png": "[encoded data removed]",
      "text/plain": [
       "<Figure size 432x288 with 1 Axes>"
      ]
     },
     "metadata": {
      "needs_background": "light"
     },
     "output_type": "display_data"
    }
   ],
   "source": [
    "plt.scatter(dot[:,1],Y,c=Y)\n",
    "plt.show()"
   ]
  },
  {
   "cell_type": "code",
   "execution_count": 341,
   "metadata": {},
   "outputs": [
    {
     "data": {
      "image/png": "[encoded data removed]",
      "text/plain": [
       "<Figure size 432x288 with 1 Axes>"
      ]
     },
     "metadata": {
      "needs_background": "light"
     },
     "output_type": "display_data"
    }
   ],
   "source": [
    "plt.scatter(dot[:,1],probs[:,1],c=Y)\n",
    "#plt.scatter(class1,sig(class1), c=Y)\n",
    "plt.show()"
   ]
  },
  {
   "cell_type": "code",
   "execution_count": null,
   "metadata": {},
   "outputs": [],
   "source": []
  },
  {
   "cell_type": "code",
   "execution_count": null,
   "metadata": {},
   "outputs": [],
   "source": []
  },
  {
   "cell_type": "code",
   "execution_count": 403,
   "metadata": {},
   "outputs": [
    {
     "name": "stdout",
     "output_type": "stream",
     "text": [
      "[[0 0 0 0 1 1 1]\n",
      " [0 1 1 1 0 0 0]]\n"
     ]
    },
    {
     "data": {
      "text/plain": [
       "<matplotlib.collections.PathCollection at 0x1f4b4381320>"
      ]
     },
     "execution_count": 403,
     "metadata": {},
     "output_type": "execute_result"
    },
    {
     "data": {
      "image/png": "[encoded data removed]",
      "text/plain": [
       "<Figure size 432x288 with 1 Axes>"
      ]
     },
     "metadata": {
      "needs_background": "light"
     },
     "output_type": "display_data"
    }
   ],
   "source": [
    "w1hard = 1*(w1 > 0)\n",
    "ahard = np.dot(X,w1hard)\n",
    "hhard = np.tanh(ahard)\n",
    "print(w1hard.T)\n",
    "\n",
    "plt.scatter(ahard[:,0], ahard[:,1], c=Y)\n",
    "\n"
   ]
  },
  {
   "cell_type": "code",
   "execution_count": 404,
   "metadata": {},
   "outputs": [
    {
     "name": "stdout",
     "output_type": "stream",
     "text": [
      "[[ 0.21248216 -0.        ]\n",
      " [-0.          1.61917024]]\n",
      "[[0.99505475 0.99505475]\n",
      " [0.76159416 0.76159416]\n",
      " [0.96402758 0.96402758]\n",
      " [0.96402758 0.96402758]\n",
      " [0.96402758 0.96402758]\n",
      " [0.         0.99505475]\n",
      " [0.96402758 0.76159416]\n",
      " [0.76159416 0.99505475]\n",
      " [0.         0.76159416]\n",
      " [0.         0.        ]\n",
      " [0.99505475 0.96402758]\n",
      " [0.96402758 0.96402758]\n",
      " [0.96402758 0.99505475]\n",
      " [0.76159416 0.99505475]]\n",
      "[1 1 1 1 1 1 1 1 1 0 1 1 1 1] [1 0 0 0 0 1 0 1 0 0 0 0 1 1]\n"
     ]
    }
   ],
   "source": [
    "w2hard = w2*(w2>0)\n",
    "print(w2hard)\n",
    "outhard = np.dot(hhard,w2) + b2\n",
    "\n",
    "print(hhard)\n",
    "exp_hard = np.exp(outhard)\n",
    "\n",
    "phard = exp_hard/exp_hard.sum(1, keepdims=True)\n",
    "print(np.argmax(phard,axis=1),Y)"
   ]
  },
  {
   "cell_type": "code",
   "execution_count": null,
   "metadata": {},
   "outputs": [],
   "source": []
  },
  {
   "cell_type": "code",
   "execution_count": null,
   "metadata": {},
   "outputs": [],
   "source": []
  },
  {
   "cell_type": "code",
   "execution_count": null,
   "metadata": {},
   "outputs": [],
   "source": []
  }
 ],
 "metadata": {
  "kernelspec": {
   "display_name": "Python 3",
   "language": "python",
   "name": "python3"
  },
  "language_info": {
   "codemirror_mode": {
    "name": "ipython",
    "version": 3
   },
   "file_extension": ".py",
   "mimetype": "text/x-python",
   "name": "python",
   "nbconvert_exporter": "python",
   "pygments_lexer": "ipython3",
   "version": "3.7.3"
  }
 },
 "nbformat": 4,
 "nbformat_minor": 2
}
