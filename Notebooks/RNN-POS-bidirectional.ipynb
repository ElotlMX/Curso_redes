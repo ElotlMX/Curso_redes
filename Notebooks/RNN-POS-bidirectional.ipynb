{
 "cells": [
  {
   "cell_type": "markdown",
   "metadata": {
    "collapsed": true
   },
   "source": [
    "# RNN bidireccional para POST"
   ]
  },
  {
   "cell_type": "markdown",
   "metadata": {},
   "source": [
    "Analizaremos la estructura de una red recurrente simple. Nuestro objetivo será construir un modelo del lenguaje que tome como cadena de entrada una secuencia de palabras $w_1,...,w_T$ y cuya salida sean las etiquetas POS $s_1, ..., s_T$ que mejor describan la cadena de entrada. Para esto, buscaremos estimar la probabilidad:\n",
    "\n",
    "$$p(s_1,...,s_T|w_1,....,w_T)$$\n",
    "\n",
    "Para realizar esta probabilidad utilizaremos una arquitectura de red neuronal recurrente (RNN) y bidireccional. En primer lugar definiremos algunas funciones para manejar el texto."
   ]
  },
  {
   "cell_type": "code",
   "execution_count": 1,
   "metadata": {},
   "outputs": [],
   "source": [
    "#-*- encoding:utf-8 -*-\n",
    "import numpy as np\n",
    "from collections import defaultdict, Counter\n",
    "from preprocessing import preprocess\n",
    "from itertools import chain\n",
    "\n",
    "#Funcion que crea un vocabulario de palabras con un indice numerico\n",
    "def vocab():\n",
    "    vocab = defaultdict()\n",
    "    vocab.default_factory = lambda: len(vocab)\n",
    "    return vocab    \n",
    "\n",
    "#Funcion que pasa la cadena de simbolos a una secuencia con indices numericos\n",
    "def text2numba(corpus, vocab):\n",
    "    for doc in corpus:\n",
    "        yield [vocab[w] for w in doc.split()]"
   ]
  },
  {
   "cell_type": "markdown",
   "metadata": {},
   "source": [
    "### Procesamiento de corpus\n",
    "\n",
    "Al igual que con modelos del lenguaje más tradicionales, tomamos un corpus e indexamos las palabras con valores numéricos, con el objetivo de que sea más fácil manejarlas.\n",
    "\n",
    "Asimismo, contamos con una cadena de etiquetas POS, las cuáles corresponden a las clases de cada una de las oraciones de entrada; es decir, cada cadena de etiquetas le corresponde una cadena de palabras de la misma longitud. De igual forma, pasaremos las etiquetas a indices numéricos."
   ]
  },
  {
   "cell_type": "code",
   "execution_count": 2,
   "metadata": {},
   "outputs": [
    {
     "name": "stdout",
     "output_type": "stream",
     "text": [
      "[[0, 1, 2, 3, 4], [3, 5, 6], [0, 5, 7, 8, 9], [3, 1, 2, 10], [0, 1, 2], [0, 11, 2, 10], [3, 11, 2]]\n",
      "[[0, 1, 2, 3, 1], [3, 1, 2], [0, 1, 2, 0, 1], [3, 1, 2, 1], [0, 1, 2], [0, 1, 2, 1], [3, 1, 2]]\n"
     ]
    }
   ],
   "source": [
    "corpus = ['el perro come un hueso', 'un muchacho jugaba', 'el muchacho saltaba la cuerda',\n",
    "          'un perro come croquetas', 'el perro come', 'el gato come croquetas', 'un gato come']\n",
    "\n",
    "#Etiquetas POS\n",
    "tags = ['DA NC V DD NC', 'DD NC V', 'DA NC V DA NC', 'DD NC V NC', 'DA NC V', 'DA NC V NC', 'DD NC V']\n",
    "\n",
    "#Llamamos la funcion para crear el vocabulario\n",
    "idx = vocab()\n",
    "#Creamos el vocabulario y le asignamos un indice a cada simbolo segun su aparicion\n",
    "cads_idx = list(text2numba(corpus,idx))\n",
    "\n",
    "#Vocabulario de emisiones\n",
    "ems = vocab()\n",
    "#Se susituyen las emisiones por sus índices numéricos\n",
    "ems_idx = list(text2numba(tags,ems))\n",
    "\n",
    "print(cads_idx)\n",
    "print(ems_idx)"
   ]
  },
  {
   "cell_type": "markdown",
   "metadata": {},
   "source": [
    "Una vez realizado esto, podemos crear los pares de entrenamiento. En este caso, simplemente alinearemos la cadena de palabras con sus etiquetas correspondientes."
   ]
  },
  {
   "cell_type": "code",
   "execution_count": 3,
   "metadata": {},
   "outputs": [
    {
     "name": "stdout",
     "output_type": "stream",
     "text": [
      "[[(0, 0), (1, 1), (2, 2), (3, 3), (4, 1)], [(3, 3), (5, 1), (6, 2)], [(0, 0), (5, 1), (7, 2), (8, 0), (9, 1)], [(3, 3), (1, 1), (2, 2), (10, 1)], [(0, 0), (1, 1), (2, 2)], [(0, 0), (11, 1), (2, 2), (10, 1)], [(3, 3), (11, 1), (2, 2)]]\n"
     ]
    }
   ],
   "source": [
    "#Pares de entrenamiento\n",
    "pairs = [list(zip(a,b)) for a,b in zip(cads_idx,ems_idx)]\n",
    "print(pairs)"
   ]
  },
  {
   "cell_type": "markdown",
   "metadata": {},
   "source": [
    "### Entrenamiento de la red\n",
    "\n",
    "Para construir la RNN bidireccional definiremos una arquitectura simple con celdas vanilla:\n",
    "\n",
    "1) Incorporaremos una capa de embedding. En esta se tomará un one-hot $s^{(t)}$ que represente a una palabra $w_t$. Definiremos una matriz que guarde los vectores de embedding, $C$ de $d\\times N$, donde $d$ es la dimensión de los embeddings y $N$ el tamaño del vocabulario. Así, la capa de embedding estará definida por $$x = Cs^{(t)}$$\n",
    "\n",
    "2) Las celdas bidireccionales son independientes entre sí (pero dependientes de la entrada y la salida). Por facilidad, ambas celdas tendrán la misma dimensión $m$, pero las matrices que la parámetros que la definen (matrices de pesos y bias) son distintas. La celda de avance se definirá  como:\n",
    "\n",
    "$$h_{\\rightarrow t} = \\tanh(V_{\\rightarrow}h_{t-1} + U_{\\rightarrow}x + b_{\\rightarrow})$$\n",
    "\n",
    "Por su parte, la celda de retroceso será:\n",
    "\n",
    "$$h_{\\leftarrow t} = \\tanh(V_{\\leftarrow}h_{t+1} + U_{\\leftarrow}x + b_{\\leftarrow})$$ \n",
    "\n",
    "Las celdas de avance y retroceso lucen parecidas, sin embargo, los parámetros seránn distintos; asimismo, la celda de avance tomará la celda en el estado anterior, mientras que la de avance tomará la celda en el estado siguiente..\n",
    "\n",
    "3) La capa de salida se conformará por la función Softmax. Así, la definimos como $$\\phi(x) = Softmax(Wh_t + c)$$\n",
    "\n",
    "En primer lugar, inicializamos los parámetros de la red."
   ]
  },
  {
   "cell_type": "code",
   "execution_count": 4,
   "metadata": {},
   "outputs": [],
   "source": [
    "np.random.seed(0)\n",
    "#El número de rasgos que representan cada vector\n",
    "nn_input_dim = len(idx)\n",
    "#El total de clases que arrojará\n",
    "output_dim = len(ems)\n",
    "\n",
    "#Dimensiones de los vectores-palabra\n",
    "dim = 2\n",
    "cell_dim = 3\n",
    "\n",
    "#Embedding\n",
    "C = np.random.randn(dim,nn_input_dim) / np.sqrt(nn_input_dim)\n",
    "\n",
    "#Capa oculta\n",
    "#Celda forward\n",
    "V_for = np.random.randn(cell_dim,cell_dim) / np.sqrt(cell_dim)\n",
    "#Celda backward\n",
    "V_back = np.random.randn(cell_dim,cell_dim) / np.sqrt(cell_dim)\n",
    "\n",
    "#Capa oculta, entrada\n",
    "#Celda forward\n",
    "U_for = np.random.randn(cell_dim,dim) / np.sqrt(dim)\n",
    "b_for = np.zeros(cell_dim)\n",
    "\n",
    "#Celda backward\n",
    "U_back = np.random.randn(cell_dim,dim) / np.sqrt(dim)\n",
    "b_back = np.zeros(cell_dim)\n",
    "\n",
    "#Capa de salida\n",
    "W = np.random.randn(output_dim,2*cell_dim) / np.sqrt(cell_dim)\n",
    "c = np.zeros(output_dim)"
   ]
  },
  {
   "cell_type": "markdown",
   "metadata": {},
   "source": [
    "### Predicción de etiquetado POS\n",
    "\n",
    "Una vez entrenado el modelo, definimos una función (forward) que corra la red sobre una cadena de entrada. Esta función devolverá la probabilidad de las etiquetas POS en cada estado y dado la palabra de entrada en ese estado."
   ]
  },
  {
   "cell_type": "code",
   "execution_count": 5,
   "metadata": {},
   "outputs": [],
   "source": [
    "it = 100\n",
    "lr = 0.01\n",
    "\n",
    "for t in range(it):\n",
    "    \n",
    "    #Avance\n",
    "    for seq in pairs:\n",
    "        #Inicializaciopn de estados\n",
    "        h_for = np.zeros((len(seq)+1,cell_dim))\n",
    "        #Inicialización de estados\n",
    "        h_back = np.zeros((len(seq)+1,cell_dim))\n",
    "        \n",
    "        #Avance\n",
    "        for t,w in enumerate(seq):\n",
    "            #FORWARD\n",
    "            #Embedding\n",
    "            x = C.T[w[0]]\n",
    "                        \n",
    "            #VANILLA CELLS\n",
    "            #Avance\n",
    "            act_for = np.dot(V_for,h_for[t]) + np.dot(U_for,x) + b_for\n",
    "            h_for[t+1] = np.tanh(act_for)\n",
    "              \n",
    "        #Retroceso\n",
    "        for t,w in enumerate(seq[::-1]):\n",
    "            #FORWARD\n",
    "            #Embedding\n",
    "            x = C.T[w[0]]\n",
    "            \n",
    "            #VANILLA CELLS\n",
    "            #Retroceso\n",
    "            act_back = np.dot(V_back,h_back[t]) + np.dot(U_back,x) + b_back\n",
    "            h_back[t+1] = np.tanh(act_for)\n",
    "        \n",
    "        #OPUTPUT & BACKPROP\n",
    "        for t, w in enumerate(seq):\n",
    "            #Avance+Retroceso\n",
    "            h = np.concatenate((h_for[t+1], h_back[t+1]), axis=None)\n",
    "            \n",
    "            #capa de salida\n",
    "            preAct = np.exp(np.dot(W,h) + c)\n",
    "            #Softmax\n",
    "            probs = preAct/preAct.sum(0)\n",
    "            \n",
    "            #BACK-PROP\n",
    "            #Variable de salida\n",
    "            d_out = probs\n",
    "            d_out[w[1]] -= 1\n",
    "            \n",
    "            #Variable de celdas\n",
    "            d_h = (1-h**2)*np.dot(W.T,d_out)\n",
    "            \n",
    "            #Variable de embedding\n",
    "            d_emb = np.dot(U_for.T,d_h[:cell_dim]) + np.dot(U_back.T,d_h[cell_dim:])\n",
    "\n",
    "            #Jacobianas\n",
    "            dW = np.outer(d_out,h)\n",
    "            #Avance\n",
    "            dV_for = np.outer(d_h[:cell_dim], h_for[t+1])\n",
    "            dU_for = np.outer(d_h[:cell_dim], x)\n",
    "            #Retroceso\n",
    "            dV_back = np.outer(d_h[cell_dim:], h_back[t+1])\n",
    "            dU_back = np.outer(d_h[cell_dim:], x)\n",
    "\n",
    "            #Gradientes descendientes\n",
    "            W -= lr*dW\n",
    "            c -= lr*d_out\n",
    "            \n",
    "            V_for -= lr*dV_for\n",
    "            V_back -= lr*dV_back\n",
    "            \n",
    "            U_for -= lr*dU_for\n",
    "            b_for -= lr*d_h[:cell_dim]\n",
    "            U_back -= lr*dU_back\n",
    "            b_back -= lr*d_h[cell_dim:]\n",
    "            \n",
    "            C.T[w[0]] -= lr*d_emb"
   ]
  },
  {
   "cell_type": "markdown",
   "metadata": {},
   "source": [
    "Una vez entrenado el modelo, definimos una función (forward) que corra la red sobre una cadena de entrada."
   ]
  },
  {
   "cell_type": "code",
   "execution_count": 6,
   "metadata": {},
   "outputs": [],
   "source": [
    "def forward(sent, h0_for = np.zeros(cell_dim), h0_back = np.zeros(cell_dim)):\n",
    "    sent = [idx[i] for i in sent.split()]\n",
    "    prob_tot = np.zeros((len(sent),output_dim))\n",
    "    \n",
    "    #Inicializaciopn de estados\n",
    "    h_for = np.zeros((len(sent)+1,cell_dim))\n",
    "    #Inicialización de estados\n",
    "    h_back = np.zeros((len(sent)+1,cell_dim))\n",
    "\n",
    "    #Asignación de valores iniciales\n",
    "    h_for[0] = h0_for\n",
    "    h_back[0] = h0_back\n",
    "\n",
    "    #Avance\n",
    "    for t,w in enumerate(sent):\n",
    "        #FORWARD\n",
    "        #Embedding\n",
    "        x = C.T[w]\n",
    "\n",
    "        #VANILLA CELLS\n",
    "        #Avance\n",
    "        act_for = np.dot(V_for,h_for[t]) + np.dot(U_for,x) + b_for\n",
    "        h_for[t+1] = np.tanh(act_for)\n",
    "\n",
    "    #Retroceso\n",
    "    for t,w in enumerate(sent[::-1]):\n",
    "        #BACKWARD\n",
    "        #Embedding\n",
    "        x = C.T[w]\n",
    "\n",
    "        #VANILLA CELLS\n",
    "        #Retroceso\n",
    "        act_back = np.dot(V_back,h_back[t]) + np.dot(U_back,x) + b_back\n",
    "        h_back[t+1] = np.tanh(act_for)\n",
    "\n",
    "    #OPUTPUT & BACKPROP\n",
    "    for t, w in enumerate(sent):\n",
    "        #Avance+Retroceso\n",
    "        h = np.concatenate((h_for[t+1], h_back[t+1]), axis=None)\n",
    "\n",
    "        #capa de salida\n",
    "        preAct = np.exp(np.dot(W,h) + c)\n",
    "        #Softmax\n",
    "        probs = preAct/preAct.sum(0)\n",
    "\n",
    "        #Se almacenan las probabilidades\n",
    "        prob_tot[t] = probs\n",
    "        \n",
    "    return np.concatenate((h_for,h_back), axis=1), prob_tot       "
   ]
  },
  {
   "cell_type": "markdown",
   "metadata": {},
   "source": [
    "Finalmente, podemos aplicar la red a una cadena para obtener las etiquetas POS que mejor predigan la cadena de entrada."
   ]
  },
  {
   "cell_type": "code",
   "execution_count": 9,
   "metadata": {},
   "outputs": [
    {
     "name": "stdout",
     "output_type": "stream",
     "text": [
      "['DA', 'NC', 'V', 'DA', 'V']\n"
     ]
    }
   ],
   "source": [
    "#Vocabulario para recuperar POS por medio de índices\n",
    "post = {v:k for k,v in ems.items()}\n",
    "\n",
    "#Forwarde de la red\n",
    "H,p = forward('el perro come el gato')\n",
    "\n",
    "#Buscamos las etiquetas que maximicen la probabilidad\n",
    "print([post[i] for i in np.argmax(p, axis=1)])"
   ]
  },
  {
   "cell_type": "markdown",
   "metadata": {},
   "source": [
    "### Ploteo de los embeddings"
   ]
  },
  {
   "cell_type": "markdown",
   "metadata": {},
   "source": [
    "Además de obtener una probabilidad de cadenas, el modelo que hemos descrito aprende representaciones vectoriales de la palabra o embeddings. Al igual que el modelo de Word2Vec, podemos ocupar una arquitectura recurrente para obtener embeddings de palabra. Aquí hemos descrito una versión muy sencilla de esto. Modelos más complejos son CoVe (McCann, 2017) o ELMo (Peters et al., 2018)."
   ]
  },
  {
   "cell_type": "code",
   "execution_count": 10,
   "metadata": {},
   "outputs": [],
   "source": [
    "import matplotlib.pyplot as plt\n",
    "from sklearn.decomposition import PCA\n",
    "from sklearn.manifold import TSNE\n",
    "from operator import itemgetter\n",
    "\n",
    "#Funcion para plotear los datos con labels\n",
    "def plot_words(Z,ids):\n",
    "    #Reduce la dimensionalidad a 2\n",
    "    Z = PCA(2).fit_transform(Z)\n",
    "    \n",
    "    #Plotea con la marcas (marker) y el color indicado (c)\n",
    "    r=0\n",
    "    plt.scatter(Z[:,0],Z[:,1], marker='o', c='blue')\n",
    "    for label,x,y in zip(ids, Z[:,0], Z[:,1]):\n",
    "        plt.annotate(label, xy=(x,y), xytext=(-1,1), textcoords='offset points', ha='center', va='bottom')\n",
    "        r+=1\n",
    "    #plt.show()\n",
    "\n",
    "#Ordena las etiquetas para que coincidan con los vectores-renglón de la matriz de embedding\n",
    "label = [w[0] for w in sorted(idx.items(), key=itemgetter(1))]"
   ]
  },
  {
   "cell_type": "markdown",
   "metadata": {},
   "source": [
    "Así, la visualización de los datos es la siguiente:"
   ]
  },
  {
   "cell_type": "code",
   "execution_count": 11,
   "metadata": {},
   "outputs": [
    {
     "data": {
      "image/png": "[encoded data removed]",
      "text/plain": [
       "<Figure size 432x288 with 1 Axes>"
      ]
     },
     "metadata": {
      "needs_background": "light"
     },
     "output_type": "display_data"
    }
   ],
   "source": [
    "plot_words(C.T,label)"
   ]
  },
  {
   "cell_type": "markdown",
   "metadata": {},
   "source": [
    "### Calculo de similitud\n",
    "\n",
    "Para calcular la similitud entre vectores, se puede utilizar la distancia eculideana o bien el coseno. En NLP el coseno es una forma común de determinar la similitud entre vectores. Este se define como:\n",
    "\n",
    "$$\\cos(x,y) = \\frac{x\\cdot y}{||x|| ||y||}$$\n",
    "\n",
    "Asimismo, para simplificar el calculo del coseno se pueden normalizar los vectores, dividiéndolos entre sus normas. Así, para cada vector $x$ su norma es $||x||=1$, lo que simplifica la ecuación anterior a:\n",
    "\n",
    "$$\\cos(x,y) = x\\cdot y$$"
   ]
  },
  {
   "cell_type": "code",
   "execution_count": 12,
   "metadata": {},
   "outputs": [
    {
     "data": {
      "image/png": "[encoded data removed]",
      "text/plain": [
       "<Figure size 432x288 with 1 Axes>"
      ]
     },
     "metadata": {
      "needs_background": "light"
     },
     "output_type": "display_data"
    }
   ],
   "source": [
    "#Normalización de los vecotores\n",
    "C_norm = (C/np.array([np.linalg.norm(w) for w in C.T])).T\n",
    "\n",
    "#Ploteo\n",
    "plot_words(C_norm,label)"
   ]
  },
  {
   "cell_type": "code",
   "execution_count": 13,
   "metadata": {},
   "outputs": [
    {
     "name": "stdout",
     "output_type": "stream",
     "text": [
      "el \t -0.9951178822486634\n",
      "perro \t 1.0\n",
      "come \t 0.25647817432429054\n",
      "un \t -0.49372522716176764\n",
      "hueso \t 0.884458716250909\n",
      "muchacho \t 0.989731240835349\n",
      "jugaba \t 0.5561126067874839\n",
      "saltaba \t 0.2851407229611602\n",
      "la \t -0.8679586132903605\n",
      "cuerda \t 0.8682583902289329\n",
      "croquetas \t 0.8708034658518443\n",
      "gato \t 0.9899273588438126\n"
     ]
    }
   ],
   "source": [
    "#Palabra objetivo\n",
    "obj_word = C_norm[idx['perro']]\n",
    "\n",
    "#Búsqueda de palabras más similares\n",
    "for w,v in idx.items():\n",
    "    #Calcula la distancia coseno\n",
    "    print(w,'\\t', np.dot(C_norm[v], obj_word) )"
   ]
  },
  {
   "cell_type": "markdown",
   "metadata": {},
   "source": [
    "### Visualización de las celdas recurrentes\n",
    "\n",
    "Las celdas recurrentes guardan información tanto de los vectores de entrada como de la red en estados anteriores. Estas celdas tienen información importante que le permite a la red decidir la distribución de salida en un estado dado. Algunos modelos de representación vectorial (word embeddings) han aprovechado la información aquí almacenada para producir vectores de palabraS; sistemas como CoVe toman en cuenta estas celdas para \"contextualizar\" los embeddings.\n",
    "\n",
    "Lo primero que haremos es definir un función que, además de devolver la probabilidad de salida, regrese cada una de las celdas recursivas en cada estado $t$. Así, obtendremos una matriz $H$ donde cada renglon será una celda vanilla. Podemos definir esta matriz por sus renglones como:\n",
    "\n",
    "$$H_{t} = g(Vh^{(t-1)} + Ux^{(t)} + b)$$"
   ]
  },
  {
   "cell_type": "code",
   "execution_count": 18,
   "metadata": {},
   "outputs": [
    {
     "name": "stdout",
     "output_type": "stream",
     "text": [
      "[[ 0.          0.          0.          0.          0.          0.        ]\n",
      " [ 0.78619031  0.62818016  0.9290269  -0.99941756 -0.95405707 -0.8390162 ]\n",
      " [ 0.40366604  0.97703303 -0.5354598  -0.99941756 -0.95405707 -0.8390162 ]\n",
      " [-0.79244089  0.96910621 -0.87368468 -0.99941756 -0.95405707 -0.8390162 ]\n",
      " [-0.99215239 -0.28683244 -0.44267622 -0.99941756 -0.95405707 -0.8390162 ]\n",
      " [-0.99941756 -0.95405707 -0.8390162  -0.99941756 -0.95405707 -0.8390162 ]]\n"
     ]
    },
    {
     "data": {
      "image/png": "[encoded data removed]",
      "text/plain": [
       "<Figure size 432x288 with 1 Axes>"
      ]
     },
     "metadata": {
      "needs_background": "light"
     },
     "output_type": "display_data"
    }
   ],
   "source": [
    "ex_sent = 'el gato come un hueso'\n",
    "H_s, p_s = forward(ex_sent)\n",
    "print(H_s)\n",
    "\n",
    "plot_words(H_s[1:],ex_sent.split())\n",
    "plt.show()"
   ]
  },
  {
   "cell_type": "markdown",
   "metadata": {},
   "source": [
    "Entonces, dada una cadena, se obtendrá una celda vanilla para cada palabra en la cadena. De esta forma, podemos pensar que esta celda representa a la palabra  y su historia (las palabras que lo anteceden). Podemos visualizarlos, entonces, en un espacio vectorial."
   ]
  },
  {
   "cell_type": "code",
   "execution_count": 19,
   "metadata": {},
   "outputs": [
    {
     "data": {
      "image/png": "[encoded data removed]",
      "text/plain": [
       "<Figure size 432x288 with 1 Axes>"
      ]
     },
     "metadata": {
      "needs_background": "light"
     },
     "output_type": "display_data"
    }
   ],
   "source": [
    "ex_sent = 'el gato come un hueso'\n",
    "H_s, p_s = forward(ex_sent)\n",
    "\n",
    "plot_words(H_s[1:],ex_sent.split())\n",
    "plt.show()"
   ]
  },
  {
   "cell_type": "markdown",
   "metadata": {},
   "source": [
    "Se puede ver cómo varían las celdas vanillas. Algunas de estas guardan cierta relación. Sin embargo, una interpretación precisa puede resultar complicada."
   ]
  },
  {
   "cell_type": "code",
   "execution_count": 20,
   "metadata": {},
   "outputs": [
    {
     "data": {
      "image/png": "[encoded data removed]",
      "text/plain": [
       "<Figure size 432x288 with 1 Axes>"
      ]
     },
     "metadata": {
      "needs_background": "light"
     },
     "output_type": "display_data"
    },
    {
     "name": "stdout",
     "output_type": "stream",
     "text": [
      "[[ 0.78619031  0.62818016  0.9290269  -0.99941756 -0.95405707 -0.8390162 ]\n",
      " [ 0.40366604  0.97703303 -0.5354598  -0.99941756 -0.95405707 -0.8390162 ]\n",
      " [-0.79244089  0.96910621 -0.87368468 -0.99941756 -0.95405707 -0.8390162 ]\n",
      " [-0.99215239 -0.28683244 -0.44267622 -0.99941756 -0.95405707 -0.8390162 ]\n",
      " [-0.99941756 -0.95405707 -0.8390162  -0.99941756 -0.95405707 -0.8390162 ]]\n"
     ]
    }
   ],
   "source": [
    "plt.plot(H_s[1:].T, '-')\n",
    "plt.gca().legend(ex_sent.split())\n",
    "plt.show()\n",
    "print(H_s[1:])"
   ]
  },
  {
   "cell_type": "markdown",
   "metadata": {},
   "source": [
    "   "
   ]
  }
 ],
 "metadata": {
  "kernelspec": {
   "display_name": "Python 3",
   "language": "python",
   "name": "python3"
  },
  "language_info": {
   "codemirror_mode": {
    "name": "ipython",
    "version": 3
   },
   "file_extension": ".py",
   "mimetype": "text/x-python",
   "name": "python",
   "nbconvert_exporter": "python",
   "pygments_lexer": "ipython3",
   "version": "3.7.3"
  }
 },
 "nbformat": 4,
 "nbformat_minor": 2
}
