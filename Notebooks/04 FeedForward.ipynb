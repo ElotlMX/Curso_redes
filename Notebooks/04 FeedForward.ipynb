{
 "cells": [
  {
   "cell_type": "markdown",
   "metadata": {},
   "source": [
    "# Red FeedForward\n",
    "\n",
    "Las redes FeedForward son quizá el tipo más común de red neuronal. Éstas consisten en una generalización del perceptrón; son redes que toman una entrada y aplican varias capas ocultas para obtener una salida adecuada. Las capas ocultas transforman los datos para poder encontrar una separación lineal y poder realizar tareas de clasificación.\n",
    "\n",
    "A continuación, mostramos la aplicación de una red FeedForward a un problema sencillo de clasificación. Para optimizar los pesos de la red, acudimos al algoritmo de <b>Gradiente descendiente</b> implementado con <b>Backpropagation</b>."
   ]
  },
  {
   "cell_type": "code",
   "execution_count": 1,
   "metadata": {},
   "outputs": [],
   "source": [
    "import pandas as pd\n",
    "import numpy as np\n",
    "import seaborn as sns\n",
    "import matplotlib.pyplot as plt\n",
    "from sklearn.decomposition import PCA"
   ]
  },
  {
   "cell_type": "markdown",
   "metadata": {},
   "source": [
    "### Preparación de los datos\n",
    "\n",
    "Los datos que utilizaremos corresponde a un problema de clasificación binaria entre las clases \"gato\" (1) y \"no gato\" (0). Los vectores de entrada serán vectores de 7 dimensiones, donde cada dimensión representa una variable aleatoria binaria."
   ]
  },
  {
   "cell_type": "code",
   "execution_count": 2,
   "metadata": {},
   "outputs": [
    {
     "data": {
      "text/html": [
       "<div>\n",
       "<style scoped>\n",
       "    .dataframe tbody tr th:only-of-type {\n",
       "        vertical-align: middle;\n",
       "    }\n",
       "\n",
       "    .dataframe tbody tr th {\n",
       "        vertical-align: top;\n",
       "    }\n",
       "\n",
       "    .dataframe thead th {\n",
       "        text-align: right;\n",
       "    }\n",
       "</style>\n",
       "<table border=\"1\" class=\"dataframe\">\n",
       "  <thead>\n",
       "    <tr style=\"text-align: right;\">\n",
       "      <th></th>\n",
       "      <th>¿es animal?</th>\n",
       "      <th>¿es mamífero?</th>\n",
       "      <th>¿es felino?</th>\n",
       "      <th>¿es doméstico?</th>\n",
       "      <th>¿tiene dos orejas?</th>\n",
       "      <th>¿es negro?</th>\n",
       "      <th>¿tiene cuatro patas?</th>\n",
       "      <th>¿es gato?</th>\n",
       "    </tr>\n",
       "  </thead>\n",
       "  <tbody>\n",
       "    <tr>\n",
       "      <th>0</th>\n",
       "      <td>1</td>\n",
       "      <td>1</td>\n",
       "      <td>1</td>\n",
       "      <td>1</td>\n",
       "      <td>1</td>\n",
       "      <td>1</td>\n",
       "      <td>1</td>\n",
       "      <td>1</td>\n",
       "    </tr>\n",
       "    <tr>\n",
       "      <th>1</th>\n",
       "      <td>0</td>\n",
       "      <td>0</td>\n",
       "      <td>0</td>\n",
       "      <td>1</td>\n",
       "      <td>0</td>\n",
       "      <td>1</td>\n",
       "      <td>0</td>\n",
       "      <td>0</td>\n",
       "    </tr>\n",
       "    <tr>\n",
       "      <th>2</th>\n",
       "      <td>1</td>\n",
       "      <td>0</td>\n",
       "      <td>1</td>\n",
       "      <td>1</td>\n",
       "      <td>0</td>\n",
       "      <td>1</td>\n",
       "      <td>1</td>\n",
       "      <td>0</td>\n",
       "    </tr>\n",
       "    <tr>\n",
       "      <th>3</th>\n",
       "      <td>1</td>\n",
       "      <td>1</td>\n",
       "      <td>0</td>\n",
       "      <td>1</td>\n",
       "      <td>1</td>\n",
       "      <td>0</td>\n",
       "      <td>1</td>\n",
       "      <td>0</td>\n",
       "    </tr>\n",
       "    <tr>\n",
       "      <th>4</th>\n",
       "      <td>1</td>\n",
       "      <td>1</td>\n",
       "      <td>1</td>\n",
       "      <td>0</td>\n",
       "      <td>1</td>\n",
       "      <td>0</td>\n",
       "      <td>1</td>\n",
       "      <td>0</td>\n",
       "    </tr>\n",
       "    <tr>\n",
       "      <th>5</th>\n",
       "      <td>1</td>\n",
       "      <td>1</td>\n",
       "      <td>1</td>\n",
       "      <td>1</td>\n",
       "      <td>0</td>\n",
       "      <td>0</td>\n",
       "      <td>0</td>\n",
       "      <td>1</td>\n",
       "    </tr>\n",
       "    <tr>\n",
       "      <th>6</th>\n",
       "      <td>1</td>\n",
       "      <td>0</td>\n",
       "      <td>0</td>\n",
       "      <td>1</td>\n",
       "      <td>1</td>\n",
       "      <td>1</td>\n",
       "      <td>0</td>\n",
       "      <td>0</td>\n",
       "    </tr>\n",
       "    <tr>\n",
       "      <th>7</th>\n",
       "      <td>1</td>\n",
       "      <td>1</td>\n",
       "      <td>1</td>\n",
       "      <td>1</td>\n",
       "      <td>0</td>\n",
       "      <td>0</td>\n",
       "      <td>1</td>\n",
       "      <td>1</td>\n",
       "    </tr>\n",
       "    <tr>\n",
       "      <th>8</th>\n",
       "      <td>1</td>\n",
       "      <td>0</td>\n",
       "      <td>0</td>\n",
       "      <td>1</td>\n",
       "      <td>0</td>\n",
       "      <td>0</td>\n",
       "      <td>0</td>\n",
       "      <td>0</td>\n",
       "    </tr>\n",
       "    <tr>\n",
       "      <th>9</th>\n",
       "      <td>0</td>\n",
       "      <td>0</td>\n",
       "      <td>0</td>\n",
       "      <td>0</td>\n",
       "      <td>0</td>\n",
       "      <td>0</td>\n",
       "      <td>0</td>\n",
       "      <td>0</td>\n",
       "    </tr>\n",
       "    <tr>\n",
       "      <th>10</th>\n",
       "      <td>1</td>\n",
       "      <td>1</td>\n",
       "      <td>1</td>\n",
       "      <td>0</td>\n",
       "      <td>1</td>\n",
       "      <td>1</td>\n",
       "      <td>1</td>\n",
       "      <td>0</td>\n",
       "    </tr>\n",
       "    <tr>\n",
       "      <th>11</th>\n",
       "      <td>1</td>\n",
       "      <td>1</td>\n",
       "      <td>1</td>\n",
       "      <td>0</td>\n",
       "      <td>1</td>\n",
       "      <td>0</td>\n",
       "      <td>1</td>\n",
       "      <td>0</td>\n",
       "    </tr>\n",
       "    <tr>\n",
       "      <th>12</th>\n",
       "      <td>1</td>\n",
       "      <td>1</td>\n",
       "      <td>1</td>\n",
       "      <td>1</td>\n",
       "      <td>1</td>\n",
       "      <td>0</td>\n",
       "      <td>1</td>\n",
       "      <td>1</td>\n",
       "    </tr>\n",
       "    <tr>\n",
       "      <th>13</th>\n",
       "      <td>1</td>\n",
       "      <td>1</td>\n",
       "      <td>1</td>\n",
       "      <td>1</td>\n",
       "      <td>1</td>\n",
       "      <td>0</td>\n",
       "      <td>0</td>\n",
       "      <td>1</td>\n",
       "    </tr>\n",
       "  </tbody>\n",
       "</table>\n",
       "</div>"
      ],
      "text/plain": [
       "    ¿es animal?   ¿es mamífero?   ¿es felino?   ¿es doméstico?  \\\n",
       "0             1               1             1                1   \n",
       "1             0               0             0                1   \n",
       "2             1               0             1                1   \n",
       "3             1               1             0                1   \n",
       "4             1               1             1                0   \n",
       "5             1               1             1                1   \n",
       "6             1               0             0                1   \n",
       "7             1               1             1                1   \n",
       "8             1               0             0                1   \n",
       "9             0               0             0                0   \n",
       "10            1               1             1                0   \n",
       "11            1               1             1                0   \n",
       "12            1               1             1                1   \n",
       "13            1               1             1                1   \n",
       "\n",
       "     ¿tiene dos orejas?   ¿es negro?   ¿tiene cuatro patas?   ¿es gato?  \n",
       "0                     1            1                      1           1  \n",
       "1                     0            1                      0           0  \n",
       "2                     0            1                      1           0  \n",
       "3                     1            0                      1           0  \n",
       "4                     1            0                      1           0  \n",
       "5                     0            0                      0           1  \n",
       "6                     1            1                      0           0  \n",
       "7                     0            0                      1           1  \n",
       "8                     0            0                      0           0  \n",
       "9                     0            0                      0           0  \n",
       "10                    1            1                      1           0  \n",
       "11                    1            0                      1           0  \n",
       "12                    1            0                      1           1  \n",
       "13                    1            0                      0           1  "
      ]
     },
     "execution_count": 2,
     "metadata": {},
     "output_type": "execute_result"
    }
   ],
   "source": [
    "data = pd.read_csv('cat_data.csv')\n",
    "data"
   ]
  },
  {
   "cell_type": "markdown",
   "metadata": {},
   "source": [
    "Separaremos los vectores de entrada $X$, que guardaremos como los renglones de una matriz, de las clases que queremos obtener $Y$ que serán las entradas de un vector. \n",
    "\n",
    "En este ejemplo de juguete ocuparemos todos los datos para entrenar la red, pero debemos recordar que en una aplicación real estos datos deben separarse en entrenamiento y evaluación."
   ]
  },
  {
   "cell_type": "code",
   "execution_count": 3,
   "metadata": {},
   "outputs": [],
   "source": [
    "#Convertir los datos a numpy\n",
    "npData = data.to_numpy()\n",
    "#Ejemplos\n",
    "X = npData[:,:-1]\n",
    "#Clases de los ejemplos\n",
    "Y = npData[:,-1]\n",
    "\n",
    "#Tamaño de los datos\n",
    "#Unidades de entrada\n",
    "m,n = X.shape"
   ]
  },
  {
   "cell_type": "markdown",
   "metadata": {},
   "source": [
    "## Entrenamiento de la red\n",
    "\n",
    "Como hemos señalado, para entrenar la red utilizaremos el método de (batch) gradiente descendiente. Para obtener las derivadas sobre los pesos aplicaremos backpropagation. \n",
    "\n",
    "Eligiremos los hiperparámetros: nuestra red contará con una sola capa oculta con dos unidades ocultas y activación $\\tanh$. Escogeremos un número máximo de iteraciones, un rango de aprendizaje, y además usaremos la regularización de Tychonoff.\n",
    "\n",
    "Inicializaremos los pesos de forma aleatoria."
   ]
  },
  {
   "cell_type": "code",
   "execution_count": 4,
   "metadata": {},
   "outputs": [],
   "source": [
    "np.random.seed(0)\n",
    "\n",
    "#HIPERPARÁMETROS\n",
    "#Número de dimensiones\n",
    "h_dim = 2\n",
    "#Rango de aprendizaje\n",
    "l = 0.01\n",
    "#Regularización\n",
    "reg = 0.2\n",
    "#Número máximo de iteraciones\n",
    "max_it = 1000\n",
    "\n",
    "#Inicialización de parámetros de la red\n",
    "w1 = np.random.rand(n,h_dim)/np.sqrt(n)\n",
    "b1 = np.ones(h_dim)\n",
    "w2 = np.random.rand(h_dim,2)/np.sqrt(h_dim)\n",
    "b2 = np.ones(2)"
   ]
  },
  {
   "cell_type": "markdown",
   "metadata": {},
   "source": [
    "El entrenamiento se divide en dos fases:\n",
    "\n",
    "* Forward: como hemos elegido el método de batch, tomaremos todos los ejemplos y calcularemos las salida sobre todos estos. Nuestra función de salida será la Softmax.\n",
    "* Backward: calcularemos todas las variables del método de backpropagation que después utilizaremos para obtener las derivadas y actualizar los pesos.\n",
    "\n",
    "El algoritmo terminará o bien cuando se haga una clasificación correcta o cuando se sobrepase el número máximo de iteraciones."
   ]
  },
  {
   "cell_type": "code",
   "execution_count": 5,
   "metadata": {},
   "outputs": [
    {
     "name": "stdout",
     "output_type": "stream",
     "text": [
      "Época 0 \t Error 9 \t Entropy 11.285956391735523\n",
      "Época 10 \t Error 5 \t Entropy 9.171032843720772\n",
      "Época 20 \t Error 5 \t Entropy 9.137110693561763\n",
      "Época 30 \t Error 5 \t Entropy 9.132363856993603\n",
      "Época 40 \t Error 5 \t Entropy 9.128200545403368\n",
      "Época 50 \t Error 5 \t Entropy 9.124060389443006\n",
      "Época 60 \t Error 5 \t Entropy 9.119894231018531\n",
      "Época 70 \t Error 5 \t Entropy 9.115665322482895\n",
      "Época 80 \t Error 5 \t Entropy 9.11133499225059\n",
      "Época 90 \t Error 5 \t Entropy 9.106860539205776\n",
      "Época 100 \t Error 5 \t Entropy 9.102193524104806\n",
      "Época 110 \t Error 5 \t Entropy 9.097277734834641\n",
      "Época 120 \t Error 5 \t Entropy 9.092046603842078\n",
      "Época 130 \t Error 5 \t Entropy 9.08641983545956\n",
      "Época 140 \t Error 5 \t Entropy 9.080298899111433\n",
      "Época 150 \t Error 5 \t Entropy 9.073560878089216\n",
      "Época 160 \t Error 5 \t Entropy 9.066049898811558\n",
      "Época 170 \t Error 5 \t Entropy 9.057564936940697\n",
      "Época 180 \t Error 5 \t Entropy 9.047842088388242\n",
      "Época 190 \t Error 5 \t Entropy 9.036528195843287\n",
      "Época 200 \t Error 5 \t Entropy 9.02314065054007\n",
      "Época 210 \t Error 5 \t Entropy 9.007004528720174\n",
      "Época 220 \t Error 5 \t Entropy 8.987151638451683\n",
      "Época 230 \t Error 5 \t Entropy 8.96215412823424\n",
      "Época 240 \t Error 5 \t Entropy 8.929844122273806\n",
      "Época 250 \t Error 5 \t Entropy 8.886836439729567\n",
      "Época 260 \t Error 5 \t Entropy 8.827732757044146\n",
      "Época 270 \t Error 5 \t Entropy 8.743927483129298\n",
      "Época 280 \t Error 5 \t Entropy 8.622426586303217\n",
      "Época 290 \t Error 5 \t Entropy 8.446826421877061\n",
      "Época 300 \t Error 5 \t Entropy 8.204238084133275\n",
      "Época 310 \t Error 5 \t Entropy 7.89425821366594\n",
      "Época 320 \t Error 5 \t Entropy 7.5249176031921605\n",
      "Época 330 \t Error 4 \t Entropy 7.0994696926109135\n",
      "Época 340 \t Error 2 \t Entropy 6.612390422724863\n",
      "Época 350 \t Error 1 \t Entropy 6.0597515488831215\n",
      "Época 360 \t Error 1 \t Entropy 5.457502668227509\n",
      "Época 370 \t Error 1 \t Entropy 4.846110316777649\n",
      "Época 380 \t Error 1 \t Entropy 4.269017791922865\n",
      "Época 390 \t Error 1 \t Entropy 3.752005521507715\n",
      "Época 400 \t Error 1 \t Entropy 3.302749172278324\n",
      "Época 407 \t Error 0 \t Entropy 3.0648464087526346\n"
     ]
    }
   ],
   "source": [
    "t=0 #Primera iteración\n",
    "stop = False #Condición de paro\n",
    "while  stop == False:\n",
    "    #FORWARD\n",
    "    #Pre-activación capa oculta\n",
    "    a = np.dot(X,w1) + b1\n",
    "    #Activación capa oculta\n",
    "    h = np.tanh(a)\n",
    "    #Pre-activación capa de salida\n",
    "    out = np.dot(h,w2)+b2\n",
    "    #Función softmax\n",
    "    exp = np.exp( out) #Resta del máximo\n",
    "    f = exp/exp.sum(1, keepdims=True)\n",
    "    \n",
    "    #BACKPROP\n",
    "    #Variable de capa de salida\n",
    "    d_out = exp/exp.sum(1, keepdims=True)\n",
    "    d_out[range(m),Y] -= 1\n",
    "    #Variable de capa oculta\n",
    "    d_h = (1-h**2)*np.dot(d_out,w2.T)\n",
    "    \n",
    "    #Derivada sobre w2\n",
    "    dw2 = np.dot(h.T,d_out)\n",
    "    #Derivada sobre b2\n",
    "    db2 = d_out.sum(0)\n",
    "    #Derivada sobre w1    \n",
    "    dw1 = np.dot(X.T,d_h)\n",
    "    #Derivada sobre b1\n",
    "    db1 = d_h.sum(0)\n",
    "    #Derivada regularización\n",
    "    dw2 += reg*w2\n",
    "    dw1 += reg*w1\n",
    "    \n",
    "    #Actualización de pesos\n",
    "    w2 -= l*dw2\n",
    "    b2 -= l*db2\n",
    "    w1 -= l*dw1\n",
    "    b1 -= l*db1\n",
    "    \n",
    "    #Cálculo de errores cometidos\n",
    "    error = ((np.argmax(f, axis=1)-Y)**2).sum(0)\n",
    "    if t%10 == 0: \n",
    "        print('Época', t, '\\t Error', error, '\\t Entropy', -np.log(f[range(m),Y]).sum(0))\n",
    "    \n",
    "    #Aumenta la iteración\n",
    "    t += 1\n",
    "    #Condición de paro\n",
    "    if error == 0 or t == max_it:\n",
    "        stop = True\n",
    "        print('Época', t, '\\t Error', error, '\\t Entropy', -np.log(f[range(m),Y]).sum(0))"
   ]
  },
  {
   "cell_type": "markdown",
   "metadata": {},
   "source": [
    "### Exploración de los pesos aprendidos\n",
    "\n",
    "#### Capa oculta\n",
    "\n",
    "Como señalamos, lo que hacen las capas ocultas es tranformar los datos de tal forma que el nuevo espacio (donde los datos están tranformados) pueda encontrarse un separador lineal. Como sólo hemos elegido dos unidades ocultas, podremos visualizar los datos en un espacio de dos dimensiones. Se podrá observar que aquí, se pueden separar los datos por una recta."
   ]
  },
  {
   "cell_type": "code",
   "execution_count": 6,
   "metadata": {},
   "outputs": [
    {
     "data": {
      "image/png": "[encoded data removed]",
      "text/plain": [
       "<Figure size 432x288 with 1 Axes>"
      ]
     },
     "metadata": {
      "needs_background": "light"
     },
     "output_type": "display_data"
    }
   ],
   "source": [
    "#Aplicación de la capa oculta\n",
    "T = np.tanh(np.dot(X,w1)+b1)\n",
    "\n",
    "#Ploteo de los datos transformados\n",
    "plt.scatter(T[:,0],T[:,1],c=Y)\n",
    "plt.title('Ploteo de la capa de salida')\n",
    "plt.xlabel('Dimensión x')\n",
    "plt.ylabel('Dimensión y')\n",
    "plt.show()"
   ]
  },
  {
   "cell_type": "markdown",
   "metadata": {},
   "source": [
    "Lo que este nuevo espacio codifica es muchas veces muy dificil de interpretar, principalmente cuando se utilizan varias capas ocultas. En estos casos, las codificaciones de las capas ocultas son abstractas y, por tanto, no es fácil decir qué está aprendiendo la red. Cuando esto pasa, se habla de <b>deep learning</b>.\n",
    "\n",
    "Afortunadamente, hemos elegido un ejemplo sencillo y una arquitectura neuronal sencilla, por lo que podemos, hasta cierto punto, interpretar lo que la red ha aprendido. Para visualizar la codificación que se hace, hacemos un mapa de los pesos en la capa oculta."
   ]
  },
  {
   "cell_type": "code",
   "execution_count": 7,
   "metadata": {},
   "outputs": [
    {
     "data": {
      "image/png": "[encoded data removed]",
      "text/plain": [
       "<Figure size 432x288 with 2 Axes>"
      ]
     },
     "metadata": {
      "needs_background": "light"
     },
     "output_type": "display_data"
    }
   ],
   "source": [
    "#visualización de pesos en la capa oculta\n",
    "ax = sns.heatmap(w1, linewidth=1.0, xticklabels=['x','y'],yticklabels=list(data.columns)[:-1])\n",
    "ax.set_title('Pesos capa oculta')\n",
    "plt.show()"
   ]
  },
  {
   "cell_type": "code",
   "execution_count": 8,
   "metadata": {},
   "outputs": [
    {
     "data": {
      "text/html": [
       "<div>\n",
       "<style scoped>\n",
       "    .dataframe tbody tr th:only-of-type {\n",
       "        vertical-align: middle;\n",
       "    }\n",
       "\n",
       "    .dataframe tbody tr th {\n",
       "        vertical-align: top;\n",
       "    }\n",
       "\n",
       "    .dataframe thead th {\n",
       "        text-align: right;\n",
       "    }\n",
       "</style>\n",
       "<table border=\"1\" class=\"dataframe\">\n",
       "  <thead>\n",
       "    <tr style=\"text-align: right;\">\n",
       "      <th></th>\n",
       "      <th>¿es animal?</th>\n",
       "      <th>¿es mamífero?</th>\n",
       "      <th>¿es felino?</th>\n",
       "      <th>¿es doméstico?</th>\n",
       "      <th>¿tiene dos orejas?</th>\n",
       "      <th>¿es negro?</th>\n",
       "      <th>¿tiene cuatro patas?</th>\n",
       "    </tr>\n",
       "  </thead>\n",
       "  <tbody>\n",
       "    <tr>\n",
       "      <th>x</th>\n",
       "      <td>-0.065426</td>\n",
       "      <td>-0.191771</td>\n",
       "      <td>-0.227040</td>\n",
       "      <td>-0.186993</td>\n",
       "      <td>0.122683</td>\n",
       "      <td>0.195967</td>\n",
       "      <td>0.061042</td>\n",
       "    </tr>\n",
       "    <tr>\n",
       "      <th>y</th>\n",
       "      <td>-0.415318</td>\n",
       "      <td>0.768389</td>\n",
       "      <td>0.859388</td>\n",
       "      <td>0.789813</td>\n",
       "      <td>-0.225289</td>\n",
       "      <td>-0.337790</td>\n",
       "      <td>-0.383977</td>\n",
       "    </tr>\n",
       "  </tbody>\n",
       "</table>\n",
       "</div>"
      ],
      "text/plain": [
       "   ¿es animal?   ¿es mamífero?   ¿es felino?   ¿es doméstico?  \\\n",
       "x    -0.065426       -0.191771     -0.227040        -0.186993   \n",
       "y    -0.415318        0.768389      0.859388         0.789813   \n",
       "\n",
       "    ¿tiene dos orejas?   ¿es negro?   ¿tiene cuatro patas?  \n",
       "x             0.122683     0.195967               0.061042  \n",
       "y            -0.225289    -0.337790              -0.383977  "
      ]
     },
     "execution_count": 8,
     "metadata": {},
     "output_type": "execute_result"
    }
   ],
   "source": [
    "#Valores de los pesos de las conexiones en capa oculta\n",
    "pd.DataFrame(w1.T, columns=list(data.columns)[:-1], index=['x','y'])"
   ]
  },
  {
   "cell_type": "markdown",
   "metadata": {},
   "source": [
    "#### Capa de salida\n",
    "\n",
    "La capa de salida nos muestra valores probabilísticos de las clases dado los valores de entrada. A partir de estos, podemos hacer una clasificación como:\n",
    "\n",
    "$$\\hat{y} = \\arg\\max_y p(Y=y|X=x)$$\n",
    "\n",
    "Para explorar lo que hace la capa de salida podemos visualizar los pesos en esta capa como hicimos con la capa oculta:"
   ]
  },
  {
   "cell_type": "code",
   "execution_count": 9,
   "metadata": {},
   "outputs": [
    {
     "data": {
      "image/png": "[encoded data removed]",
      "text/plain": [
       "<Figure size 432x288 with 2 Axes>"
      ]
     },
     "metadata": {
      "needs_background": "light"
     },
     "output_type": "display_data"
    }
   ],
   "source": [
    "#Visualización de los pesos en la capa de salida\n",
    "ax = sns.heatmap(w2, linewidth=1.0, xticklabels=['x','y'],yticklabels=['no gato', 'gato'])\n",
    "ax.set_title('Pesos capa salida')\n",
    "plt.show()"
   ]
  },
  {
   "cell_type": "code",
   "execution_count": 14,
   "metadata": {},
   "outputs": [
    {
     "data": {
      "text/html": [
       "<div>\n",
       "<style scoped>\n",
       "    .dataframe tbody tr th:only-of-type {\n",
       "        vertical-align: middle;\n",
       "    }\n",
       "\n",
       "    .dataframe tbody tr th {\n",
       "        vertical-align: top;\n",
       "    }\n",
       "\n",
       "    .dataframe thead th {\n",
       "        text-align: right;\n",
       "    }\n",
       "</style>\n",
       "<table border=\"1\" class=\"dataframe\">\n",
       "  <thead>\n",
       "    <tr style=\"text-align: right;\">\n",
       "      <th></th>\n",
       "      <th>x</th>\n",
       "      <th>y</th>\n",
       "    </tr>\n",
       "  </thead>\n",
       "  <tbody>\n",
       "    <tr>\n",
       "      <th>no gato</th>\n",
       "      <td>0.212482</td>\n",
       "      <td>-0.162968</td>\n",
       "    </tr>\n",
       "    <tr>\n",
       "      <th>gato</th>\n",
       "      <td>-1.352188</td>\n",
       "      <td>1.619170</td>\n",
       "    </tr>\n",
       "  </tbody>\n",
       "</table>\n",
       "</div>"
      ],
      "text/plain": [
       "                x         y\n",
       "no gato  0.212482 -0.162968\n",
       "gato    -1.352188  1.619170"
      ]
     },
     "execution_count": 14,
     "metadata": {},
     "output_type": "execute_result"
    }
   ],
   "source": [
    "#Valores de los pesos en la capa de salida\n",
    "pd.DataFrame(w2, index=['no gato', 'gato'], columns=['x','y'])"
   ]
  },
  {
   "cell_type": "markdown",
   "metadata": {},
   "source": [
    "Como hemos señalado, la red neuronal puede considerarse un estimador estadístico que determina la probabilidad de una clase dado un vector de rasgos de entrada. Podemos visualizar cuáles son las probabilidades que la red estima para cada ejemplo:"
   ]
  },
  {
   "cell_type": "code",
   "execution_count": 11,
   "metadata": {},
   "outputs": [
    {
     "data": {
      "text/html": [
       "<div>\n",
       "<style scoped>\n",
       "    .dataframe tbody tr th:only-of-type {\n",
       "        vertical-align: middle;\n",
       "    }\n",
       "\n",
       "    .dataframe tbody tr th {\n",
       "        vertical-align: top;\n",
       "    }\n",
       "\n",
       "    .dataframe thead th {\n",
       "        text-align: right;\n",
       "    }\n",
       "</style>\n",
       "<table border=\"1\" class=\"dataframe\">\n",
       "  <thead>\n",
       "    <tr style=\"text-align: right;\">\n",
       "      <th></th>\n",
       "      <th>0</th>\n",
       "      <th>1</th>\n",
       "      <th>2</th>\n",
       "      <th>3</th>\n",
       "      <th>4</th>\n",
       "      <th>5</th>\n",
       "      <th>6</th>\n",
       "      <th>7</th>\n",
       "      <th>8</th>\n",
       "      <th>9</th>\n",
       "      <th>10</th>\n",
       "      <th>11</th>\n",
       "      <th>12</th>\n",
       "      <th>13</th>\n",
       "    </tr>\n",
       "  </thead>\n",
       "  <tbody>\n",
       "    <tr>\n",
       "      <th>p(Y=0)</th>\n",
       "      <td>0.494836</td>\n",
       "      <td>0.855077</td>\n",
       "      <td>0.827015</td>\n",
       "      <td>0.816825</td>\n",
       "      <td>0.783145</td>\n",
       "      <td>0.151591</td>\n",
       "      <td>0.958565</td>\n",
       "      <td>0.217734</td>\n",
       "      <td>0.873919</td>\n",
       "      <td>0.944038</td>\n",
       "      <td>0.90396</td>\n",
       "      <td>0.783145</td>\n",
       "      <td>0.297778</td>\n",
       "      <td>0.187556</td>\n",
       "    </tr>\n",
       "    <tr>\n",
       "      <th>p(Y=1)</th>\n",
       "      <td>0.505164</td>\n",
       "      <td>0.144923</td>\n",
       "      <td>0.172985</td>\n",
       "      <td>0.183175</td>\n",
       "      <td>0.216855</td>\n",
       "      <td>0.848409</td>\n",
       "      <td>0.041435</td>\n",
       "      <td>0.782266</td>\n",
       "      <td>0.126081</td>\n",
       "      <td>0.055962</td>\n",
       "      <td>0.09604</td>\n",
       "      <td>0.216855</td>\n",
       "      <td>0.702222</td>\n",
       "      <td>0.812444</td>\n",
       "    </tr>\n",
       "    <tr>\n",
       "      <th>Y</th>\n",
       "      <td>1.000000</td>\n",
       "      <td>0.000000</td>\n",
       "      <td>0.000000</td>\n",
       "      <td>0.000000</td>\n",
       "      <td>0.000000</td>\n",
       "      <td>1.000000</td>\n",
       "      <td>0.000000</td>\n",
       "      <td>1.000000</td>\n",
       "      <td>0.000000</td>\n",
       "      <td>0.000000</td>\n",
       "      <td>0.00000</td>\n",
       "      <td>0.000000</td>\n",
       "      <td>1.000000</td>\n",
       "      <td>1.000000</td>\n",
       "    </tr>\n",
       "  </tbody>\n",
       "</table>\n",
       "</div>"
      ],
      "text/plain": [
       "               0         1         2         3         4         5         6  \\\n",
       "p(Y=0)  0.494836  0.855077  0.827015  0.816825  0.783145  0.151591  0.958565   \n",
       "p(Y=1)  0.505164  0.144923  0.172985  0.183175  0.216855  0.848409  0.041435   \n",
       "Y       1.000000  0.000000  0.000000  0.000000  0.000000  1.000000  0.000000   \n",
       "\n",
       "               7         8         9       10        11        12        13  \n",
       "p(Y=0)  0.217734  0.873919  0.944038  0.90396  0.783145  0.297778  0.187556  \n",
       "p(Y=1)  0.782266  0.126081  0.055962  0.09604  0.216855  0.702222  0.812444  \n",
       "Y       1.000000  0.000000  0.000000  0.00000  0.000000  1.000000  1.000000  "
      ]
     },
     "execution_count": 11,
     "metadata": {},
     "output_type": "execute_result"
    }
   ],
   "source": [
    "#Obtención de probabilidades\n",
    "dot = np.dot(T,w2)+b2\n",
    "dotExp = np.exp(dot)\n",
    "probs = dotExp/dotExp.sum(1, keepdims=True)\n",
    "#Probabilidad de las clases\n",
    "pd.DataFrame(np.concatenate((probs,Y.reshape(14,1)),axis=1).T, index=['p(Y=0)','p(Y=1)','Y'])"
   ]
  },
  {
   "cell_type": "markdown",
   "metadata": {},
   "source": [
    "La salida en cada neurona con la función Softmax tiene un comportamiento similar a la regresión logística, por lo que podemos explorar los datos en la capa de salida en base a esto. Nos enfocamos en la clase \"gato\" o clase 1, pues es la que tiene mayor interés."
   ]
  },
  {
   "cell_type": "code",
   "execution_count": 12,
   "metadata": {},
   "outputs": [
    {
     "data": {
      "image/png": "[encoded data removed]",
      "text/plain": [
       "<Figure size 432x288 with 1 Axes>"
      ]
     },
     "metadata": {
      "needs_background": "light"
     },
     "output_type": "display_data"
    }
   ],
   "source": [
    "#Visualización regresión capa de salida\n",
    "plt.scatter(dot[:,1],Y,c=Y)\n",
    "plt.title('Ploteo de los datos en la capa de salida')\n",
    "plt.ylabel('Clase')\n",
    "plt.xlabel('Preactivación')\n",
    "plt.show()"
   ]
  },
  {
   "cell_type": "markdown",
   "metadata": {},
   "source": [
    "Y también podemos ver cómo se comportan las probabilidades según las clases en esta neurona de salida."
   ]
  },
  {
   "cell_type": "code",
   "execution_count": 13,
   "metadata": {},
   "outputs": [
    {
     "data": {
      "image/png": "[encoded data removed]",
      "text/plain": [
       "<Figure size 432x288 with 1 Axes>"
      ]
     },
     "metadata": {
      "needs_background": "light"
     },
     "output_type": "display_data"
    }
   ],
   "source": [
    "#Ploteo de probabilidades clase \"gato\"\n",
    "plt.scatter(dot[:,1],probs[:,1],c=Y)\n",
    "plt.title('Ploteo de probabilidades')\n",
    "plt.ylabel('Probabilidad')\n",
    "plt.xlabel('Preactivación')\n",
    "plt.show()"
   ]
  },
  {
   "cell_type": "markdown",
   "metadata": {},
   "source": [
    "     "
   ]
  }
 ],
 "metadata": {
  "kernelspec": {
   "display_name": "Python 3",
   "language": "python",
   "name": "python3"
  },
  "language_info": {
   "codemirror_mode": {
    "name": "ipython",
    "version": 3
   },
   "file_extension": ".py",
   "mimetype": "text/x-python",
   "name": "python",
   "nbconvert_exporter": "python",
   "pygments_lexer": "ipython3",
   "version": "3.8.10"
  }
 },
 "nbformat": 4,
 "nbformat_minor": 4
}
