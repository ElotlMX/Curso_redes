{
 "cells": [
  {
   "cell_type": "markdown",
   "id": "439899dd",
   "metadata": {},
   "source": [
    "# Ejemplo de uso de tranformer para traducción\n",
    "\n",
    "El modelo de transformer está adapatado de \"The Annotated Transformer\" disponible en https://nlp.seas.harvard.edu/2018/04/03/attention.html"
   ]
  },
  {
   "cell_type": "code",
   "execution_count": 1,
   "id": "07a8cfad",
   "metadata": {},
   "outputs": [],
   "source": [
    "from transformer import transformer_model\n",
    "import matplotlib.pyplot as plt\n",
    "from collections import defaultdict\n",
    "from elotl.corpus import load"
   ]
  },
  {
   "cell_type": "code",
   "execution_count": 2,
   "id": "1b2de959",
   "metadata": {},
   "outputs": [],
   "source": [
    "#Funcion que crea un vocabulario de palabras con un indice numerico\n",
    "def vocab():\n",
    "    vocab = defaultdict()\n",
    "    vocab.default_factory = lambda: len(vocab)\n",
    "    return vocab    \n",
    "\n",
    "#Funcion que pasa la cadena de simbolos a una secuencia con indices numericos\n",
    "def text2numba(corpus, vocab):\n",
    "    for doc in corpus:\n",
    "        yield [vocab[w] for w in list(doc.strip())]"
   ]
  },
  {
   "cell_type": "code",
   "execution_count": 3,
   "id": "25f7bc0d",
   "metadata": {},
   "outputs": [],
   "source": [
    "#Índices de símbolos especiales\n",
    "PAD_IDX = 0\n",
    "BOS_IDX = 1\n",
    "EOS_IDX = 2\n",
    "OOV_IDX = 3\n",
    "\n",
    "#Función para hacer padding\n",
    "def insert_pad(lista, PAD_IDX=PAD_IDX):    \n",
    "    l = max([len(cad) for cad in lista])\n",
    "    pad_lista = []\n",
    "    for cad in lista:\n",
    "        pad_cad = cad + [PAD_IDX for i in range(l-len(cad))]\n",
    "        pad_lista.append(pad_cad)\n",
    "    return pad_lista\n",
    "\n",
    "#Funcuón para insertar símbolos a las cadenas\n",
    "def process_seqs(seqs,BOS_IDX=BOS_IDX,EOS_IDX=EOS_IDX):\n",
    "    return insert_pad([[BOS_IDX] + cad + [EOS_IDX] for cad in seqs])"
   ]
  },
  {
   "cell_type": "code",
   "execution_count": 4,
   "id": "1bec90db",
   "metadata": {},
   "outputs": [
    {
     "name": "stdout",
     "output_type": "stream",
     "text": [
      "[('buenos días', \"ki hats'i\"), ('bienvenidos', 'hogä ehe'), ('muchas gracias', 'ndunthi di jämadi'), ('regresa pronto', \"mänt'ä gi pengi\"), ('buen provecho', 'nzaki'), ('mi nombre es', 'ma tuhu'), ('pase usted a descansar', 'thogi gi zi tsaya'), ('muchas gracias por su visita', 'ndunthi di jämadi po rá tso̱ni'), ('¡qué disfruten de esta reunión!', \"ga ho ra hmunts'i\"), ('con permiso, ya me voy', 'ko ri zi nseki, ya dá zi ma'), ('nos vemos pronto', 'ga nzenguahu̱'), ('nos vemos, buen camino', \"ga k'athu, hoga 'ñu\"), ('buenas tardes', 'ki dee, texki dee'), ('buenos días', 'haxa juä')]\n"
     ]
    }
   ],
   "source": [
    "#Carcgar el corpus bilingüe\n",
    "corpus = load('tsunkua')\n",
    "\n",
    "src = [sent[0].lower() for sent in corpus if sent[3]=='PRONTUARIO EN  OTOMÍ  / ESPAÑOL HÑÄHÑU']\n",
    "tgt = [sent[1].lower() for sent in corpus if sent[3]=='PRONTUARIO EN  OTOMÍ  / ESPAÑOL HÑÄHÑU']\n",
    "\n",
    "print(list(zip(src,tgt)))"
   ]
  },
  {
   "cell_type": "code",
   "execution_count": 5,
   "id": "17bd3e4f",
   "metadata": {},
   "outputs": [],
   "source": [
    "#src = ['el perro come un hueso', 'un muchacho jugaba', 'el muchacho saltaba la cuerda',\n",
    " #       'un gato come croquetas']\n",
    "#tgt = ['DA NC V DD NC', 'DD NC V', 'DA NC V DA NC', 'DD NC V NC']\n",
    "\n",
    "#Crear vobulario y cadenas\n",
    "#Lenguaje fuente\n",
    "src_voc = vocab()\n",
    "src_voc['<PAD>'] = PAD_IDX\n",
    "src_voc['<BOS>'] = BOS_IDX\n",
    "src_voc['<EOS>'] = EOS_IDX\n",
    "src_voc['<OOV>'] = OOV_IDX\n",
    "src_cads = process_seqs(list(text2numba(src,src_voc)))\n",
    "\n",
    "#Crear vocabulario y cadenas\n",
    "#Lenguaje objetivo\n",
    "tgt_voc = vocab()\n",
    "tgt_voc['<PAD>'] = PAD_IDX\n",
    "tgt_voc['<BOS>'] = BOS_IDX\n",
    "tgt_voc['<EOS>'] = EOS_IDX\n",
    "tgt_cads = process_seqs(list(text2numba(tgt,tgt_voc)))\n",
    "\n",
    "#Longitudes de los vocabulario\n",
    "len_src, len_tgt = len(src_voc), len(tgt_voc)"
   ]
  },
  {
   "cell_type": "code",
   "execution_count": 6,
   "id": "6d06b25d",
   "metadata": {
    "scrolled": true
   },
   "outputs": [],
   "source": [
    "#Se genera el modelo en base a los hiperparámetros\n",
    "model = transformer_model(len_src,len_tgt,N=1, d_model=128,d_ff=128,h=1)"
   ]
  },
  {
   "cell_type": "code",
   "execution_count": 7,
   "id": "266f688c",
   "metadata": {},
   "outputs": [
    {
     "name": "stderr",
     "output_type": "stream",
     "text": [
      "100%|██████████| 1000/1000 [01:19<00:00, 12.51it/s]\n"
     ]
    },
    {
     "data": {
      "image/png": "[encoded data removed]",
      "text/plain": [
       "<Figure size 432x288 with 1 Axes>"
      ]
     },
     "metadata": {
      "needs_background": "light"
     },
     "output_type": "display_data"
    },
    {
     "name": "stdout",
     "output_type": "stream",
     "text": [
      "CPU times: user 7min 59s, sys: 649 ms, total: 7min 59s\n",
      "Wall time: 1min 20s\n"
     ]
    }
   ],
   "source": [
    "%%time\n",
    "#Entrenamiento del modelo\n",
    "model.train(src_cads,tgt_cads,its=1000,batch_size=2)\n",
    "#Plot de la pérdida\n",
    "plt.plot(model.loss)\n",
    "plt.show()"
   ]
  },
  {
   "cell_type": "code",
   "execution_count": 8,
   "id": "ab529390",
   "metadata": {},
   "outputs": [],
   "source": [
    "#Función para convertir cadenas en el formato adecuadi\n",
    "def get_x_input(sents):\n",
    "    x_sents = []\n",
    "    for sent in sents:\n",
    "        x_sent = []\n",
    "        for c in list(sent):\n",
    "            try: \n",
    "                idx_c = src_voc[c]\n",
    "            except: \n",
    "                idx_c = src_voc[OOV_IDX]\n",
    "            x_sent.append(idx_c)\n",
    "        x_sents.append([BOS_IDX] + x_sent + [EOS_IDX])\n",
    "        \n",
    "    return x_sents\n",
    "\n",
    "#Transformar salidas en palabras\n",
    "tgt_voc_rev = {k:v for v,k in tgt_voc.items()}\n",
    "def get_output(sent):\n",
    "    return ''.join([tgt_voc_rev[word] for word in sent if word != 0])"
   ]
  },
  {
   "cell_type": "code",
   "execution_count": 9,
   "id": "c5ddf5d5",
   "metadata": {},
   "outputs": [
    {
     "name": "stdout",
     "output_type": "stream",
     "text": [
      "buen provecho --> <BOS>nzaki<EOS>\n",
      "buenos provechos --> <BOS>nzaki<EOS>\n",
      "bienvenido --> <BOS>hogä ehe<EOS>\n",
      "binvenida --> <BOS>hogä ehe<EOS>\n",
      "nombre --> <BOS>ma tuhu<EOS>\n",
      "mis nombres --> <BOS>ma tuhu<EOS>\n",
      "muchas gracias --> <BOS>ndi di di jämadi<EOS>\n",
      "muchas --> <BOS>ndi di di jämadi<EOS>\n",
      "muchas tardes --> <BOS>nzaki<EOS>\n",
      "grcias muchs --> <BOS>ndi di di jämadi<EOS>\n",
      "mushas grasias --> <BOS>ndi hi di jämadi<EOS>\n"
     ]
    }
   ],
   "source": [
    "sents = ['buen provecho', 'buenos provechos','bienvenido', 'binvenida', 'nombre', 'mis nombres', 'muchas gracias', \n",
    "         'muchas', 'muchas tardes', 'grcias muchs', 'mushas grasias']\n",
    "\n",
    "for i,sent in enumerate(get_x_input(sents)):\n",
    "    pred = model.predict([sent],BOS=BOS_IDX, max_len=100).tolist()\n",
    "    print('{} --> {}'.format(sents[i],get_output(pred)))"
   ]
  },
  {
   "cell_type": "code",
   "execution_count": null,
   "id": "88c5f5a4",
   "metadata": {},
   "outputs": [],
   "source": []
  }
 ],
 "metadata": {
  "kernelspec": {
   "display_name": "Python 3",
   "language": "python",
   "name": "python3"
  },
  "language_info": {
   "codemirror_mode": {
    "name": "ipython",
    "version": 3
   },
   "file_extension": ".py",
   "mimetype": "text/x-python",
   "name": "python",
   "nbconvert_exporter": "python",
   "pygments_lexer": "ipython3",
   "version": "3.8.8"
  }
 },
 "nbformat": 4,
 "nbformat_minor": 5
}
